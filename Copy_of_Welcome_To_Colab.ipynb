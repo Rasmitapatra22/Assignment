{
  "cells": [
    {
      "cell_type": "markdown",
      "source": [
        "1. What is the difference between a function and a method in Python.\n",
        "\n",
        "   ** Python Method**\n",
        "\n",
        "     1.Method is called by its name, but it is associated to an object (dependent).\n",
        "     2.A method definition always includes ‘self’ as its first parameter.\n",
        "     3.A method is implicitly passed to the object on which it is invoked.\n",
        "     4.It may or may not return any data.\n",
        "     5.A method can operate on the data (instance variables) that is contained by the corresponding class.\n",
        "\n",
        "   ** Python Functions**\n",
        "\n",
        "      Function is block of code that is also called by its name. (independent)\n",
        "      The function can have different parameters or may not have any at all. If any data (parameters) are passed, they are passed explicitly.\n",
        "     It may or may not return any data.\n",
        "     Function does not deal with Class and its instance concept."
      ],
      "metadata": {
        "id": "RAsxCoZKuCJo"
      }
    },
    {
      "cell_type": "code",
      "source": [
        "#method exam\n",
        "class ABC :\n",
        "    def method_abc (self):\n",
        "        print(\"I am in method_abc of ABC class. \")\n",
        "\n",
        "class_ref = ABC()\n",
        "class_ref.method_abc()\n",
        "\n",
        "#function exam\n",
        "def Subtract (a, b):\n",
        "    return (a-b)\n",
        "\n",
        "print( Subtract(10, 12) )\n",
        "\n",
        "print( Subtract(15, 6) )"
      ],
      "metadata": {
        "id": "7W1e3-yyuCiZ",
        "outputId": "76f30221-38ae-421f-a3b8-6ba257c8471b",
        "colab": {
          "base_uri": "https://localhost:8080/"
        }
      },
      "execution_count": null,
      "outputs": [
        {
          "output_type": "stream",
          "name": "stdout",
          "text": [
            "I am in method_abc of ABC class. \n",
            "-2\n",
            "9\n"
          ]
        }
      ]
    },
    {
      "cell_type": "markdown",
      "source": [
        "2.Explain the concept of function arguments and parameters in Python.\n",
        "\n",
        "  **Arguments:**\n",
        "      An argument is a value that is passed to a function when it is called. It might be a variable, value or object passed to a function or method as input. They are written when we are calling the function. Python functions can contain two types of arguments:\n",
        "      \n",
        "              Positional Arguments\n",
        "               Keyword Arguments\n",
        "\n",
        "   **Parameters:**\n",
        "        A parameter is the variable defined within the parentheses during function definition. Simply they are written when we declare a function."
      ],
      "metadata": {
        "id": "5ALr8oK0wRJS"
      }
    },
    {
      "cell_type": "code",
      "source": [
        "#argument\n",
        "\n",
        "def person_name(first_name,second_name):\n",
        "  print(first_name+second_name)\n",
        "\n",
        "person_name(\"Ram\",\"Babu\")\n",
        "\n",
        "\n",
        "#parameter\n",
        "def sum(a,b):\n",
        "  print(a+b)\n",
        "\n",
        "sum(1,2)"
      ],
      "metadata": {
        "id": "V2Ew7veowRka",
        "outputId": "fd6ecbfe-e69c-40b0-bad1-f8dc80586cad",
        "colab": {
          "base_uri": "https://localhost:8080/"
        }
      },
      "execution_count": null,
      "outputs": [
        {
          "output_type": "stream",
          "name": "stdout",
          "text": [
            "RamBabu\n",
            "3\n"
          ]
        }
      ]
    },
    {
      "cell_type": "markdown",
      "source": [
        "3.What are the different ways to define and call a function in Python?\n",
        "\n",
        "     The four steps to defining a function in Python are the following:\n",
        "\n",
        "   Use the keyword def to declare the function and follow this up with the function name.\n",
        "  Add parameters to the function: they should be within the parentheses of the function. End your line with a colon.\n",
        "  Add statements that the functions should execute.\n",
        "  End your function with a return statement if the function should output something. Without the return statement, your function will return an object None.\n",
        "\n",
        "  **Call a Function**\n",
        "\n",
        "   In the previous sections, you have seen a lot of examples already of how you can call a function. Calling a function means that you execute the function that you have defined - either directly from the Python prompt or through another function (as you will see in the section “Nested Functions”)."
      ],
      "metadata": {
        "id": "tN8vnXPNx_c4"
      }
    },
    {
      "cell_type": "code",
      "source": [
        "def hello():\n",
        "  name = str(input(\"Enter your name: \"))\n",
        "  if name:\n",
        "    print (\"Hello \" + str(name))\n",
        "  else:\n",
        "    print(\"Hello World\")\n",
        "  return\n",
        "\n",
        "hello()\n",
        "\n",
        "\n"
      ],
      "metadata": {
        "id": "P7-vR9Jtx_xJ",
        "outputId": "74e56fe4-a01b-4b47-cc77-a140e53f3f62",
        "colab": {
          "base_uri": "https://localhost:8080/"
        }
      },
      "execution_count": null,
      "outputs": [
        {
          "output_type": "stream",
          "name": "stdout",
          "text": [
            "Enter your name: rasmita\n",
            "Hello rasmita\n"
          ]
        }
      ]
    },
    {
      "cell_type": "code",
      "source": [
        "#call\n",
        "\n",
        "def greet(name):\n",
        "    print(\"Hello, \" + name + \"! How are you?\")\n",
        "\n",
        "greet(\"John\")\n"
      ],
      "metadata": {
        "id": "4JrIVyDU0-fl",
        "outputId": "8a28e169-cb0c-4c95-9d24-5dc6e5f854ce",
        "colab": {
          "base_uri": "https://localhost:8080/"
        }
      },
      "execution_count": null,
      "outputs": [
        {
          "output_type": "stream",
          "name": "stdout",
          "text": [
            "Hello, John! How are you?\n"
          ]
        }
      ]
    },
    {
      "cell_type": "markdown",
      "source": [
        "4.What is the purpose of the `return` statement in a Python function?\n",
        "\n",
        "   A return statement is used to end the execution of the function call and “returns” the result (value of the expression following the return keyword) to the caller. The statements after the return statements are not executed. If the return statement is without any expression, then the special value None is returned. A return statement is overall used to invoke a function so that the passed statements can be executed."
      ],
      "metadata": {
        "id": "br0k4eFi1V3M"
      }
    },
    {
      "cell_type": "code",
      "source": [
        "def add(a, b):\n",
        "\n",
        "    # returning sum of a and b\n",
        "    return a + b\n",
        "\n",
        "def is_true(a):\n",
        "\n",
        "    # returning boolean of a\n",
        "    return bool(a)\n",
        "\n",
        "# calling function\n",
        "res = add(2, 3)\n",
        "print(\"Result of add function is {}\".format(res))\n",
        "\n",
        "res = is_true(2<5)\n",
        "print(\"\\nResult of is_true function is {}\".format(res))"
      ],
      "metadata": {
        "id": "ztClBEQ61WIp",
        "outputId": "66216f20-3a79-42b6-b278-d5f72fbe9692",
        "colab": {
          "base_uri": "https://localhost:8080/"
        }
      },
      "execution_count": null,
      "outputs": [
        {
          "output_type": "stream",
          "name": "stdout",
          "text": [
            "Result of add function is 5\n",
            "\n",
            "Result of is_true function is True\n"
          ]
        }
      ]
    },
    {
      "cell_type": "markdown",
      "source": [
        "5.What are iterators in Python and how do they differ from iterables?\n",
        "   \n",
        "   An iterator is an object that contains a countable number of values.\n",
        "\n",
        "An iterator is an object that can be iterated upon, meaning that you can traverse through all the values.\n",
        "\n",
        "Technically, in Python, an iterator is an object which implements the iterator protocol, which consist of the methods __iter__() and __next__().\n",
        "\n",
        "\n",
        "     Iterable is an object, that one can iterate over. It generates an Iterator when passed to iter() method.\n",
        "\n",
        "     iterator is an object, which is used to iterate over an iterable object using the __next__() method. Iterators have the __next__() method, which returns the next item of the object."
      ],
      "metadata": {
        "id": "0leD-2AP3Eyx"
      }
    },
    {
      "cell_type": "code",
      "source": [
        "cities = [\"Berlin\", \"Vienna\", \"Zurich\"]\n",
        "\n",
        "\n",
        "iterator_obj = iter(cities)\n",
        "\n",
        "print(next(iterator_obj))\n",
        "print(next(iterator_obj))\n",
        "print(next(iterator_obj))"
      ],
      "metadata": {
        "id": "fWVTzILL3FLy",
        "outputId": "152633fe-f6f2-4259-dbcc-fb9c6b7dc639",
        "colab": {
          "base_uri": "https://localhost:8080/"
        }
      },
      "execution_count": null,
      "outputs": [
        {
          "output_type": "stream",
          "name": "stdout",
          "text": [
            "Berlin\n",
            "Vienna\n",
            "Zurich\n"
          ]
        }
      ]
    },
    {
      "cell_type": "markdown",
      "source": [
        "6.Explain the concept of generators in Python and how they are defined.\n",
        "    \n",
        "     A Generator in Python is a function that returns an iterator using the Yield keyword. In this article, we will discuss how the generator function works in Python.\n",
        "\n",
        "Generator Function in Python\n",
        "A generator function in Python is defined like a normal function, but whenever it needs to generate a value, it does so with the yield keyword rather than return. If the body of a def contains yield, the function automatically becomes a Python generator function.\n",
        "\n",
        "\n",
        "Generator Object\n",
        "Python Generator functions return a generator object that is iterable, i.e., can be used as an Iterator. Generator objects are used either by calling the next method of the generator object or using the generator object in a “for in” loop."
      ],
      "metadata": {
        "id": "zQ33sM_r4peq"
      }
    },
    {
      "cell_type": "code",
      "source": [
        "def simpleGeneratorFun():\n",
        "    yield 1\n",
        "    yield 2\n",
        "    yield 3\n",
        "\n",
        "# x is a generator object\n",
        "x = simpleGeneratorFun()\n",
        "\n",
        "# Iterating over the generator object using next\n",
        "\n",
        "# In Python 3, __next__()\n",
        "print(next(x))\n",
        "print(next(x))\n",
        "print(next(x))"
      ],
      "metadata": {
        "id": "FVuz6V_d4p4s",
        "outputId": "dbff4055-c98d-49e5-90e9-d44b8065e798",
        "colab": {
          "base_uri": "https://localhost:8080/"
        }
      },
      "execution_count": null,
      "outputs": [
        {
          "output_type": "stream",
          "name": "stdout",
          "text": [
            "1\n",
            "2\n",
            "3\n"
          ]
        }
      ]
    },
    {
      "cell_type": "markdown",
      "source": [
        "7.What are the advantages of using generators over regular functions?\n",
        "\n",
        "   There are several advantages to using generators over regular loops. Here are a few of the most important ones:\n",
        "\n",
        "Memory Efficiency: One of the biggest advantages of generators is that they are memory efficient. Since a generator yields its values one by one, it does not need to store all of the values in memory at once. This can be especially useful when working with large data sets, as it reduces the risk of running out of memory.\n",
        "Readability: Generators can make your code easier to read and understand. By breaking up the iteration process into smaller chunks, you can write code that is more concise and easier to follow.\n",
        "Speed: Generators can also be faster than regular loops, especially when working with large data sets. This is because they avoid the overhead of creating a list or other data structure to store the results."
      ],
      "metadata": {
        "id": "nlGqtMtJ5sTi"
      }
    },
    {
      "cell_type": "code",
      "source": [
        "def Square():\n",
        "\n",
        "    number = 2\n",
        "\n",
        "    #Create infinite loop\n",
        "    while True:\n",
        "        # Yield the current value of 'number'\n",
        "        yield number\n",
        "\n",
        "        # Calculate the square of 'number' and update its value\n",
        "        number *= number\n",
        "\n",
        "# Create a generator object 'Sq' by calling the 'Square()' generator function\n",
        "Sq = Square()\n",
        "\n",
        "# Function call\n",
        "print(next(Sq))  # Output: 2\n",
        "\n",
        "\n",
        "print(next(Sq))"
      ],
      "metadata": {
        "id": "o7m23J0z5so6",
        "outputId": "5af95ee1-9ae2-4123-a122-d69359421ea0",
        "colab": {
          "base_uri": "https://localhost:8080/"
        }
      },
      "execution_count": null,
      "outputs": [
        {
          "output_type": "stream",
          "name": "stdout",
          "text": [
            "2\n",
            "4\n"
          ]
        }
      ]
    },
    {
      "cell_type": "markdown",
      "source": [
        "8.What is a lambda function in Python and when is it typically used?\n",
        "\n",
        "  Lambda is a keyword in Python for defining the anonymous function.\n",
        "argument(s) is a placeholder, that is a variable that will be used to hold the value you want to pass into the function expression. A lambda function can have multiple variables depending on what you want to achieve.\n",
        "expression is the code you want to execute in the lambda function.\n",
        "\n",
        "You should use the lambda function to create simple expressions. For example, expressions that do not include complex structures such as if-else, for-loops, and so on.\n",
        "\n",
        "So, for example, if you want to create a function with a for-loop, you should use a user-defined function.\n",
        "\n",
        "An iterable is essentially anything that consists of a series of values, such as characters, numbers, and so on.\n",
        "\n",
        "In Python, iterables include strings, lists, dictionaries, ranges, tuples, and so on. When working with iterables, you can use lambda functions in conjunction with two common functions: filter() and map()."
      ],
      "metadata": {
        "id": "03JW-nEv6l6p"
      }
    },
    {
      "cell_type": "code",
      "source": [
        "format_numeric = lambda num: f\"{num:e}\" if isinstance(num, int) else f\"{num:,.2f}\"\n",
        "\n",
        "print(\"Int formatting:\", format_numeric(1000000))\n",
        "print(\"float formatting:\", format_numeric(999999.789541235))"
      ],
      "metadata": {
        "id": "JTkysghk6mYn",
        "colab": {
          "base_uri": "https://localhost:8080/"
        },
        "outputId": "3b0d7408-0f08-4109-f3c6-3bf0039863f5"
      },
      "execution_count": null,
      "outputs": [
        {
          "output_type": "stream",
          "name": "stdout",
          "text": [
            "Int formatting: 1.000000e+06\n",
            "float formatting: 999,999.79\n"
          ]
        }
      ]
    },
    {
      "cell_type": "markdown",
      "source": [
        "9. Explain the purpose and usage of the `map()` function in Python.\n",
        "\n",
        "  The map() function is used to apply a given function to every item of an iterable, such as a list or tuple, and returns a map object (which is an iterator).\n",
        "  function: The function we want to apply to every element of the iterable.\n",
        "iterable: The iterable whose elements we want to process."
      ],
      "metadata": {
        "id": "BvGJGWbY9-QG"
      }
    },
    {
      "cell_type": "code",
      "source": [
        "s = ['1', '2', '3', '4']\n",
        "res = map(int, s)\n",
        "print(list(res))"
      ],
      "metadata": {
        "colab": {
          "base_uri": "https://localhost:8080/"
        },
        "id": "S3cMxuwl9-tD",
        "outputId": "c129e7a7-bd1a-44ec-86d1-af712b1f6c68"
      },
      "execution_count": null,
      "outputs": [
        {
          "output_type": "stream",
          "name": "stdout",
          "text": [
            "[1, 2, 3, 4]\n"
          ]
        }
      ]
    },
    {
      "cell_type": "markdown",
      "source": [
        "10.What is the difference between `map()`, `reduce()`, and `filter()` functions in Python?\n",
        "\n",
        "  **Map Function in Python**\n",
        "The map () function returns a map object(which is an iterator) of the results after applying the given function to each item of a given iterable (list, tuple, etc.).\n",
        "fun: It is a function to which map passes each element of given iterable.\n",
        "iter:  iterable object to be mapped.\n",
        "   \n",
        "   ** Reduce Function in Python**\n",
        "The reduce function is used to apply a particular function passed in its argument to all of the list elements mentioned in the sequence passed along.This function is defined in “functools” module.\n",
        "fun: It is a function to execuate on each element of the iterable objec\n",
        "iter: It is iterable to be reduced.\n",
        "\n",
        "  ** Filter Function in Python**\n",
        "  The filter() method filters the given sequence with the help of a function that tests each element in the sequence to be true or not.\n",
        "  function: function that tests if each element of a sequence is true or not.\n",
        "sequence: sequence which needs to be filtered, it can be sets, lists, tuples, or containers of any iterators.\n",
        "   "
      ],
      "metadata": {
        "id": "uPZOofIJ-8Xe"
      }
    },
    {
      "cell_type": "code",
      "source": [
        "#Map\n",
        "\n",
        "def double(n):\n",
        "    return n * 2\n",
        "\n",
        "# Using map to double all numbers\n",
        "numbers = [5, 6, 7, 8]\n",
        "result = map(double, numbers)\n",
        "print(list(result))\n",
        "\n",
        "\n",
        "\n",
        "#reduce\n",
        "\n",
        "import functools\n",
        "\n",
        "# Define a list of numbers\n",
        "numbers = [1, 2, 3, 4]\n",
        "\n",
        "# Use reduce to compute the product of list elements\n",
        "product = functools.reduce(lambda x, y: x * y, numbers)\n",
        "print(\"Product of list elements:\", product)\n",
        "\n",
        "\n",
        "\n",
        "#fillter\n",
        "\n",
        "def is_even(n):\n",
        "    return n % 2 == 0\n",
        "\n",
        "# Define a list of numbers\n",
        "numbers = [1, 2, 3, 4, 5, 6, 7, 8, 9, 10]\n",
        "\n",
        "# Use filter to filter out even numbers\n",
        "even_numbers = filter(is_even, numbers)\n",
        "print(\"Even numbers:\", list(even_numbers))"
      ],
      "metadata": {
        "colab": {
          "base_uri": "https://localhost:8080/"
        },
        "id": "GsiXg7N1-878",
        "outputId": "e87fbddb-0ae6-49c8-a7be-07533019d3c4"
      },
      "execution_count": null,
      "outputs": [
        {
          "output_type": "stream",
          "name": "stdout",
          "text": [
            "[10, 12, 14, 16]\n",
            "Product of list elements: 24\n",
            "Even numbers: [2, 4, 6, 8, 10]\n"
          ]
        }
      ]
    },
    {
      "cell_type": "markdown",
      "source": [
        "1. Write a Python function that takes a list of numbers as input and returns the sum of all even numbers in\n",
        "the list."
      ],
      "metadata": {
        "id": "lI8xS_DXAzE2"
      }
    },
    {
      "cell_type": "code",
      "source": [
        "test_list = [39, 86, 15, 34, 46]\n",
        "\n",
        "# printing original list\n",
        "print(\"The original list is : \" + str(test_list))\n",
        "\n",
        "even_sum = 0\n",
        "\n",
        "for sub in test_list:\n",
        "    for ele in str(sub):\n",
        "\n",
        "        if int(ele) % 2 == 0:\n",
        "            even_sum += int(ele)\n",
        "\n",
        "\n",
        "print(\"Even digit sum : \" + str(even_sum))"
      ],
      "metadata": {
        "colab": {
          "base_uri": "https://localhost:8080/"
        },
        "id": "3nr8HNtKAzhs",
        "outputId": "35f88978-2420-4dfb-a3bb-dbb755bba434"
      },
      "execution_count": null,
      "outputs": [
        {
          "output_type": "stream",
          "name": "stdout",
          "text": [
            "The original list is : [39, 86, 15, 34, 46]\n",
            "Even digit sum : 28\n"
          ]
        }
      ]
    },
    {
      "cell_type": "markdown",
      "source": [
        "2.Create a Python function that accepts a string and returns the reverse of that string."
      ],
      "metadata": {
        "id": "ptFACwAwC5bk"
      }
    },
    {
      "cell_type": "code",
      "source": [
        "s = \"i am indian\"\n",
        "rev = ''.join(reversed(s))\n",
        "print(rev)"
      ],
      "metadata": {
        "colab": {
          "base_uri": "https://localhost:8080/"
        },
        "id": "rgfn0HYEC5sz",
        "outputId": "8b17cd69-413e-4866-b0cd-42ead78728a0"
      },
      "execution_count": null,
      "outputs": [
        {
          "output_type": "stream",
          "name": "stdout",
          "text": [
            "naidni ma i\n"
          ]
        }
      ]
    },
    {
      "cell_type": "markdown",
      "source": [
        "3.Implement a Python function that takes a list of integers and returns a new list containing the squares of\n",
        "each number."
      ],
      "metadata": {
        "id": "WvhM5eGRC6A8"
      }
    },
    {
      "cell_type": "code",
      "source": [
        "nums = [1, 2, 3, 4, 5, 6, 7, 8, 9, 10]\n",
        "\n",
        "\n",
        "print(\"Original list of integers:\")\n",
        "print(nums)\n",
        "\n",
        "print(\"\\nSquare every number of the said list:\")\n",
        "\n",
        "\n",
        "square_nums = list(map(lambda x: x ** 2, nums))\n",
        "print(square_nums)\n"
      ],
      "metadata": {
        "colab": {
          "base_uri": "https://localhost:8080/"
        },
        "id": "3NSZgnalC6Un",
        "outputId": "9ce323a2-a6bb-45dc-cfe5-ce04d4cf2e84"
      },
      "execution_count": null,
      "outputs": [
        {
          "output_type": "stream",
          "name": "stdout",
          "text": [
            "Original list of integers:\n",
            "[1, 2, 3, 4, 5, 6, 7, 8, 9, 10]\n",
            "\n",
            "Square every number of the said list:\n",
            "[1, 4, 9, 16, 25, 36, 49, 64, 81, 100]\n"
          ]
        }
      ]
    },
    {
      "cell_type": "markdown",
      "source": [
        "4.Write a Python function that checks if a given number is prime or not from 1 to 200."
      ],
      "metadata": {
        "id": "TIZ1N6LEFA9z"
      }
    },
    {
      "cell_type": "code",
      "source": [
        "def is_prime(num):\n",
        "    if num <= 1:\n",
        "        return False\n",
        "    for i in range(2, int(num**0.5) + 1):\n",
        "        if num % i == 0:\n",
        "            return False\n",
        "    return True\n",
        "primes = []\n",
        "for num in range(1, 200):\n",
        "    if is_prime(num):\n",
        "        primes.append(num)\n",
        "print(primes)"
      ],
      "metadata": {
        "colab": {
          "base_uri": "https://localhost:8080/"
        },
        "id": "R-8hbjZ0FBTI",
        "outputId": "7578414d-964b-4a22-9289-0dca7262476d"
      },
      "execution_count": null,
      "outputs": [
        {
          "output_type": "stream",
          "name": "stdout",
          "text": [
            "[2, 3, 5, 7, 11, 13, 17, 19, 23, 29, 31, 37, 41, 43, 47, 53, 59, 61, 67, 71, 73, 79, 83, 89, 97, 101, 103, 107, 109, 113, 127, 131, 137, 139, 149, 151, 157, 163, 167, 173, 179, 181, 191, 193, 197, 199]\n"
          ]
        }
      ]
    },
    {
      "cell_type": "markdown",
      "source": [
        "5.Create an iterator class in Python that generates the Fibonacci sequence up to a specified number of\n",
        "terms."
      ],
      "metadata": {
        "id": "h3LWBCqGG8b6"
      }
    },
    {
      "cell_type": "code",
      "source": [
        "def fibonacci(n):\n",
        "\n",
        "    l = [0,1]\n",
        "    for i in range(2,n):\n",
        "        l.append(l[-1]+l[-2])\n",
        "    return l\n",
        "if __name__ == \"__main__\":\n",
        "\n",
        "    n = 10\n",
        "\n",
        "    fibo = fibonacci(n)\n",
        "\n",
        "    print(\"Fibonacci Series: \",*fibo)"
      ],
      "metadata": {
        "colab": {
          "base_uri": "https://localhost:8080/"
        },
        "id": "GPerE5lEG88l",
        "outputId": "4f94bd9b-dfe5-41d9-82d2-51a011ad1374"
      },
      "execution_count": null,
      "outputs": [
        {
          "output_type": "stream",
          "name": "stdout",
          "text": [
            "Fibonacci Series:  0 1 1 2 3 5 8 13 21 34\n"
          ]
        }
      ]
    },
    {
      "cell_type": "markdown",
      "source": [
        "6.Write a generator function in Python that yields the powers of 2 up to a given exponent."
      ],
      "metadata": {
        "id": "ftJVaIxSH0bm"
      }
    },
    {
      "cell_type": "code",
      "source": [
        "powers_of_2 = [2**x for x in range(1, 11)]\n",
        "print(powers_of_2)"
      ],
      "metadata": {
        "colab": {
          "base_uri": "https://localhost:8080/"
        },
        "id": "3luMDjk9H065",
        "outputId": "fce5b9d7-afb2-4ad5-d332-2e44585bed27"
      },
      "execution_count": null,
      "outputs": [
        {
          "output_type": "stream",
          "name": "stdout",
          "text": [
            "[2, 4, 8, 16, 32, 64, 128, 256, 512, 1024]\n"
          ]
        }
      ]
    },
    {
      "cell_type": "markdown",
      "source": [
        "7.Implement a generator function that reads a file line by line and yields each line as a string."
      ],
      "metadata": {
        "id": "n7gHxprGJj7C"
      }
    },
    {
      "cell_type": "code",
      "source": [
        "L = [\"india\\n\", \"for\\n\", \"bharat\\n\"]\n",
        "\n",
        "# Writing to file\n",
        "file1 = open('myfile.txt', 'w')\n",
        "file1.writelines(L)\n",
        "file1.close()\n",
        "\n",
        "# Opening file\n",
        "file1 = open('myfile.txt', 'r')\n",
        "count = 0\n",
        "\n",
        "# Using for loop\n",
        "print(\"Using for loop\")\n",
        "for line in file1:\n",
        "    count += 1\n",
        "    print(\"Line{}: {}\".format(count, line.strip()))\n",
        "\n",
        "# Closing files\n",
        "file1.close()"
      ],
      "metadata": {
        "colab": {
          "base_uri": "https://localhost:8080/"
        },
        "id": "t2nD55htJkYq",
        "outputId": "95495de0-397e-4766-86b5-86ce54ab490f"
      },
      "execution_count": null,
      "outputs": [
        {
          "output_type": "stream",
          "name": "stdout",
          "text": [
            "Using for loop\n",
            "Line1: india\n",
            "Line2: for\n",
            "Line3: bharat\n"
          ]
        }
      ]
    },
    {
      "cell_type": "markdown",
      "source": [
        "8.Use a lambda function in Python to sort a list of tuples based on the second element of each tuple."
      ],
      "metadata": {
        "id": "BJlsi0A8KWNd"
      }
    },
    {
      "cell_type": "code",
      "source": [
        "test_list = [('a', 2), ('c', 3), ('d', 4)]\n",
        "\n",
        "# initializing sort order\n",
        "sort_order = [4, 2, 3]\n",
        "\n",
        "# printing the original list\n",
        "print(\"The original list is : \" + str(test_list))\n",
        "\n",
        "# printing sort order list\n",
        "print(\"The sort order list is : \" + str(sort_order))\n",
        "\n",
        "# using sorted() + index() + lambda\n",
        "# sort list of tuples according to second\n",
        "res = list(sorted(test_list,\n",
        "                  key=lambda i: sort_order.index(i[1])))\n",
        "\n",
        "# printing result\n",
        "print(\"The list after appropriate sorting : \" + str(res))"
      ],
      "metadata": {
        "colab": {
          "base_uri": "https://localhost:8080/"
        },
        "id": "kQtcXB30KWo5",
        "outputId": "e2f03f01-c8d4-4739-ef8b-459aa0d1a114"
      },
      "execution_count": null,
      "outputs": [
        {
          "output_type": "stream",
          "name": "stdout",
          "text": [
            "The original list is : [('a', 2), ('c', 3), ('d', 4)]\n",
            "The sort order list is : [4, 2, 3]\n",
            "The list after appropriate sorting : [('d', 4), ('a', 2), ('c', 3)]\n"
          ]
        }
      ]
    },
    {
      "cell_type": "markdown",
      "source": [
        "9.Write a Python program that uses `map()` to convert a list of temperatures from Celsius to Fahrenheit."
      ],
      "metadata": {
        "id": "mdl60wpFLBai"
      }
    },
    {
      "cell_type": "code",
      "source": [
        "celsius = 47\n",
        "\n",
        "# Converting the temperature to\n",
        "# fehrenheit using the formula\n",
        "fahrenheit = (celsius * 1.8) + 32\n",
        "\n",
        "# printing the result\n",
        "print('%.2f Celsius is equivalent to: %.2f Fahrenheit'\n",
        "      % (celsius, fahrenheit))"
      ],
      "metadata": {
        "colab": {
          "base_uri": "https://localhost:8080/"
        },
        "id": "X8362yPXLB5k",
        "outputId": "823c0891-b455-4e6d-b27c-581719e81bc4"
      },
      "execution_count": null,
      "outputs": [
        {
          "output_type": "stream",
          "name": "stdout",
          "text": [
            "47.00 Celsius is equivalent to: 116.60 Fahrenheit\n"
          ]
        }
      ]
    },
    {
      "cell_type": "markdown",
      "source": [
        "10. Create a Python program that uses `filter()` to remove all the vowels from a given string."
      ],
      "metadata": {
        "id": "uTS7UV2bLjLP"
      }
    },
    {
      "cell_type": "code",
      "source": [
        "def rem_vowel(string):\n",
        "    vowels = ['a','e','i','o','u']\n",
        "    result = [letter for letter in string if letter.lower() not in vowels]\n",
        "    result = ''.join(result)\n",
        "    print(result)\n",
        "\n",
        "# Driver program\n",
        "string = \"A Computer Science Portal\"\n",
        "rem_vowel(string)\n",
        "string = \"Loving Python LOL\"\n",
        "rem_vowel(string)"
      ],
      "metadata": {
        "colab": {
          "base_uri": "https://localhost:8080/"
        },
        "id": "pw25LKvULjwQ",
        "outputId": "6d2e9b47-d9ff-49ca-87b4-769f4af02c6f"
      },
      "execution_count": null,
      "outputs": [
        {
          "output_type": "stream",
          "name": "stdout",
          "text": [
            " Cmptr Scnc Prtl\n",
            "Lvng Pythn LL\n"
          ]
        }
      ]
    },
    {
      "cell_type": "markdown",
      "source": [
        "11) Imagine an accounting routine used in a book shop. It works on a list with sublists, which look like this:\n",
        "\n",
        "Order Number\tBook Title and Author\tQuantity\tPrice per Item\n",
        "34587\tLearning Python, Mark Lutz\t4\t40.95\n",
        "98762\tProgramming Python, Mark Lutz\t5\t56.80\n",
        "77226\tHead First Python, Paul Barry\t3\t32.95\n",
        "88112\tEinführung in Python3, Bernd Klein\t3\t24.99\n",
        "\n",
        "\n",
        "\n",
        "\n",
        "\n",
        "Write a Python program, which returns a list with 2-tuples. Each tuple consists of the order number and the\n",
        "product of the price per item and the quantity. The product should be increased by 10,- € if the value of the\n",
        "order is smaller than 100,00 €.\n",
        "\n",
        "Write a Python program using lambda and map"
      ],
      "metadata": {
        "id": "iJPUR9GJNz2N"
      }
    },
    {
      "cell_type": "code",
      "source": [
        "order = [[34587,'Learning Python','Mark Lutz',4,40.95],\n",
        "         [98762,'Programming Python','Mark Lutz',5,56.80],\n",
        "         [77226,'Head First Python','Paul Barry',3,32.95],\n",
        "         [88112,'Einführung in Python3','Bernd Klein',3,24.99]\n",
        "        ]\n",
        "\n",
        "#without using lambda,map,list comprehension\n",
        "\n",
        "lists = []\n",
        "for item in order:\n",
        "    if item[-1]*item[-2] < 100:\n",
        "        lists.append((item[0],item[-1]*item[-2]+10))\n",
        "    else:\n",
        "        lists.append((item[0],item[-1]*item[-2]))\n",
        "\n",
        "print(\"Order Summary: \",lists)\n",
        "\n",
        "\n",
        "\n",
        "\n",
        "\n",
        "#with using lambda and map\n",
        "print(\"Order Summary: \",list(map(lambda x: (x[0],x[-1]) if x[-1]*x[-2] > 100 else x[-1]*x[-2]+10, order)))\n",
        "\n",
        "\n",
        "#with using list comprehension\n",
        "print(\"Order Summary: \",[(item[0],item[-1]) if item[-1]*item[-2] > 100 else (item[0],item[-1]*item[-2]+10) for item in order])"
      ],
      "metadata": {
        "colab": {
          "base_uri": "https://localhost:8080/"
        },
        "id": "9gZBPScXPKvE",
        "outputId": "3ccc3d3c-5148-4b84-dbfd-6dfb2597a2a6"
      },
      "execution_count": null,
      "outputs": [
        {
          "output_type": "stream",
          "name": "stdout",
          "text": [
            "Order Summary:  [(34587, 163.8), (98762, 284.0), (77226, 108.85000000000001), (88112, 84.97)]\n",
            "Order Summary:  [(34587, 40.95), (98762, 56.8), 108.85000000000001, 84.97]\n",
            "Order Summary:  [(34587, 40.95), (98762, 56.8), (77226, 108.85000000000001), (88112, 84.97)]\n"
          ]
        }
      ]
    }
  ],
  "metadata": {
    "colab": {
      "provenance": []
    },
    "kernelspec": {
      "display_name": "Python 3",
      "name": "python3"
    }
  },
  "nbformat": 4,
  "nbformat_minor": 0
}