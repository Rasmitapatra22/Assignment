{
  "cells": [
    {
      "cell_type": "markdown",
      "source": [
        "1. What are the key differences between SQL and NoSQL databases\n",
        "\n",
        "**SQL (Relational)**\n",
        "\n",
        " Tables with rows and columns\n",
        " Fixed schema (predefined structure)\n",
        " Vertically scalable (upgrading hardware)\n",
        " ACID-compliant (strong consistency)\n",
        " SQL (Structured Query Language)\n",
        " Efficient for complex queries and transactions\n",
        " Best for transactional systems (banking, ERP, etc.)\n",
        " MySQL, PostgreSQL, Oracle, MS SQL Server\n",
        "\n",
        "\n",
        "**NoSQL (Non-relational)**\n",
        "\n",
        "   Document-based, key-value, column-family, or graph-based\n",
        "   Flexible schema (dynamic and adaptable)\n",
        "   Horizontally scalable (adding more servers)\n",
        "   BASE-compliant (more available, less consistent)\n",
        "   Varies (e.g., MongoDB uses its own query language)\n",
        "   Better for large-scale data and fast read/write operations\n",
        "   Ideal for big data, real-time web apps, and data lakes\n",
        "   MongoDB, Cassandra, CouchDB, Neo4j\n",
        "  \n",
        " 2. What makes MongoDB a good choice for modern applications\n",
        "\n",
        "  MongoDB is a popular choice for modern applications due to its flexible schema, scalability, and developer-friendly features, making it well-suited for handling large volumes of data and evolving data models. Its ability to scale horizontally and its rich querying capabilities also contribute to its appeal, particularly for applications requiring real-time data processing and analytics.\n",
        "\n",
        "\n",
        " 3. Explain the concept of collections in MongoDB\n",
        "\n",
        "   In MongoDB, a collection is like a table in a relational database. It's a container for storing and organizing documents, which are analogous to rows in a table. Collections don't have a strict schema, meaning documents within the same collection can have different structures, offering flexibility.\n",
        "\n",
        "\n",
        " 4. How does MongoDB ensure high availability using replication\n",
        "\n",
        "\n",
        "   MongoDB achieves high availability through replication by distributing data across multiple servers (nodes) within a replica set. This redundancy ensures that if one node fails, others can continue to operate, preventing data loss and maintaining application uptime. Elections within the replica set automatically determine a new primary node, ensuring seamless failover.\n",
        " 5. What are the main benefits of MongoDB Atlas\n",
        "\n",
        "   MongoDB Atlas offers several key benefits, primarily centered around ease of use, scalability, and flexibility for developers. It provides a cloud-based solution for deploying and managing MongoDB databases, simplifying infrastructure management and allowing developers to focus on application development.\n",
        "\n",
        " 6. What is the role of indexes in MongoDB, and how do they improve performance\n",
        "\n",
        "\n",
        " In MongoDB, indexes are data structures that improve the speed of data retrieval by allowing MongoDB to locate and access documents more efficiently. They essentially create a lookup table for specific fields, enabling the database to quickly find relevant documents without scanning the entire collection. This leads to faster query execution times and improved performance, especially for frequently accessed fields.\n",
        "\n",
        "\n",
        " 7. Describe the stages of the MongoDB aggregation pipeline\n",
        "\n",
        "     The MongoDB aggregation pipeline processes data through a series of stages, each transforming the input documents in some way. The pipeline starts with the input documents, and each stage's output becomes the input for the next stage. Common stages include $match (filtering), $group (aggregation), $project (data shaping), $sort (ordering), $limit (truncating), and $lookup (joining).\n",
        "\n",
        "\n",
        " 8. What is sharding in MongoDB? How does it differ from replication\n",
        "\n",
        "\n",
        "   In MongoDB, sharding and replication are both mechanisms for scaling and ensuring data availability, but they differ in their approach. Sharding distributes data across multiple machines (shards), while replication creates duplicate copies of data on multiple servers within a replica set. Sharding is for handling large datasets and high throughput, while replication focuses on fault tolerance and data redundancy.\n",
        "\n",
        "\n",
        " 9. What is PyMongo, and why is it used\n",
        "\n",
        "   PyMongo is the official MongoDB driver for synchronous Python applications. If you want to learn how to connect and use MongoDB from your Python application, you've come to the right place. In this PyMongo tutorial, we'll build a simple CRUD (Create, Read, Update, Delete) application using FastAPI and MongoDB Atlas.\n",
        "\n",
        "\n",
        " 10. What are the ACID properties in the context of MongoDB transactions\n",
        "\n",
        "\n",
        "     In MongoDB transactions, ACID stands for Atomicity, Consistency, Isolation, and Durability, ensuring data reliability and integrity. These properties guarantee that transactions are executed reliably, even in the face of failures or concurrent access.\n",
        "\n",
        " 11. What is the purpose of MongoDB’s explain() function\n",
        "\n",
        "\n",
        "  The purpose of MongoDB's explain() function is to provide detailed information about how a query is executed, helping developers understand the query's execution plan and identify potential performance bottlenecks. It essentially reveals how MongoDB resolves a query, including which indexes are used, how many documents were scanned, and the time it took to execute.\n",
        "\n",
        "\n",
        " 12. How does MongoDB handle schema validation\n",
        "\n",
        "\n",
        "  MongoDB uses schema validation, primarily through JSON Schema, to enforce data structure and types within collections. This allows developers to define rules for document structure, such as required fields, allowed data types, and value ranges, ensuring data consistency and integrity. MongoDB uses the $jsonSchema operator to define these validation rules.\n",
        "\n",
        "\n",
        " 13. What is the difference between a primary and a secondary node in a replica set\n",
        "\n",
        "\n",
        "  In a MongoDB replica set, the primary node is the single member that handles all write operations, while secondary nodes replicate data from the primary and can handle read operations. If the primary becomes unavailable, a secondary node is elected as the new primary through an election process.\n",
        "\n",
        " 14. What security mechanisms does MongoDB provide for data protection\n",
        "\n",
        "\n",
        "  MongoDB offers several security mechanisms to protect data, including authentication, authorization, encryption (both in transit and at rest), and auditing. These features help ensure data integrity and confidentiality.\n",
        "\n",
        "\n",
        " 15. Explain the concept of embedded documents and when they should be used\n",
        "\n",
        "\n",
        "   Embedded documents in MongoDB are documents stored within other documents, creating a nested, hierarchical structure. They are used to model relationships between data when related information is frequently accessed together, allowing for single-query retrieval and improved efficiency. This approach differs from traditional relational databases where relationships are typically managed with separate tables and joins.\n",
        "\n",
        " 16. What is the purpose of MongoDB’s $lookup stage in aggregation\n",
        "\n",
        "\n",
        "  The $lookup stage in the Aggregation Framework is used to perform left outer joins with other collections. It allows you to combine documents from different collections based on a specified condition.\n",
        "\n",
        "\n",
        " 17. What are some common use cases for MongoDB\n",
        "\n",
        "\n",
        " MongoDB is a versatile database used in various applications, including content management systems, e-commerce platforms, real-time analytics, and Internet of Things (IoT) solutions. Its flexibility and scalability make it suitable for projects requiring dynamic data structures and high performance.\n",
        "\n",
        "\n",
        " 18. What are the advantages of using MongoDB for horizontal scaling\n",
        "\n",
        "\n",
        "  MongoDB's horizontal scaling, achieved through sharding, offers several key advantages: increased capacity for large datasets, improved performance through parallel data processing, and enhanced availability through replication. It also simplifies scaling out, allowing applications to adapt to growing demands without expensive upgrades.\n",
        "\n",
        " 19. How do MongoDB transactions differ from SQL transactions\n",
        "\n",
        "\n",
        "   In SQL databases, initiating a transaction is straightforward. You simply begin a transaction, perform your operations, and commit or rollback as needed. However, MongoDB's approach introduces an additional step: passing the session to make transactions work effectively.\n",
        "\n",
        " 20. What are the main differences between capped collections and regular collections\n",
        "\n",
        "\n",
        " Capped collections and regular collections in MongoDB differ primarily in their size, data storage behavior, and use cases. Capped collections have a fixed size and capacity, while regular collections can grow dynamically. Capped collections act like circular buffers, overwriting older data with new data when full, whereas regular collections store data in insertion order until they are full, according to a Medium post and O'Reilly Media.\n",
        "\n",
        "\n",
        " 21. What is the purpose of the $match stage in MongoDB’s aggregation pipeline\n",
        "\n",
        "\n",
        " The $match stage in MongoDB's aggregation pipeline filters documents based on a specified query condition, similar to a find() operation. It passes only the documents that match the query to the next stage in the pipeline, effectively excluding those that don't meet the criteria. Using $match can improve performance by reducing the number of documents processed by subsequent stages.\n",
        "\n",
        "\n",
        " 22. How can you secure access to a MongoDB database\n",
        "\n",
        "  To secure a MongoDB database, implement user authentication, enforce access control through roles, enable TLS/SSL encryption, and use firewalls to restrict access to trusted IP addresses. Additionally, regularly back up the database and consider auditing to monitor activities and detect unauthorized access.\n",
        "\n",
        "\n",
        " 23. What is MongoDB’s WiredTiger storage engine, and why is it important?\n",
        "\n",
        "   MongoDB's WiredTiger storage engine is the default engine and is recommended for new deployments. It's an open-source, high-performance, key-value database that provides a document-level concurrency model, compression, and checkpointing. WiredTiger significantly enhances MongoDB's performance and scalability, particularly for vertically scaling the database."
      ],
      "metadata": {
        "id": "73T38j_S6Yb8"
      }
    },
    {
      "cell_type": "markdown",
      "source": [
        "      \n",
        "      **Practical Questions**\n",
        "\n",
        "\n",
        "\n",
        "Write a Python script to load the Superstore dataset from a CSV file into MongoDB\n",
        " Retrieve and print all documents from the Orders collection\n",
        " Count and display the total number of documents in the Orders collection\n",
        " Write a query to fetch all orders from the \"West\" region\n",
        " Write a query to find orders where Sales is greater than 500\n",
        " Fetch the top 3 orders with the highest Profit\n",
        " Update all orders with Ship Mode as \"First Class\" to \"Premium Class.\n",
        " Delete all orders where Sales is less than 50\n",
        " Use aggregation to group orders by Region and calculate total sales per region\n",
        " Fetch all distinct values for Ship Mode from the collection\n",
        " Count the number of orders for each category.\n",
        "\n",
        "\n"
      ],
      "metadata": {
        "id": "MLKCpxiI6bt8"
      }
    },
    {
      "cell_type": "code",
      "source": [
        "import csv\n",
        "import json\n",
        "import pandas as pd\n",
        "import sys, getopt, pprint\n",
        "from pymongo import MongoClient\n",
        "#CSV to JSON Conversion\n",
        "csvfile = open('C://test//final-current.csv', 'r')\n",
        "jsonfile = open('C://test//6.json', 'a')\n",
        "reader = csv.DictReader( csvfile )\n",
        "header= [ \"S.No\", \"Instrument Name\", \"Buy Price\", \"Buy Quantity\", \"Sell Price\", \"Sell Quantity\", \"Last Traded Price\", \"Total Traded Quantity\", \"Average Traded Price\", \"Open Price\", \"High Price\", \"Low Price\", \"Close Price\", \"V\" ,\"Time\"]\n",
        "#fieldnames=header\n",
        "output=[]\n",
        "for each in reader:\n",
        "    row={}\n",
        "    for field in header:\n",
        "        row[field]=each[field]\n",
        "    output.append(row)\n",
        "\n",
        "json.dump(output, jsonfile, indent=None, sort_keys=False , encoding=\"UTF-8\")\n",
        "mongo_client=MongoClient()\n",
        "db=mongo_client.october_mug_talk\n",
        "db.segment.drop()\n",
        "data=pd.read_csv('C://test//6.json', error_bad_lines=0)\n",
        "df = pd.DataFrame(data)\n",
        "records = csv.DictReader(df)\n",
        "db.segment.insert(records)"
      ],
      "metadata": {
        "id": "OHhYI--M6mtU"
      },
      "execution_count": null,
      "outputs": []
    },
    {
      "cell_type": "code",
      "source": [
        "from pymongo import MongoClient\n",
        "\n",
        "client = MongoClient(<creds>)\n",
        "db = client.database\n",
        "coll = db.coll\n",
        "\n",
        "def retrieve_by_order(order_no, field=\"Code\"):\n",
        "    for i, post in enumerate(coll.find()):\n",
        "         if i + 1 == order_no:\n",
        "             return post[field]"
      ],
      "metadata": {
        "id": "DMK_Hs9H7WBR"
      },
      "execution_count": null,
      "outputs": []
    },
    {
      "cell_type": "code",
      "source": [
        "db.collection.aggregate([\n",
        "   { $match: <query> },\n",
        "   { $group: { _id: null, n: { $sum: 1 } } }\n",
        "])\n",
        "\n",
        "db.orders.countDocuments( { ord_dt: { $gt: new Date('01/01/2012') } }, { limit: 100 } )"
      ],
      "metadata": {
        "id": "eZ99oyE77yTq"
      },
      "execution_count": null,
      "outputs": []
    },
    {
      "cell_type": "code",
      "source": [
        "SELECT city\n",
        "FROM West\" region\n",
        "WHERE longitude < -87.629798\n",
        "ORDER BY longitude;"
      ],
      "metadata": {
        "id": "-5p32Pz88Gqu"
      },
      "execution_count": null,
      "outputs": []
    },
    {
      "cell_type": "code",
      "source": [
        "SELECT * FROM Orders\n",
        "WHERE Sales > 500;"
      ],
      "metadata": {
        "id": "944SS6gU8cTH"
      },
      "execution_count": null,
      "outputs": []
    },
    {
      "cell_type": "code",
      "source": [
        "select Product_ID, count(Product_ID) as OrderCount\n",
        "from Orders\n",
        "group by Product_ID\n",
        "order by OrderCount desc\n",
        "select top 3 , count(*) from orders group_by product_key order by count(*) DESC"
      ],
      "metadata": {
        "id": "eA4nSiv28i0g"
      },
      "execution_count": null,
      "outputs": []
    },
    {
      "cell_type": "code",
      "source": [
        "        UPDATE orders\n",
        "        SET ship_mode = 'Premium Class'\n",
        "        WHERE ship_mode = 'First Class';"
      ],
      "metadata": {
        "id": "tGhg90v_8ujO"
      },
      "execution_count": null,
      "outputs": []
    },
    {
      "cell_type": "code",
      "source": [
        "delete from Table where id 50\n",
        "delete from tab\n",
        "where  id < 50"
      ],
      "metadata": {
        "id": "Bdb_57Dd83gK"
      },
      "execution_count": null,
      "outputs": []
    },
    {
      "cell_type": "code",
      "source": [
        "- Create the Customers table\n",
        "CREATE TABLE Customers (\n",
        "    CustomerID INT,\n",
        "    Name VARCHAR(50),\n",
        "    City VARCHAR(50)\n",
        ");\n",
        "\n",
        "-- Insert data into Customers table\n",
        "INSERT INTO Customers (CustomerID, Name, City) VALUES\n",
        "(1, 'John Doe', 'New York'),\n",
        "(2, 'Jane Smith', 'Los Angeles'),\n",
        "(3, 'Sam Johnson', 'Chicago');\n",
        "\n",
        "-- Count the number of customers\n",
        "SELECT COUNT(*) AS total_customers\n",
        "FROM Customers;\n",
        "- Create the Employees table\n",
        "CREATE TABLE Employees (\n",
        "    EmployeeID INT,\n",
        "    Name VARCHAR(50),\n",
        "    Salary DECIMAL(10, 2)\n",
        ");\n",
        "\n",
        "-- Insert data into Employees table\n",
        "INSERT INTO Employees (EmployeeID, Name, Salary) VALUES\n",
        "(1, 'Alice Brown', 50000.00),\n",
        "(2, 'Bob White', 60000.00),\n",
        "(3, 'Charlie Green', 70000.00);\n",
        "\n",
        "-- Calculate the average salary\n",
        "SELECT AVG(Salary) AS average_salary\n",
        "FROM Employees;"
      ],
      "metadata": {
        "id": "Wgewu53M9a0G"
      },
      "execution_count": null,
      "outputs": []
    },
    {
      "cell_type": "code",
      "source": [
        "unction distinct(collection, field) {\n",
        "  return _.uniq(collection.find({}, {\n",
        "    sort: {[field]: 1}, fields: {[field]: 1}\n",
        "  }).fetch().map(x => x[field]), true);\n",
        "}"
      ],
      "metadata": {
        "id": "hgbR3jEiJCPF"
      },
      "execution_count": null,
      "outputs": []
    },
    {
      "cell_type": "code",
      "source": [
        "SELECT CID, Count(Order.OrderID) AS TotalOrders\n",
        "FROM [Order]\n",
        "Where CID = CID\n",
        "GROUP BY CID\n",
        "Order BY Count(Order.OrderID) DESC;\n",
        "SELECT CID, Sum(OrderItem.Quantity*OrderItem.SalePrice) AS TotalDollarAmount\n",
        "FROM OrderItem, [Order]\n",
        "WHERE OrderItem.OrderID = [Order].OrderID\n",
        "GROUP BY CID\n",
        "\n",
        "\n",
        "SELECT CID,\n",
        "       COUNT(Orders.OrderID) AS TotalOrders,\n",
        "       SUM(OrderAmounts.DollarAmount) AS TotalDollarAmount\n",
        "FROM [Orders]\n",
        "INNER JOIN (SELECT OrderID, Sum(Quantity*SalePrice) AS DollarAmount\n",
        "      FROM OrderItems GROUP BY OrderID) AS OrderAmounts\n",
        "  ON Orders.OrderID = OrderAmounts.OrderID\n",
        "GROUP BY CID\n",
        "ORDER BY Count(Orders.OrderID) DESC"
      ],
      "metadata": {
        "id": "9wIOSvNDJqZi"
      },
      "execution_count": null,
      "outputs": []
    }
  ],
  "metadata": {
    "colab": {
      "provenance": []
    },
    "kernelspec": {
      "display_name": "Python 3",
      "name": "python3"
    }
  },
  "nbformat": 4,
  "nbformat_minor": 0
}