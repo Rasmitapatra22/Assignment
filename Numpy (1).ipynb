{
  "cells": [
    {
      "cell_type": "markdown",
      "source": [
        "1.Explain the purpose and advantages of NumPy in scientific computing and data analysis. How does it\n",
        "enhance Python's capabilities for numerical operations?\n",
        "\n",
        "\n",
        "  NumPy is an open source mathematical and scientific computing library for Python programming tasks. The name NumPy is shorthand for Numerical Python. The NumPy library offers a collection of high-level mathematical functions including support for multi-dimensional arrays, masked arrays and matrices. NumPy also includes various logical and mathematical capabilities for those arrays such as shape manipulation, sorting, selection, linear algebra, statistical operations, random number generation and discrete Fourier transforms.\n",
        "\n",
        "  **Scientific computing**\n",
        "     NumPy handles advanced mathematical operations such as matrix multiplication, eigenvalue calculation and differential equations. This makes NumPy particularly valuable across a vast range of simulation, modeling, visualization, computational processing and other scientific computing tasks.\n",
        "\n",
        "     **Data manipulation and analysis**\n",
        "       NumPy can be used for data cleaning, transformation and aggregation. The data can then be readily processed through varied NumPy mathematical operations such as statistical analysis, Fourier analysis and linear algebra -- all vital for advanced data analytics and data science tasks.\n",
        "\n",
        "       NumPy is an indispensable tool for scientific computing, data analysis, and numerical computations in Python. Its ability to efficiently handle arrays, perform complex mathematical operations, and seamlessly integrate with other libraries solidifies its position as the cornerstone of numerical computing in Python."
      ],
      "metadata": {
        "id": "w6NunaY9pqUY"
      }
    },
    {
      "cell_type": "markdown",
      "source": [
        "2.Compare and contrast np.mean() and np.average() functions in NumPy. When would you use one over the\n",
        "other?\n",
        "\n",
        "\n",
        "   **np.mean()**\n",
        "\n",
        "     Use to calculate arithmetic mean.\n",
        "     All elements have equal weight.\n",
        "     Weight cannot be passed trough the parameter of the given function.\n",
        "     Syntax :\n",
        "     np.mean(arr, axis = None)\n",
        "     where ‘arr’ is the given array.\n",
        "\n",
        "\n",
        "   **np.average()**\n",
        "\n",
        "      Use to calculate the arithmetic mean as well as weighted average.\n",
        "      All elements may or may not have equal weight.\n",
        "      Weight can be passed through the parameter of the given function.\n",
        "      Syntax :\n",
        "      numpy.average(arr, axis = None, weights = None)\n",
        "      Where ‘arr’ is the given array"
      ],
      "metadata": {
        "id": "70hxFsu_ruRd"
      }
    },
    {
      "cell_type": "code",
      "source": [
        "import numpy as np\n",
        "arr = np.array([1,2,3,4,5,6,7,8,9,10])\n",
        "print(\"Array : \",arr,\"\\n\")\n",
        "print(\"Mean of the Array : \",np.mean(arr))\n",
        "\n",
        "\n",
        "\n",
        "import numpy as np\n",
        "arr = np.array([1,2,3,4,5,6,7,8,9,10])\n",
        "print(\"Array : \",arr,\"\\n\")\n",
        "print(\"Mean of the Array : \",np.average(arr),\"\\n\")\n",
        "weight = np.array([4,5,6,12,15,10,2,8,19,20])\n",
        "print(\"Weight average of Array : \",np.average(arr, weights=weight))\n"
      ],
      "metadata": {
        "id": "8u2oLbDrs4ft",
        "outputId": "51b01338-af51-41bd-9441-ad1df68cb699",
        "colab": {
          "base_uri": "https://localhost:8080/"
        }
      },
      "execution_count": null,
      "outputs": [
        {
          "output_type": "stream",
          "name": "stdout",
          "text": [
            "Array :  [ 1  2  3  4  5  6  7  8  9 10] \n",
            "\n",
            "Mean of the Array :  5.5\n",
            "Array :  [ 1  2  3  4  5  6  7  8  9 10] \n",
            "\n",
            "Mean of the Array :  5.5 \n",
            "\n",
            "Weight average of Array :  6.574257425742574\n"
          ]
        }
      ]
    },
    {
      "cell_type": "markdown",
      "source": [
        "3.Describe the methods for reversing a NumPy array along different axes. Provide examples for 1D and 2D\n",
        "arrays.\n",
        "\n",
        "\n",
        "   As we know Numpy is a general-purpose array-processing package that provides a high-performance multidimensional array object, and tools for working with these arrays. Let’s discuss how can we reverse a Numpy array.\n",
        "\n",
        "Using flip() function to Reverse a Numpy array\n",
        "The numpy.flip() function reverses the order of array elements along the specified axis, preserving the shape of the array.\n",
        "\n",
        "\n",
        " Using the list slicing method to reverse a Numpy array\n",
        "This method makes a copy of the list instead of sorting it in order. To accommodate all of the current components, making a clone requires additional room. More RAM is used up in this way. Here, we’re utilizing Python’s slicing method to invert our list.\n",
        "\n",
        "\n",
        "Using flipud function to Reverse a Numpy array\n",
        "The numpy.flipud() function flips the array(entries in each column) in up-down direction, shape preserved."
      ],
      "metadata": {
        "id": "bJgpoprKtK9O"
      }
    },
    {
      "cell_type": "code",
      "source": [
        "# importing Numpy\n",
        "import numpy as np\n",
        "\n",
        "# 1d Array of Tuple\n",
        "arr = [(1, 2, 3), ('Hi', 'Hello', 'Hey')]\n",
        "x = map(np.array, arr)\n",
        "\n",
        "# Changing map object to a list, then\n",
        "# to an NDarray\n",
        "x = np.array(list(x))\n",
        "print(x)\n",
        "\n",
        "# Checking the Dimension of the Resulting\n",
        "# NDArray\n",
        "print(x.ndim)\n",
        "\n",
        "\n",
        "\n",
        "import numpy as np\n",
        "\n",
        "# creating 2D float array.\n",
        "float_array = np.array([[1., 2., 3.], [4., 5., 6.]])\n",
        "print('Before converting: ', float_array, '\\n Data type of array: ', float_array.dtype)\n",
        "\n",
        "# setting dtype to np.int32 to convert the data type of float_array from float to int\n",
        "float_array = np.array(float_array, dtype=np.int32)\n",
        "print('After Converting: ', float_array, '\\n Data type of array: ', float_array.dtype)\n"
      ],
      "metadata": {
        "id": "lOShrXFCtLSy",
        "colab": {
          "base_uri": "https://localhost:8080/"
        },
        "outputId": "934484ea-2fe4-40cf-f996-2f7a5e150378"
      },
      "execution_count": null,
      "outputs": [
        {
          "output_type": "stream",
          "name": "stdout",
          "text": [
            "[['1' '2' '3']\n",
            " ['Hi' 'Hello' 'Hey']]\n",
            "2\n",
            "Before converting:  [[1. 2. 3.]\n",
            " [4. 5. 6.]] \n",
            " Data type of array:  float64\n",
            "After Converting:  [[1 2 3]\n",
            " [4 5 6]] \n",
            " Data type of array:  int32\n"
          ]
        }
      ]
    },
    {
      "cell_type": "markdown",
      "source": [
        "4.How can you determine the data type of elements in a NumPy array? Discuss the importance of data types\n",
        "in memory management and performance.\n",
        "\n",
        "\n",
        "   We can check the datatype of Numpy array by using dtype. Then it returns the data type all the elements in the array. In the given example below we import NumPy library and craete an array using “array()” method with integer value. Then we store the data type of the array in a variable named “data_type” using the ‘dtype’ attribute, and after then we can finally, we print the data type.\n",
        "\n",
        "\n",
        "   Create Arrays With a Defined Data Type\n",
        "We can create an array with a defined data type by specifying “dtype” attribute in numpy.array() method while initializing an array. In the below code we have created various types of defined arrays such as ‘float64’, ‘int32’, ‘complex128’, and ‘bool’.\n",
        "\n",
        "\n",
        "Convert Data Type of NumPy Arrays\n",
        "We can convert data type of an arrays from one type to another using astype() function. In the below code we have initialize an array with float type values. After that we have convert that float64 type array to int32 type using astype() function. Finally, print the array and their types of original array and new array."
      ],
      "metadata": {
        "id": "dDukn0Vt1DJc"
      }
    },
    {
      "cell_type": "code",
      "source": [
        "import numpy as np\n",
        "\n",
        "# Create an array with float data type elements\n",
        "arr_original = np.array([1.2, 2.5, 3.7])\n",
        "\n",
        "# Converting to int32\n",
        "arr_new = arr_original.astype(np.int32)\n",
        "\n",
        "# Print the original its type\n",
        "print(\"Original array:\", arr_original)\n",
        "print(\"Data type of original array:\", arr_original.dtype)\n",
        "\n",
        "# Print new array and its type\n",
        "print(\"\\nNew array:\", arr_new)\n",
        "print(\"Data type of new array:\", arr_new.dtype)\n"
      ],
      "metadata": {
        "colab": {
          "base_uri": "https://localhost:8080/"
        },
        "id": "qPyY4Bmo2cFi",
        "outputId": "6fc84a71-36e7-46e0-e4b9-5e5f8b6a073e"
      },
      "execution_count": null,
      "outputs": [
        {
          "output_type": "stream",
          "name": "stdout",
          "text": [
            "Original array: [1.2 2.5 3.7]\n",
            "Data type of original array: float64\n",
            "\n",
            "New array: [1 2 3]\n",
            "Data type of new array: int32\n"
          ]
        }
      ]
    },
    {
      "cell_type": "markdown",
      "source": [
        "5.Define ndarrays in NumPy and explain their key features. How do they differ from standard Python lists?\n",
        "\n",
        "   Array in Numpy is a table of elements (usually numbers), all of the same type, indexed by a tuple of positive integers. In Numpy, number of dimensions of the array is called rank of the array.A tuple of integers giving the size of the array along each dimension is known as shape of the array. An array class in Numpy is called as ndarray. Elements in Numpy arrays are accessed by using square brackets and can be initialized by using nested Python Lists.\n",
        "\n",
        "\n",
        "\n",
        "   A Python list is a collection that is ordered and changeable. In Python, lists are written with square brackets.\n",
        "\n",
        "Some important points about Python Lists:\n",
        "\n",
        "The list can be homogeneous or heterogeneous.\n",
        "Element-wise operation is not possible on the list.\n",
        "Python list is by default 1-dimensional. But we can create an N-Dimensional list. But then too it will be 1 D list storing another 1D list\n",
        "Elements of a list need not be contiguous in memory.\n",
        "\n",
        "\n",
        "\n",
        "The main features of NumPy's multi-dimensional arrays (numpy.ndarray) are as follows:\n",
        "\n",
        "Require installation and importing of NumPy\n",
        "Can store only elements of the same type\n",
        "However, it is possible to store pointers to different types by using the object type\n",
        "NumPy: astype() to change dtype of an array\n",
        "Can represent multi-dimensional arrays\n",
        "Provide various methods and functions for numerical computation\n",
        "Useful in various scenarios such as matrix operations and image processing\n",
        "Matrix operations with NumPy in Python\n",
        "Image processing with Python, NumPy"
      ],
      "metadata": {
        "id": "2_Kp6iBk2epb"
      }
    },
    {
      "cell_type": "markdown",
      "source": [
        "6.Analyze the performance benefits of NumPy arrays over Python lists for large-scale numerical operations.\n",
        "\n",
        "\n",
        "\n",
        "NumPy is the fundamental package for scientific computing in Python. Numpy arrays facilitate advanced mathematical and other types of operations on large numbers of data. Typically, such operations are executed more efficiently and with less code than is possible using Python’s built-in sequences. Numpy is not another programming language but a Python extension module. It provides fast and efficient operations on arrays of homogeneous data.\n",
        "\n",
        "Some important points about Numpy arrays:\n",
        "\n",
        "We can create an N-dimensional array in Python using Numpy.array().\n",
        "The array is by default Homogeneous, which means data inside an array must be of the same Datatype. (Note You can also create a structured array in Python).\n",
        "Element-wise operation is possible.\n",
        "Numpy array has various functions, methods, and variables, to ease our task of matrix computation.\n",
        "Elements of an array are stored contiguously in memory. For example, all rows of a two-dimensioned array must have the same number of columns. A three-dimensional array must have the same number of rows and columns on each card.\n",
        "\n",
        "   **Representation of Numpy array**\n",
        "Single Dimensional Numpy Array\n",
        "Multi-dimensional Numpy Array\n",
        "\n",
        "\n",
        "Homogeneous Data: NumPy arrays store elements of the same data type, making them more compact and memory-efficient than lists.\n",
        "Fixed Data Type: NumPy arrays have a fixed data type, reducing memory overhead by eliminating the need to store type information for each element.\n",
        "Contiguous Memory: NumPy arrays store elements in adjacent memory locations, reducing fragmentation and allowing for efficient access.\n",
        "Array Metadata: NumPy arrays have extra metadata like shape, strides, and data type. However, this overhead is usually smaller than the per-element overhead in lists.\n",
        "Performance: NumPy arrays are optimized for numerical computations, with efficient element-wise operations and mathematical functions. These operations are implemented in C, resulting in faster performance than equivalent operations on lists.\n"
      ],
      "metadata": {
        "id": "s_mn_vHN3l_w"
      }
    },
    {
      "cell_type": "markdown",
      "source": [
        "7.Compare vstack() and hstack() functions in NumPy. Provide examples demonstrating their usage and\n",
        "output.\n",
        "\n",
        "\n",
        "   vstack() function is used to stack arrays vertically (row-wise) to make a single array. It takes a sequence of arrays and joins them vertically. This is equivalent to concatenation along the first axis after 1-D arrays of shape (N,) have been reshaped to (1,N).\n",
        "This function is useful when you have two or more arrays with the same number of columns, and you want to concatenate them vertically (row-wise). It is also useful to append a single array as a new row to an existing 2D array.\n",
        "\n",
        "\n",
        "The  numpy.hstack() function is used to stack arrays in sequence horizontally (column wise). This is equivalent to concatenation along the second axis, except for 1-D arrays where it concatenates along the first axis. Rebuilds arrays divided by hsplit.\n",
        "This function is useful in the scenarios when we have to concatenate two arrays of different shapes along the second axis (column-wise). For example, to combine two arrays of shape (n, m) and (n, l) to form an array of shape (n, m+l).\n"
      ],
      "metadata": {
        "id": "-MsZgSX55AoY"
      }
    },
    {
      "cell_type": "code",
      "source": [
        "\n",
        "# hstack() function\n",
        "\n",
        "import numpy as rasmita\n",
        "\n",
        "# input array\n",
        "in_arr1 = rasmita.array([ 1, 2, 3] )\n",
        "print (\"1st Input array : \\n\", in_arr1)\n",
        "\n",
        "in_arr2 = rasmita.array([ 4, 5, 6] )\n",
        "print (\"2nd Input array : \\n\", in_arr2)\n",
        "\n",
        "# Stacking the two arrays horizontally\n",
        "out_arr = rasmita.hstack((in_arr1, in_arr2))\n",
        "print (\"Output horizontally stacked array:\\n \", out_arr)\n",
        "\n",
        "\n",
        "\n",
        "# vstack() function\n",
        "\n",
        "import numpy as rasmita\n",
        "\n",
        "# input array\n",
        "in_arr1 = rasmita.array([ 1, 2, 3] )\n",
        "print (\"1st Input array : \\n\", in_arr1)\n",
        "\n",
        "in_arr2 = rasmita.array([ 4, 5, 6] )\n",
        "print (\"2nd Input array : \\n\", in_arr2)\n",
        "\n",
        "# Stacking the two arrays vertically\n",
        "out_arr = rasmita.vstack((in_arr1, in_arr2))\n",
        "print (\"Output vertically stacked array:\\n \", out_arr)\n"
      ],
      "metadata": {
        "colab": {
          "base_uri": "https://localhost:8080/"
        },
        "id": "G6skiKdz8HRp",
        "outputId": "fd4b4244-cace-4001-bfb6-317f91449b39"
      },
      "execution_count": null,
      "outputs": [
        {
          "output_type": "stream",
          "name": "stdout",
          "text": [
            "1st Input array : \n",
            " [1 2 3]\n",
            "2nd Input array : \n",
            " [4 5 6]\n",
            "Output horizontally stacked array:\n",
            "  [1 2 3 4 5 6]\n",
            "1st Input array : \n",
            " [1 2 3]\n",
            "2nd Input array : \n",
            " [4 5 6]\n",
            "Output vertically stacked array:\n",
            "  [[1 2 3]\n",
            " [4 5 6]]\n"
          ]
        }
      ]
    },
    {
      "cell_type": "markdown",
      "source": [
        "8.Explain the differences between fliplr() and flipud() methods in NumPy, including their effects on various\n",
        "array dimensions.\n",
        "\n",
        "\n",
        "   numpy.fliplr(array) : Flip array(entries in each column) in left-right direction, shape preserved\n",
        "\n",
        "\n",
        "   numpy.fliplr(array) : Flip array(entries in each column) in left-right direction, shape preserved"
      ],
      "metadata": {
        "id": "p1VlPxYM9ctb"
      }
    },
    {
      "cell_type": "code",
      "source": [
        "\n",
        "# numpy.flipud() method\n",
        "\n",
        "import numpy as patra\n",
        "\n",
        "array = patra.arange(8).reshape((2,2,2))\n",
        "print(\"Original array : \\n\", array)\n",
        "\n",
        "# flipud : means flip up-down\n",
        "print(\"\\nFlipped array : \\n\", geek.flipud(array))\n",
        "\n",
        "\n",
        "\n",
        "\n",
        "# numpy.fliplr() method\n",
        "\n",
        "import numpy as patra\n",
        "\n",
        "array = patra.arange(8).reshape((2,2,2))\n",
        "print(\"Original array : \\n\", array)\n",
        "\n",
        "# fliplr : means flip left-right\n",
        "print(\"\\nFlipped array left-right : \\n\", patra.fliplr(array))\n",
        "\n"
      ],
      "metadata": {
        "colab": {
          "base_uri": "https://localhost:8080/"
        },
        "id": "UbEyBZQU-rTg",
        "outputId": "c230d53b-1fd7-4648-8554-9fa394748336"
      },
      "execution_count": null,
      "outputs": [
        {
          "output_type": "stream",
          "name": "stdout",
          "text": [
            "Original array : \n",
            " [[[0 1]\n",
            "  [2 3]]\n",
            "\n",
            " [[4 5]\n",
            "  [6 7]]]\n",
            "\n",
            "Flipped array : \n",
            " [[[4 5]\n",
            "  [6 7]]\n",
            "\n",
            " [[0 1]\n",
            "  [2 3]]]\n",
            "Original array : \n",
            " [[[0 1]\n",
            "  [2 3]]\n",
            "\n",
            " [[4 5]\n",
            "  [6 7]]]\n",
            "\n",
            "Flipped array left-right : \n",
            " [[[2 3]\n",
            "  [0 1]]\n",
            "\n",
            " [[6 7]\n",
            "  [4 5]]]\n"
          ]
        }
      ]
    },
    {
      "cell_type": "markdown",
      "source": [
        "9.Discuss the functionality of the array_split() method in NumPy. How does it handle uneven splits?\n",
        "\n",
        "\n",
        "   Array splitting in NumPy is like a slice of cake. Think of each element in a NumPy array as a slice of cake. Splitting divides this “cake” into smaller “slices” (sub-arrays), often along specific dimensions or based on certain criteria. We can split horizontally, vertically, or even diagonally depending on our needs.\n",
        "\n",
        "The split(), hsplit(), vsplit(), and dsplit() functions are important tools for dividing arrays along various axes and dimensions. These functions are particularly useful when working with one-dimensional arrays, matrices, or high-dimensional datasets. NumPy’s array-splitting capabilities are crucial for enhancing the efficiency and flexibility of data processing workflows.\n",
        "\n",
        "Key concepts and terminology\n",
        "Here are some important terms to understand when splitting arrays:\n",
        "\n",
        "Axis: The dimension along which the array is split (e.g., rows, columns, depth).\n",
        "Sub-arrays: The smaller arrays resulting from the split.\n",
        "Splitting methods: Different functions in NumPy for splitting arrays (e.g., np.split(), np.vsplit(), np.hsplit(), etc.).\n",
        "Equal vs. Unequal splits: Whether the sub-arrays have the same size or not.\n",
        "\n"
      ],
      "metadata": {
        "id": "EdmTojJc_SsA"
      }
    },
    {
      "cell_type": "code",
      "source": [
        "import numpy as np\n",
        "Arr = np.array([1, 2, 3, 4, 5, 6])\n",
        "array = np.array_split(arr, 3)\n",
        "print(array)\n"
      ],
      "metadata": {
        "colab": {
          "base_uri": "https://localhost:8080/"
        },
        "id": "F05hZBFn_pcj",
        "outputId": "7d1f35e3-16a6-43cc-9a5c-6fd338084e5a"
      },
      "execution_count": null,
      "outputs": [
        {
          "output_type": "stream",
          "name": "stdout",
          "text": [
            "[array([['1', '2', '3']], dtype='<U21'), array([['Hi', 'Hello', 'Hey']], dtype='<U21'), array([], shape=(0, 3), dtype='<U21')]\n"
          ]
        }
      ]
    },
    {
      "cell_type": "markdown",
      "source": [
        "10.Explain the concepts of vectorization and broadcasting in NumPy. How do they contribute to efficient array\n",
        "operations?\n",
        "\n",
        "  Broadcasting provides a means of vectorizing array operations, therefore eliminating the need for Python loops. This is because NumPy is implemented in C Programming, which is a very efficient language.\n",
        "\n",
        "It does this without making needless copies of data which leads to efficient algorithm implementations. But broadcasting over multiple arrays in NumPy extension can raise cases where broadcasting is a bad idea because it leads to inefficient use of memory that slows down the computation.\n",
        "\n",
        "The resulting array returned after broadcasting will have the same number of dimensions as the array with the greatest number of dimensions.\n",
        "\n",
        "\n",
        "NumPy Broadcasting Arrays in Python\n",
        "Let’s assume that we have a large data set, each data is a list of parameters. In Numpy, we have a 2-D array, where each row is data and the number of rows is the size of the data set. Suppose we want to apply some sort of scaling to all these data every parameter gets its scaling factor or say every parameter is multiplied by some factor.\n",
        "\n",
        "Just to have a clear understanding, let’s count calories in foods using a macro-nutrient breakdown. Roughly put, the caloric parts of food are made of fats (9 calories per gram), protein (4 CPG), and carbs (4 CPG).\n",
        "\n",
        "So if we list some foods (our data), and for each food list its macro-nutrient breakdown (parameters), we can then multiply each nutrient by its caloric value (apply scaling) to compute the caloric breakdown of every food item.With this transformation, we can now compute all kinds of useful information. For example, what is the total number of calories present in some food, or given a breakdown of my dinner know how many calories did I get from protein and so on?"
      ],
      "metadata": {
        "id": "_Uad-B_Z_xIq"
      }
    },
    {
      "cell_type": "markdown",
      "source": [
        "1.Create a 3x3 NumPy array with random integers between 1 and 100. Then, interchange its rows and columns."
      ],
      "metadata": {
        "id": "4iWJ3ppEf-CF"
      }
    },
    {
      "cell_type": "code",
      "source": [
        "import numpy as np\n",
        "\n",
        "array = np.random.randint(100, size=(3, 3))\n",
        "print(array)\n"
      ],
      "metadata": {
        "colab": {
          "base_uri": "https://localhost:8080/"
        },
        "id": "iKQ9Ij3tgwlK",
        "outputId": "e14fa489-5902-4a6c-db9e-b0f1d45b6cf8"
      },
      "execution_count": 8,
      "outputs": [
        {
          "output_type": "stream",
          "name": "stdout",
          "text": [
            "[[ 0  8 66]\n",
            " [86 31 81]\n",
            " [15 85 85]]\n"
          ]
        }
      ]
    },
    {
      "cell_type": "markdown",
      "source": [
        "2.Generate a 1D NumPy array with 10 elements. Reshape it into a 2x5 array, then into a 5x2 array."
      ],
      "metadata": {
        "id": "Hh4EFautgn8r"
      }
    },
    {
      "cell_type": "code",
      "source": [
        "import numpy as np\n",
        "\n",
        "# creating the list\n",
        "list = [1,2,3,4,5,6,7,8,9,10]\n",
        "\n",
        "# creating 1-d array\n",
        "n = np.array(list)\n",
        "print(n)\n",
        "\n"
      ],
      "metadata": {
        "colab": {
          "base_uri": "https://localhost:8080/"
        },
        "id": "aap66JnOJo8P",
        "outputId": "bdab36b7-97c1-4d4c-b8f4-4a162f2d6498"
      },
      "execution_count": 19,
      "outputs": [
        {
          "output_type": "stream",
          "name": "stdout",
          "text": [
            "[ 1  2  3  4  5  6  7  8  9 10]\n"
          ]
        }
      ]
    },
    {
      "cell_type": "markdown",
      "source": [
        "3.Create a 4x4 NumPy array with random float values. Add a border of zeros around it, resulting in a 6x6 array."
      ],
      "metadata": {
        "id": "JRhigCLfML96"
      }
    },
    {
      "cell_type": "code",
      "source": [
        "# importing Numpy package\n",
        "import numpy as np\n",
        "\n",
        "# Creating a 4X4 Numpy matrix\n",
        "array = np.ones((4, 4))\n",
        "\n",
        "print(\"Original array\")\n",
        "print(array)\n",
        "\n",
        "print(\"\\n0 on the border and 1 inside the array\")\n",
        "\n",
        "\n",
        "array = np.pad(array, pad_width=1, mode='constant',\n",
        "\t\t\tconstant_values=0)\n",
        "\n",
        "print(array)\n"
      ],
      "metadata": {
        "colab": {
          "base_uri": "https://localhost:8080/"
        },
        "id": "VzeRax64MUvR",
        "outputId": "35bcd0bc-0722-4b68-c2a2-554ae7104a50"
      },
      "execution_count": 21,
      "outputs": [
        {
          "output_type": "stream",
          "name": "stdout",
          "text": [
            "Original array\n",
            "[[1. 1. 1. 1.]\n",
            " [1. 1. 1. 1.]\n",
            " [1. 1. 1. 1.]\n",
            " [1. 1. 1. 1.]]\n",
            "\n",
            "0 on the border and 1 inside the array\n",
            "[[0. 0. 0. 0. 0. 0.]\n",
            " [0. 1. 1. 1. 1. 0.]\n",
            " [0. 1. 1. 1. 1. 0.]\n",
            " [0. 1. 1. 1. 1. 0.]\n",
            " [0. 1. 1. 1. 1. 0.]\n",
            " [0. 0. 0. 0. 0. 0.]]\n"
          ]
        }
      ]
    },
    {
      "cell_type": "markdown",
      "source": [
        "4.Using NumPy, create an array of integers from 10 to 60 with a step of 5."
      ],
      "metadata": {
        "id": "hlSyd2gpM-AK"
      }
    },
    {
      "cell_type": "code",
      "source": [
        "import numpy as np\n",
        "\n",
        "array = np.ones((5, 5))\n",
        "\n",
        "print(\"Original array\")\n",
        "print(array)\n",
        "\n",
        "# Creating an array of integers from 30 to 70 using np.arange()\n",
        "array = np.arange(10, 60)\n",
        "\n",
        "# Printing a message indicating an array of integers from 30 to 70\n",
        "print(\"Array of the integers from 10 to 60\")\n",
        "\n",
        "# Printing the array of integers from 30 to 70\n",
        "print(array)"
      ],
      "metadata": {
        "colab": {
          "base_uri": "https://localhost:8080/"
        },
        "id": "z6DdwGuKNlBH",
        "outputId": "e92aed9d-5113-4cac-84c2-79d77897b0c6"
      },
      "execution_count": 26,
      "outputs": [
        {
          "output_type": "stream",
          "name": "stdout",
          "text": [
            "Original array\n",
            "[[1. 1. 1. 1. 1.]\n",
            " [1. 1. 1. 1. 1.]\n",
            " [1. 1. 1. 1. 1.]\n",
            " [1. 1. 1. 1. 1.]\n",
            " [1. 1. 1. 1. 1.]]\n",
            "Array of the integers from 10 to 60\n",
            "[10 11 12 13 14 15 16 17 18 19 20 21 22 23 24 25 26 27 28 29 30 31 32 33\n",
            " 34 35 36 37 38 39 40 41 42 43 44 45 46 47 48 49 50 51 52 53 54 55 56 57\n",
            " 58 59]\n"
          ]
        }
      ]
    },
    {
      "cell_type": "markdown",
      "source": [
        "5.Create a NumPy array of strings ['python', 'numpy', 'pandas']. Apply different case transformations\n",
        "(uppercase, lowercase, title case, etc.) to each element."
      ],
      "metadata": {
        "id": "-EYzZnycOS0A"
      }
    },
    {
      "cell_type": "code",
      "source": [
        "import numpy as np\n",
        "\n",
        "x = np.array(['python', 'numpy', 'pandas'], dtype=str)\n",
        "\n",
        "\n",
        "print (x)"
      ],
      "metadata": {
        "colab": {
          "base_uri": "https://localhost:8080/"
        },
        "id": "PU7VvwSwOp-0",
        "outputId": "a9e59316-f48c-498e-aea4-6e9e626c4550"
      },
      "execution_count": 36,
      "outputs": [
        {
          "output_type": "stream",
          "name": "stdout",
          "text": [
            "['python' 'numpy' 'pandas']\n"
          ]
        }
      ]
    },
    {
      "cell_type": "markdown",
      "source": [
        "6.Generate a NumPy array of words. Insert a space between each character of every word in the array."
      ],
      "metadata": {
        "id": "9l9bvlnySbzw"
      }
    },
    {
      "cell_type": "code",
      "source": [
        "# importing numpy as np\n",
        "import numpy as np\n",
        "\n",
        "\n",
        "# creating array of string\n",
        "x = np.array([\"geeks\", \"for\", \"geeks\"],\n",
        "\t\t\tdtype=np.str)\n",
        "print(\"Printing the Original Array:\")\n",
        "print(x)\n",
        "\n",
        "# inserting space using np.char.join()\n",
        "r = np.char.join(\" \", x)\n",
        "print(\"Printing the array after inserting space\\\n",
        "between the elements\")\n",
        "print(r)\n"
      ],
      "metadata": {
        "colab": {
          "base_uri": "https://localhost:8080/",
          "height": 106
        },
        "collapsed": true,
        "id": "FbvIvlKjVrc3",
        "outputId": "6b02f9a6-22e8-43e0-9a99-9be12519f383"
      },
      "execution_count": 46,
      "outputs": [
        {
          "output_type": "error",
          "ename": "SyntaxError",
          "evalue": "unterminated string literal (detected at line 13) (<ipython-input-46-91588bed7853>, line 13)",
          "traceback": [
            "\u001b[0;36m  File \u001b[0;32m\"<ipython-input-46-91588bed7853>\"\u001b[0;36m, line \u001b[0;32m13\u001b[0m\n\u001b[0;31m    print(\"Printing the array after inserting space\\\u001b[0m\n\u001b[0m          ^\u001b[0m\n\u001b[0;31mSyntaxError\u001b[0m\u001b[0;31m:\u001b[0m unterminated string literal (detected at line 13)\n"
          ]
        }
      ]
    },
    {
      "cell_type": "markdown",
      "source": [
        "7.Create two 2D NumPy arrays and perform element-wise addition, subtraction, multiplication, and division."
      ],
      "metadata": {
        "id": "C3hv26OiWvtt"
      }
    },
    {
      "cell_type": "code",
      "source": [
        "# Importing the NumPy library\n",
        "import numpy as np\n",
        "\n",
        "# Displaying a message for addition operation\n",
        "print(\"Add:\")\n",
        "# Performing addition\n",
        "print(np.add(1.0, 4.0))\n",
        "\n",
        "# Displaying a message for subtraction operation\n",
        "print(\"Subtract:\")\n",
        "# Performing subtraction\n",
        "print(np.subtract(1.0, 4.0))\n",
        "\n",
        "# Displaying a message for multiplication operation\n",
        "print(\"Multiply:\")\n",
        "# Performing multiplication\n",
        "print(np.multiply(1.0, 4.0))\n",
        "\n",
        "# Displaying a message for division operation\n",
        "print(\"Divide:\")\n",
        "# Performing division\n",
        "print(np.divide(1.0, 4.0))\n"
      ],
      "metadata": {
        "colab": {
          "base_uri": "https://localhost:8080/"
        },
        "id": "BaXA0I1JXOAW",
        "outputId": "deb5d649-bc72-431c-daed-d5bd73b486b4"
      },
      "execution_count": 47,
      "outputs": [
        {
          "output_type": "stream",
          "name": "stdout",
          "text": [
            "Add:\n",
            "5.0\n",
            "Subtract:\n",
            "-3.0\n",
            "Multiply:\n",
            "4.0\n",
            "Divide:\n",
            "0.25\n"
          ]
        }
      ]
    },
    {
      "cell_type": "markdown",
      "source": [
        "8.Use NumPy to create a 5x5 identity matrix, then extract its diagonal elements."
      ],
      "metadata": {
        "id": "ZA9mVbccXRIU"
      }
    },
    {
      "cell_type": "code",
      "source": [
        "# Importing the NumPy library with an alias 'np'\n",
        "import numpy as np\n",
        "\n",
        "# Creating a diagonal matrix with diagonal elements 1, 2, 3, 4, 5 using np.diag()\n",
        "x = np.diag([1, 2, 3, 4, 5])\n",
        "\n",
        "# Printing the diagonal matrix 'x'\n",
        "print(x)\n"
      ],
      "metadata": {
        "colab": {
          "base_uri": "https://localhost:8080/"
        },
        "id": "I_9zBW5eXhU3",
        "outputId": "a7e54430-ee86-44f5-b7c8-772e66837053"
      },
      "execution_count": 48,
      "outputs": [
        {
          "output_type": "stream",
          "name": "stdout",
          "text": [
            "[[1 0 0 0 0]\n",
            " [0 2 0 0 0]\n",
            " [0 0 3 0 0]\n",
            " [0 0 0 4 0]\n",
            " [0 0 0 0 5]]\n"
          ]
        }
      ]
    },
    {
      "cell_type": "markdown",
      "source": [
        "9.Generate a NumPy array of 100 random integers between 0 and 1000. Find and display all prime numbers in\n",
        "this array."
      ],
      "metadata": {
        "id": "V-CuGWAeXliY"
      }
    },
    {
      "cell_type": "code",
      "source": [
        "import numpy as np\n",
        "\n",
        "random_number = np.random.randint(0, 1000)\n",
        "\n",
        "print(random_number)\n",
        "\n",
        "\n",
        "\n",
        "def prime(x, y):\n",
        "    prime_list = []\n",
        "    for i in range(x, y):\n",
        "        if i == 0 or i == 1:\n",
        "            continue\n",
        "        else:\n",
        "            for j in range(2, int(i/2)+1):\n",
        "                if i % j == 0:\n",
        "                    break\n",
        "            else:\n",
        "                prime_list.append(i)\n",
        "    return prime_list\n",
        "\n",
        "\n",
        "\n",
        "starting_range = 0\n",
        "ending_range = 1000\n",
        "lst = prime(starting_range, ending_range)\n",
        "if len(lst) == 0:\n",
        "    print(\"There are no prime numbers in this range\")\n",
        "else:\n",
        "    print(\"The prime numbers in this range are: \", lst)\n"
      ],
      "metadata": {
        "colab": {
          "base_uri": "https://localhost:8080/"
        },
        "id": "DxTvmhcuXmH_",
        "outputId": "49b9f885-c619-4db1-b9ba-02d3bc8285da"
      },
      "execution_count": 52,
      "outputs": [
        {
          "output_type": "stream",
          "name": "stdout",
          "text": [
            "930\n",
            "The prime numbers in this range are:  [2, 3, 5, 7, 11, 13, 17, 19, 23, 29, 31, 37, 41, 43, 47, 53, 59, 61, 67, 71, 73, 79, 83, 89, 97, 101, 103, 107, 109, 113, 127, 131, 137, 139, 149, 151, 157, 163, 167, 173, 179, 181, 191, 193, 197, 199, 211, 223, 227, 229, 233, 239, 241, 251, 257, 263, 269, 271, 277, 281, 283, 293, 307, 311, 313, 317, 331, 337, 347, 349, 353, 359, 367, 373, 379, 383, 389, 397, 401, 409, 419, 421, 431, 433, 439, 443, 449, 457, 461, 463, 467, 479, 487, 491, 499, 503, 509, 521, 523, 541, 547, 557, 563, 569, 571, 577, 587, 593, 599, 601, 607, 613, 617, 619, 631, 641, 643, 647, 653, 659, 661, 673, 677, 683, 691, 701, 709, 719, 727, 733, 739, 743, 751, 757, 761, 769, 773, 787, 797, 809, 811, 821, 823, 827, 829, 839, 853, 857, 859, 863, 877, 881, 883, 887, 907, 911, 919, 929, 937, 941, 947, 953, 967, 971, 977, 983, 991, 997]\n"
          ]
        }
      ]
    },
    {
      "cell_type": "markdown",
      "source": [
        "10.Create a NumPy array representing daily temperatures for a month. Calculate and display the weekly\n",
        "averages."
      ],
      "metadata": {
        "id": "UYm774wCY39M"
      }
    },
    {
      "cell_type": "code",
      "source": [
        "import numpy as np\n",
        "data = np.arange(1, 5)\n",
        "data\n",
        "np.average(data)\n",
        "np.average(np.arange(1, 11), weights=np.arange(10, 0, -1))"
      ],
      "metadata": {
        "colab": {
          "base_uri": "https://localhost:8080/"
        },
        "id": "8kGolh12Z17h",
        "outputId": "3b902d21-263c-4dcd-f9e6-97f5bf7785f7"
      },
      "execution_count": 54,
      "outputs": [
        {
          "output_type": "execute_result",
          "data": {
            "text/plain": [
              "4.0"
            ]
          },
          "metadata": {},
          "execution_count": 54
        }
      ]
    }
  ],
  "metadata": {
    "colab": {
      "toc_visible": true,
      "provenance": []
    },
    "kernelspec": {
      "display_name": "Python 3",
      "name": "python3"
    }
  },
  "nbformat": 4,
  "nbformat_minor": 0
}