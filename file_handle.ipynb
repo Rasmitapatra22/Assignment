{
  "cells": [
    {
      "cell_type": "markdown",
      "source": [
        "1.Discuss the scenarios where multithreading is preferable to multiprocessing and scenarios where\n",
        "multiprocessing is a better choice.\n",
        "\n",
        "  Multiprocessing uses multiple CPUs to run many processes at a time while multithreading creates multiple threads within a single process to get faster and more efficient task execution. Both Multiprocessing and Multithreading are used to increase the computing power of a system in different ways. In this article, we are going to discuss the difference between multiprocessing and multithreading in detail.\n",
        "\n",
        "\n",
        "** Multiprocessing**\n",
        "\n",
        "   Multiprocessing is a system that has more than one or two processors. In Multiprocessing, CPUs are added to increase the computing speed of the system. Because of Multiprocessing, There are many processes are executed simultaneously. Explore more about similar topics. Multiprocessing is classified into two categories:\n",
        "\n",
        "      1.Symmetric Multiprocessing\n",
        "      2.Asymmetric Multiprocessing\n",
        "\n",
        "  **Advantages**\n",
        "\n",
        "Increases computing power by utilizing multiple processors.\n",
        "Suitable for tasks that require heavy computational power.\n",
        "Disadvantages\n",
        "Process creation is time-consuming.\n",
        "Each process has its own address space, which can lead to higher memory usage.\n",
        "\n",
        "In Multiprocessing, CPUs are added for increasing computing power.\n",
        "In Multiprocessing, Many processes are executed simultaneously.\n",
        "Multiprocessing are classified into Symmetric and Asymmetric.\n",
        "In Multiprocessing, Process creation is a time-consuming process.\n",
        "In Multiprocessing, every process owned a separate address space.\n",
        "\n",
        "\n",
        "**Multithreading**\n",
        "\n",
        "Multithreading is a system in which multiple threads are created of a process for increasing the computing speed of the system. In multithreading, many threads of a process are executed simultaneously and process creation in multithreading is done according to economical.\n",
        "\n",
        "**Advantages**\n",
        "\n",
        "More efficient than multiprocessing for tasks within a single process.\n",
        "Threads share a common address space, which is memory-efficient.\n",
        "Disadvantages\n",
        "Not classified into categories like multiprocessing.\n",
        "Thread creation is economical but can lead to synchronization issues.\n",
        "\n",
        "While In Multithreading, many threads are created of a single process for increasing computing power.\n",
        "While in multithreading, many threads of a process are executed simultaneously.\n",
        "While Multithreading is not classified in any categories.\n",
        "While in Multithreading, process creation is according to economical.\n",
        "While in Multithreading, a common address space is shared by all the threads.\n"
      ],
      "metadata": {
        "id": "uyy7NT-vplJz"
      }
    },
    {
      "cell_type": "markdown",
      "source": [
        "2.Describe what a process pool is and how it helps in managing multiple processes efficiently.\n",
        "\n",
        "   Synchronization between processes\n",
        "\n",
        "Process synchronization is defined as a mechanism which ensures that two or more concurrent processes do not simultaneously execute some particular program segment known as critical section.\n",
        "\n",
        "Critical section refers to the parts of the program where the shared resource is accessed.\n",
        "\n",
        "Concurrent accesses to shared resource can lead to race condition.\n",
        "\n",
        "A race condition occurs when two or more processes can access shared data and they try to change it at the same time. As a result, the values of variables may be unpredictable and vary depending on the timings of context switches of the processes.\n",
        "\n",
        "\n",
        "     Pooling between processes\n",
        "\n",
        "It is a simple program to calculate squares of elements of a given list. In a multi-core/multi-processor system, Only one of the cores is used for program execution and it’s quite possible that other cores remain idle.\n",
        "\n",
        "In order to utilize all the cores, multiprocessing module provides a Pool class. The Pool class represents a pool of worker processes. It has methods which allows tasks to be offloaded to the worker processes in a few different ways.the task is offloaded/distributed among the cores/processes automatically by Pool object. User doesn’t need to worry about creating processes explicitly.\n",
        "\n",
        "\n",
        "    \n",
        "\n"
      ],
      "metadata": {
        "id": "_4D2IZQzrrxc"
      }
    },
    {
      "cell_type": "markdown",
      "source": [
        "3.Explain what multiprocessing is and why it is used in Python programs.\n",
        "\n",
        "   Multiprocessing refers to the ability of a system to support more than one processor at the same time. Applications in a multiprocessing system are broken to smaller routines that run independently. The operating system allocates these threads to the processors improving performance of the system.\n",
        "\n",
        "\n",
        "   Consider a computer system with a single processor. If it is assigned several processes at the same time, it will have to interrupt each task and switch briefly to another, to keep all of the processes going. This situation is just like a chef working in a kitchen alone. He has to do several tasks like baking, stirring, kneading dough, etc. So the gist is that: The more tasks you must do at once, the more difficult it gets to keep track of them all, and keeping the timing right becomes more of a challenge. This is where the concept of multiprocessing arises!\n",
        "\n",
        "A multiprocessing system can have:\n",
        "\n",
        "multiprocessor, i.e. a computer with more than one central processor.\n",
        "multi-core processor, i.e. a single computing component with two or more independent actual processing units (called “cores”).\n",
        "Here, the CPU can easily executes several tasks at once, with each task using its own processor. It is just like the chef in last situation being assisted by his assistants. Now, they can divide the tasks among themselves and chef doesn’t need to switch between his tasks.\n",
        "\n",
        "\n"
      ],
      "metadata": {
        "id": "zoOufNn2s8Ld"
      }
    },
    {
      "cell_type": "markdown",
      "source": [
        "4.Write a Python program using multithreading where one thread adds numbers to a list, and another\n",
        "thread removes numbers from the list. Implement a mechanism to avoid race conditions using\n",
        "threading.Lock.\n",
        "\n",
        "  Synchronization between threads\n",
        "\n",
        "Thread synchronization is defined as a mechanism which ensures that two or more concurrent threads do not simultaneously execute some particular program segment known as critical section.\n",
        "\n",
        "Critical section refers to the parts of the program where the shared resource is accessed.A race condition occurs when two or more threads can access shared data and they try to change it at the same time. As a result, the values of variables may be unpredictable and vary depending on the timings of context switches of the processes.Two threads t1 and t2 are created in main_task function and global variable x is set to 0.\n",
        "Each thread has a target function thread_task in which increment function is called 100000 times.\n",
        "increment function will increment the global variable x by 1 in each call.\n",
        "The expected final value of x is 200000 but what we get in 10 iterations of main_task function is some different values.\n",
        "\n",
        "This happens due to concurrent access of threads to the shared variable x. This unpredictability in value of x is nothing but race condition."
      ],
      "metadata": {
        "id": "lcnAnSuNt0pD"
      }
    },
    {
      "cell_type": "code",
      "source": [
        "import threading\n",
        "\n",
        "# global variable x\n",
        "x = 0\n",
        "\n",
        "def increment():\n",
        "\t\"\"\"\n",
        "\tfunction to increment global variable x\n",
        "\t\"\"\"\n",
        "\tglobal x\n",
        "\tx += 1\n",
        "\n",
        "def thread_task():\n",
        "\t\"\"\"\n",
        "\ttask for thread\n",
        "\tcalls increment function 100000 times.\n",
        "\t\"\"\"\n",
        "\tfor _ in range(100000):\n",
        "\t\tincrement()\n",
        "\n",
        "def main_task():\n",
        "\tglobal x\n",
        "\t# setting global variable x as 0\n",
        "\tx = 0\n",
        "\n",
        "\t# creating threads\n",
        "\tt1 = threading.Thread(target=thread_task)\n",
        "\tt2 = threading.Thread(target=thread_task)\n",
        "\n",
        "\t# start threads\n",
        "\tt1.start()\n",
        "\tt2.start()\n",
        "\n",
        "\t# wait until threads finish their job\n",
        "\tt1.join()\n",
        "\tt2.join()\n",
        "\n",
        "if __name__ == \"__main__\":\n",
        "\tfor i in range(10):\n",
        "\t\tmain_task()\n",
        "\t\tprint(\"Iteration {0}: x = {1}\".format(i,x))\n"
      ],
      "metadata": {
        "id": "4hMBukQturk_"
      },
      "execution_count": null,
      "outputs": []
    },
    {
      "cell_type": "markdown",
      "source": [
        "5.Describe the methods and tools available in Python for safely sharing data between threads and\n",
        "processes.\n",
        "\n",
        "\n",
        "\n",
        "   Sharing data between threads in Python demands thoughtful strategies due to the Global Interpreter Lock (GIL). Despite this constraint, various mechanisms ensure safe communication:\n",
        "\n",
        "Queue Module: Employ the queue module for thread-safe data sharing via queues.\n",
        "\n",
        "Thread-Safe Data Structures: Leverage collections module for thread-safe data structures like deque.\n",
        "\n",
        "Locks: Implement threading. Lock to synchronize access, preventing concurrent modifications.\n",
        "\n",
        "Event Objects: Use threading. Event for signaling between threads.\n",
        "\n",
        "Condition Objects: Employ threading. Condition to coordinate threads based on shared conditions.\n",
        "\n",
        "Thread-Safe Classes: Design custom classes with built-in thread safety using locks.\n",
        "\n",
        "\n",
        "\n",
        "Threads can use :\n",
        "\n",
        "queues and other structures from the threading module\n",
        "shared memory\n",
        "simple files\n",
        "Processes can use\n",
        "\n",
        "shared memory\n",
        "simple files\n",
        "memory mapped files\n",
        "pipes\n",
        "sockets\n",
        "\n",
        "\n",
        "\n"
      ],
      "metadata": {
        "id": "CxvX3oz-BR6G"
      }
    },
    {
      "cell_type": "markdown",
      "source": [
        "6.Discuss why it’s crucial to handle exceptions in concurrent programs and the techniques available for\n",
        "doing so.\n",
        "\n",
        "\n",
        "\n",
        "   Different types of exceptions in python:\n",
        "\n",
        "In Python, there are several built-in Python exceptions that can be raised when an error occurs during the execution of a program. Here are some of the most common types of exceptions in Python:\n",
        "\n",
        "SyntaxError: This exception is raised when the interpreter encounters a syntax error in the code, such as a misspelled keyword, a missing colon, or an unbalanced parenthesis.\n",
        "TypeError: This exception is raised when an operation or function is applied to an object of the wrong type, such as adding a string to an integer.\n",
        "NameError: This exception is raised when a variable or function name is not found in the current scope.\n",
        "IndexError: This exception is raised when an index is out of range for a list, tuple, or other sequence types.\n",
        "KeyError: This exception is raised when a key is not found in a dictionary.\n",
        "ValueError: This exception is raised when a function or method is called with an invalid argument or input, such as trying to convert a string to an integer when the string does not represent a valid integer.\n",
        "AttributeError: This exception is raised when an attribute or method is not found on an object, such as trying to access a non-existent attribute of a class instance.\n",
        "IOError: This exception is raised when an I/O operation, such as reading or writing a file, fails due to an input/output error.\n",
        "ZeroDivisionError: This exception is raised when an attempt is made to divide a number by zero.\n",
        "ImportError: This exception is raised when an import statement fails to find or load a module.\n",
        "These are just a few examples of the many types of exceptions that can occur in Python. It’s important to handle exceptions properly in your code using try-except blocks or other error-handling techniques, in order to gracefully handle errors and prevent the program from crashing.Advantages of Exception Handling:\n",
        "Improved program reliability: By handling exceptions properly, you can prevent your program from crashing or producing incorrect results due to unexpected errors or input.\n",
        "Simplified error handling: Exception handling allows you to separate error handling code from the main program logic, making it easier to read and maintain your code.\n",
        "Cleaner code: With exception handling, you can avoid using complex conditional statements to check for errors, leading to cleaner and more readable code.\n",
        "Easier debugging: When an exception is raised, the Python interpreter prints a traceback that shows the exact location where the exception occurred, making it easier to debug your code.\n",
        "Disadvantages of Exception Handling:\n",
        "Performance overhead: Exception handling can be slower than using conditional statements to check for errors, as the interpreter has to perform additional work to catch and handle the exception.\n",
        "Increased code complexity: Exception handling can make your code more complex, especially if you have to handle multiple types of exceptions or implement complex error handling logic.\n",
        "Possible security risks: Improperly handled exceptions can potentially reveal sensitive information or create security vulnerabilities in your code, so it’s important to handle exceptions carefully and avoid exposing too much information about your program."
      ],
      "metadata": {
        "id": "wbU9kCX3CqM-"
      }
    },
    {
      "cell_type": "markdown",
      "source": [
        "7.Create a program that uses a thread pool to calculate the factorial of numbers from 1 to 10 concurrently.\n",
        "Use concurrent.futures.ThreadPoolExecutor to manage the threads.\n",
        "\n",
        "\n"
      ],
      "metadata": {
        "id": "Qfa9ieDEDmQ0"
      }
    },
    {
      "cell_type": "code",
      "source": [
        "import threading\n",
        "\n",
        "def factorial_of_a_anumber(n):\n",
        "    result = 1\n",
        "    for i in range(1, n+1):\n",
        "        result *= i\n",
        "    return result\n",
        "\n",
        "def calculate_factorial(n):\n",
        "    print(f\"\\nCalculating factorial of {n} in thread {threading.current_thread().name}\")\n",
        "    result = factorial_of_a_anumber(n)\n",
        "    print(f\"Factorial of {n} is {result} in thread {threading.current_thread().name}\")\n",
        "\n",
        "\n",
        "n = 10\n",
        "\n",
        "# Create threads for factorial calculation\n",
        "thread1 = threading.Thread(target=calculate_factorial, args=(n,))\n",
        "thread2 = threading.Thread(target=calculate_factorial, args=(n,))\n",
        "\n",
        "# Start the threads\n",
        "thread1.start()\n",
        "thread2.start()\n",
        "\n",
        "# Wait for the threads to complete\n",
        "thread1.join()\n",
        "thread2.join()\n"
      ],
      "metadata": {
        "colab": {
          "base_uri": "https://localhost:8080/"
        },
        "id": "tzFALUwHG0Me",
        "outputId": "b48300f6-48de-46f8-eebd-c56ab0b7e2d8"
      },
      "execution_count": 3,
      "outputs": [
        {
          "output_type": "stream",
          "name": "stdout",
          "text": [
            "\n",
            "Calculating factorial of 10 in thread Thread-14 (calculate_factorial)\n",
            "Factorial of 10 is 3628800 in thread Thread-14 (calculate_factorial)\n",
            "\n",
            "Calculating factorial of 10 in thread Thread-15 (calculate_factorial)\n",
            "Factorial of 10 is 3628800 in thread Thread-15 (calculate_factorial)\n"
          ]
        }
      ]
    },
    {
      "cell_type": "markdown",
      "source": [
        "8.Create a Python program that uses multiprocessing.Pool to compute the square of numbers from 1 to 10 in\n",
        "parallel. Measure the time taken to perform this computation using a pool of different sizes (e.g., 2, 4, 8\n",
        "processes)"
      ],
      "metadata": {
        "id": "n_9hJxZtG_n9"
      }
    },
    {
      "cell_type": "code",
      "source": [
        "import multiprocessing\n",
        "\n",
        "\n",
        "def calculate_square(number):\n",
        "    result = number * number\n",
        "    return result\n",
        "\n",
        "\n",
        "def parallel_processing(numbers, pool_size):\n",
        "    # Create a multiprocessing pool\n",
        "    pool = multiprocessing.Pool(pool_size)\n",
        "\n",
        "\n",
        "    results = pool.map(calculate_square, numbers)\n",
        "\n",
        "\n",
        "    pool.close()\n",
        "    pool.join()\n",
        "\n",
        "    return results\n",
        "\n",
        "if __name__ == \"__main__\":\n",
        "\n",
        "    numbers_to_square = [1, 2, 3, 4, 5, 6, 7, 8, 9, 10]\n",
        "\n",
        "    pool_size = multiprocessing.cpu_count()\n",
        "\n",
        "    results = parallel_processing(numbers_to_square, pool_size)\n",
        "\n",
        "    print(\"Original numbers:\", numbers_to_square)\n",
        "    print(\"Squared numbers:\", results)"
      ],
      "metadata": {
        "colab": {
          "base_uri": "https://localhost:8080/"
        },
        "id": "DBWHYHmMIq5t",
        "outputId": "19a4fb7f-08c1-4e79-f19c-e847e01b25ab"
      },
      "execution_count": 4,
      "outputs": [
        {
          "output_type": "stream",
          "name": "stdout",
          "text": [
            "Original numbers: [1, 2, 3, 4, 5, 6, 7, 8, 9, 10]\n",
            "Squared numbers: [1, 4, 9, 16, 25, 36, 49, 64, 81, 100]\n"
          ]
        }
      ]
    }
  ],
  "metadata": {
    "colab": {
      "toc_visible": true,
      "provenance": []
    },
    "kernelspec": {
      "display_name": "Python 3",
      "name": "python3"
    }
  },
  "nbformat": 4,
  "nbformat_minor": 0
}