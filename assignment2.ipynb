
1.Discuss string slicing and provide examples.

  Python slicing is about obtaining a sub-string from the given string by slicing it respectively from start to end.
  we will cover 2 methods of string slicing, one using the in-build slice() method and another using the [:] array slice. String slicing in Python is about obtaining a sub-string from the given string by slicing it respectively from start to end.

  Python slicing can be done in two ways:
Using a slice() method
Using the array slicing  [:: ] method

   Index tracker for positive and negative index:
 String indexing and slicing in python. Here, the Negative comes into consideration when tracking the string in reverse.

 **Method 1: Using the slice() method**

The slice() constructor creates a slice object representing the set of indices specified by range(start, stop, step).

**Syntax:**

slice(stop)
slice(start, stop, step)
Parameters: start: Starting index where the slicing of object starts. stop: Ending index where the slicing of object stops. step: It is an optional argument that determines the increment between each index for slicing. Return Type: Returns a sliced object containing elements in the given range only.

**Method 2: Using the List/array slicing  [ :: ]  method**

In Python, indexing syntax can be used as a substitute for the slice object. This is an easy and convenient way to slice a string using list slicing and Array slicing both syntax-wise and execution-wise. A start, end, and step have the same mechanism as the slice() constructor.

# String slicing
String = 'india'

# Using slice constructor
s1 = slice(3)
s2 = slice(1, 5, 2)
s3 = slice(-1, -12, -2)

print("String slicing")
print(String[s1])
print(String[s2])
print(String[s3])
String = 'bharat'

# Using indexing sequence
print(String[:3])

2.Explain the key feeatures of lists in Python.

   **List**
Lists are used to store multiple items in a single variable.

Lists are one of 4 built-in data types in Python used to store collections of data, the other 3 are Tuple, Set, and Dictionary, all with different qualities and usage.

**List Items**

List items are ordered, changeable, and allow duplicate values.

List items are indexed, the first item has index [0], the second item has index [1] etc.

Ordered
When we say that lists are ordered, it means that the items have a defined order, and that order will not change.

If you add new items to a list, the new items will be placed at the end of the list.

Changeable
The list is changeable, meaning that we can change, add, and remove items in a list after it has been created.

Allow Duplicates
Since lists are indexed, lists can have items with the same value:
thislist = ["apple", "banana", "cherry"]
print(thislist)


#Lists allow duplicate values

thislist = ["apple", "banana", "cherry", "apple", "cherry"]
print(thislist)
3.Describe how to access, modify, and delete elements in a list with examples.

  **Access Items**
You access the list items by referring to the index number.

  **modify Item Value**
To change the value of a specific item, refer to the index number.

**Delete Specified Item**
The remove() method removes the specified item.


#Access Items
#Print the second item of the list:

thislist = ["apple", "banana", "cherry"]
print(thislist[1])


#modify the second item

thislist = ["apple", "banana", "cherry"]
thislist[1] = "blackcurrant"
print(thislist)
#Delete "banana":

thislist = ["apple", "banana", "cherry"]
thislist.remove("banana")
print(thislist)
4.Compare and contrast tuples and lists with examples.

   **LIST**

  Lists are mutable.

  The implication of iterations is Time-consuming.

  The list is better for performing operations, such as insertion and deletion.

  Lists consume more memory.

  Lists have several built-in methods	.

  Unexpected changes and errors are more likely to occur.

 ** TUPLE**

 Tuples are immutable.

 The implication of iterations is comparatively Faster.

 A Tuple data type is appropriate for accessing the elements.

 Tuple consumes less memory as compared to the list.

 Tuple does not have many built-in methods.

 Because tuples don’t change they are far less error-prone.
List = [1, 2, 4, 4, 3, 3, 3, 6, 5]
print("Original list ", List)

List[3] = 77
print("Example to show mutability ", List)




# tuples are immutable

tuple1 = (0, 1, 2, 3)
tuple1[1] = 4
print(tuple1)
5.Describe the key features of sets and provide examples of their use.

  A well-defined collection of Objects or items or data is known as a set. The objects or data are known as the element. For Example, the boys in a classroom can be put in one set, all integers from 1 to 100 can become one set, and all prime numbers can be called an Infinite set. The symbol used for sets is {…..}. Only the collection of data with specific characteristics is called a set.

Example: Separate out the collections that can be placed in a set.

Beautiful Girls in a class
All even numbers
Good basketball players
Natural numbers divisible by 3
Number from 1 to 10.
 **Types of Sets in Mathematics**
    
Singleton Set

Empty Set

Finite Set

Infinite Set

Equal Set

Equivalent Set

Subset

Power Set

Universal Set

Disjoint Sets
6.Discuss the use cases of tuples and sets in Python programming.

     **Tuple:**

         Tuple is a collection of Python objects much like a list. The sequence of values stored in a tuple can be of any type, and they are indexed by integers. Values of a tuple are syntactically separated by 'commas'. Although it is not necessary, it is more common to define a tuple by closing the sequence of values in parentheses. The main characteristics of tuples are -

               Tuple is an immutable sequence in python.
               It cannot be changed or replaced since it is immutable.
               It is defined under parenthesis().
               Tuples can store any type of element.

      **Set:**

           In Python, Set is an unordered collection of data type that is iterable, mutable, and has no duplicate elements. The major advantage of using a set, as opposed to a list, is that it has a highly optimized method for checking whether a specific element is contained in the set. The main characteristics of set are -

                Sets are an unordered collection of elements or unintended collection of items In python.
                Here the order in which the elements are added into the set is not fixed, it can change frequently.
                It is defined under curly braces{}
                Sets are mutable, however, only immutable objects can be stored in it.
7.Describe how to add, modify, and delete items in a dictionary with examples.

  **Adding Items**

Adding an item to the dictionary is done by using a new index key and assigning a value to it.

   **Modify Values**

You can change the value of a specific item by referring to its key name.

   **Delete items**

There are several methods to remove items from a dictionary.
The popitem() method removes the last inserted item.
The del keyword removes the item with the specified key name.
The clear() keyword empties the dictionary.
#Adding Items

thisdict = {
  "brand": "Ford",
  "model": "Mustang",
  "year": 1997
}
thisdict["color"] = "black"
print(thisdict)


#Modify Values

thisdict = {
  "brand": "Ford",
  "model": "Mustang",
  "year": 1997
}
thisdict["year"] = 2024
#Delete items
thisdict = {
  "brand": "Ford",
  "model": "Mustang",
  "year": 1997
}
del thisdict["model"]
print(thisdict)
8. Discuss the importance of dictionary keys being immutable and provide examples.

 dictionary is a data structure that stores the value in key: value pairs.

Example: Here, The data is stored in key: value pairs in dictionaries, which makes it easier to find values.

Python dictionaries are essential for efficient data mapping and manipulation in programming.

To deepen your understanding of dictionaries and explore advanced techniques in data handling, consider enrolling in our Complete Machine Learning & Data Science Program.

This course covers everything from basic dictionary operations to advanced data processing methods, empowering you to become proficient in Python programming and data analysis.
    
Dict = {1: 'song', 2: 'For', 3: 'song'}
print("\nDictionary with the use of Integer Keys: ")
print(Dict)

Dict = {'Name': 'song', 1: [1, 2, 3, 4]}
print("\nDictionary with the use of Mixed Keys: ")
print(Dict)
