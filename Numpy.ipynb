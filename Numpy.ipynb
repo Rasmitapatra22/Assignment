{
  "cells": [
    {
      "cell_type": "markdown",
      "source": [
        "1.Explain the purpose and advantages of NumPy in scientific computing and data analysis. How does it\n",
        "enhance Python's capabilities for numerical operations?\n",
        "\n",
        "\n",
        "  NumPy is an open source mathematical and scientific computing library for Python programming tasks. The name NumPy is shorthand for Numerical Python. The NumPy library offers a collection of high-level mathematical functions including support for multi-dimensional arrays, masked arrays and matrices. NumPy also includes various logical and mathematical capabilities for those arrays such as shape manipulation, sorting, selection, linear algebra, statistical operations, random number generation and discrete Fourier transforms.\n",
        "\n",
        "  **Scientific computing**\n",
        "     NumPy handles advanced mathematical operations such as matrix multiplication, eigenvalue calculation and differential equations. This makes NumPy particularly valuable across a vast range of simulation, modeling, visualization, computational processing and other scientific computing tasks.\n",
        "\n",
        "     **Data manipulation and analysis**\n",
        "       NumPy can be used for data cleaning, transformation and aggregation. The data can then be readily processed through varied NumPy mathematical operations such as statistical analysis, Fourier analysis and linear algebra -- all vital for advanced data analytics and data science tasks.\n",
        "\n",
        "       NumPy is an indispensable tool for scientific computing, data analysis, and numerical computations in Python. Its ability to efficiently handle arrays, perform complex mathematical operations, and seamlessly integrate with other libraries solidifies its position as the cornerstone of numerical computing in Python."
      ],
      "metadata": {
        "id": "w6NunaY9pqUY"
      }
    },
    {
      "cell_type": "markdown",
      "source": [
        "2.Compare and contrast np.mean() and np.average() functions in NumPy. When would you use one over the\n",
        "other?\n",
        "\n",
        "\n",
        "   **np.mean()**\n",
        "\n",
        "     Use to calculate arithmetic mean.\n",
        "     All elements have equal weight.\n",
        "     Weight cannot be passed trough the parameter of the given function.\n",
        "     Syntax :\n",
        "     np.mean(arr, axis = None)\n",
        "     where ‘arr’ is the given array.\n",
        "\n",
        "\n",
        "   **np.average()**\n",
        "\n",
        "      Use to calculate the arithmetic mean as well as weighted average.\n",
        "      All elements may or may not have equal weight.\n",
        "      Weight can be passed through the parameter of the given function.\n",
        "      Syntax :\n",
        "      numpy.average(arr, axis = None, weights = None)\n",
        "      Where ‘arr’ is the given array"
      ],
      "metadata": {
        "id": "70hxFsu_ruRd"
      }
    },
    {
      "cell_type": "code",
      "source": [
        "import numpy as np\n",
        "arr = np.array([1,2,3,4,5,6,7,8,9,10])\n",
        "print(\"Array : \",arr,\"\\n\")\n",
        "print(\"Mean of the Array : \",np.mean(arr))\n",
        "\n",
        "\n",
        "\n",
        "import numpy as np\n",
        "arr = np.array([1,2,3,4,5,6,7,8,9,10])\n",
        "print(\"Array : \",arr,\"\\n\")\n",
        "print(\"Mean of the Array : \",np.average(arr),\"\\n\")\n",
        "weight = np.array([4,5,6,12,15,10,2,8,19,20])\n",
        "print(\"Weight average of Array : \",np.average(arr, weights=weight))\n"
      ],
      "metadata": {
        "id": "8u2oLbDrs4ft",
        "outputId": "51b01338-af51-41bd-9441-ad1df68cb699",
        "colab": {
          "base_uri": "https://localhost:8080/"
        }
      },
      "execution_count": null,
      "outputs": [
        {
          "output_type": "stream",
          "name": "stdout",
          "text": [
            "Array :  [ 1  2  3  4  5  6  7  8  9 10] \n",
            "\n",
            "Mean of the Array :  5.5\n",
            "Array :  [ 1  2  3  4  5  6  7  8  9 10] \n",
            "\n",
            "Mean of the Array :  5.5 \n",
            "\n",
            "Weight average of Array :  6.574257425742574\n"
          ]
        }
      ]
    },
    {
      "cell_type": "markdown",
      "source": [
        "3.Describe the methods for reversing a NumPy array along different axes. Provide examples for 1D and 2D\n",
        "arrays.\n",
        "\n",
        "\n",
        "   As we know Numpy is a general-purpose array-processing package that provides a high-performance multidimensional array object, and tools for working with these arrays. Let’s discuss how can we reverse a Numpy array.\n",
        "\n",
        "Using flip() function to Reverse a Numpy array\n",
        "The numpy.flip() function reverses the order of array elements along the specified axis, preserving the shape of the array.\n",
        "\n",
        "\n",
        " Using the list slicing method to reverse a Numpy array\n",
        "This method makes a copy of the list instead of sorting it in order. To accommodate all of the current components, making a clone requires additional room. More RAM is used up in this way. Here, we’re utilizing Python’s slicing method to invert our list.\n",
        "\n",
        "\n",
        "Using flipud function to Reverse a Numpy array\n",
        "The numpy.flipud() function flips the array(entries in each column) in up-down direction, shape preserved."
      ],
      "metadata": {
        "id": "bJgpoprKtK9O"
      }
    },
    {
      "cell_type": "code",
      "source": [
        "# importing Numpy\n",
        "import numpy as np\n",
        "\n",
        "# 1d Array of Tuple\n",
        "arr = [(1, 2, 3), ('Hi', 'Hello', 'Hey')]\n",
        "x = map(np.array, arr)\n",
        "\n",
        "# Changing map object to a list, then\n",
        "# to an NDarray\n",
        "x = np.array(list(x))\n",
        "print(x)\n",
        "\n",
        "# Checking the Dimension of the Resulting\n",
        "# NDArray\n",
        "print(x.ndim)\n",
        "\n",
        "\n",
        "\n",
        "import numpy as np\n",
        "\n",
        "# creating 2D float array.\n",
        "float_array = np.array([[1., 2., 3.], [4., 5., 6.]])\n",
        "print('Before converting: ', float_array, '\\n Data type of array: ', float_array.dtype)\n",
        "\n",
        "# setting dtype to np.int32 to convert the data type of float_array from float to int\n",
        "float_array = np.array(float_array, dtype=np.int32)\n",
        "print('After Converting: ', float_array, '\\n Data type of array: ', float_array.dtype)\n"
      ],
      "metadata": {
        "id": "lOShrXFCtLSy",
        "colab": {
          "base_uri": "https://localhost:8080/"
        },
        "outputId": "934484ea-2fe4-40cf-f996-2f7a5e150378"
      },
      "execution_count": 2,
      "outputs": [
        {
          "output_type": "stream",
          "name": "stdout",
          "text": [
            "[['1' '2' '3']\n",
            " ['Hi' 'Hello' 'Hey']]\n",
            "2\n",
            "Before converting:  [[1. 2. 3.]\n",
            " [4. 5. 6.]] \n",
            " Data type of array:  float64\n",
            "After Converting:  [[1 2 3]\n",
            " [4 5 6]] \n",
            " Data type of array:  int32\n"
          ]
        }
      ]
    },
    {
      "cell_type": "markdown",
      "source": [
        "4.How can you determine the data type of elements in a NumPy array? Discuss the importance of data types\n",
        "in memory management and performance.\n",
        "\n",
        "\n",
        "   We can check the datatype of Numpy array by using dtype. Then it returns the data type all the elements in the array. In the given example below we import NumPy library and craete an array using “array()” method with integer value. Then we store the data type of the array in a variable named “data_type” using the ‘dtype’ attribute, and after then we can finally, we print the data type.\n",
        "\n",
        "\n",
        "   Create Arrays With a Defined Data Type\n",
        "We can create an array with a defined data type by specifying “dtype” attribute in numpy.array() method while initializing an array. In the below code we have created various types of defined arrays such as ‘float64’, ‘int32’, ‘complex128’, and ‘bool’.\n",
        "\n",
        "\n",
        "Convert Data Type of NumPy Arrays\n",
        "We can convert data type of an arrays from one type to another using astype() function. In the below code we have initialize an array with float type values. After that we have convert that float64 type array to int32 type using astype() function. Finally, print the array and their types of original array and new array."
      ],
      "metadata": {
        "id": "dDukn0Vt1DJc"
      }
    },
    {
      "cell_type": "code",
      "source": [
        "import numpy as np\n",
        "\n",
        "# Create an array with float data type elements\n",
        "arr_original = np.array([1.2, 2.5, 3.7])\n",
        "\n",
        "# Converting to int32\n",
        "arr_new = arr_original.astype(np.int32)\n",
        "\n",
        "# Print the original its type\n",
        "print(\"Original array:\", arr_original)\n",
        "print(\"Data type of original array:\", arr_original.dtype)\n",
        "\n",
        "# Print new array and its type\n",
        "print(\"\\nNew array:\", arr_new)\n",
        "print(\"Data type of new array:\", arr_new.dtype)\n"
      ],
      "metadata": {
        "colab": {
          "base_uri": "https://localhost:8080/"
        },
        "id": "qPyY4Bmo2cFi",
        "outputId": "6fc84a71-36e7-46e0-e4b9-5e5f8b6a073e"
      },
      "execution_count": 3,
      "outputs": [
        {
          "output_type": "stream",
          "name": "stdout",
          "text": [
            "Original array: [1.2 2.5 3.7]\n",
            "Data type of original array: float64\n",
            "\n",
            "New array: [1 2 3]\n",
            "Data type of new array: int32\n"
          ]
        }
      ]
    },
    {
      "cell_type": "markdown",
      "source": [
        "5.Define ndarrays in NumPy and explain their key features. How do they differ from standard Python lists?\n",
        "\n",
        "   Array in Numpy is a table of elements (usually numbers), all of the same type, indexed by a tuple of positive integers. In Numpy, number of dimensions of the array is called rank of the array.A tuple of integers giving the size of the array along each dimension is known as shape of the array. An array class in Numpy is called as ndarray. Elements in Numpy arrays are accessed by using square brackets and can be initialized by using nested Python Lists.\n",
        "\n",
        "\n",
        "\n",
        "   A Python list is a collection that is ordered and changeable. In Python, lists are written with square brackets.\n",
        "\n",
        "Some important points about Python Lists:\n",
        "\n",
        "The list can be homogeneous or heterogeneous.\n",
        "Element-wise operation is not possible on the list.\n",
        "Python list is by default 1-dimensional. But we can create an N-Dimensional list. But then too it will be 1 D list storing another 1D list\n",
        "Elements of a list need not be contiguous in memory.\n",
        "\n",
        "\n",
        "\n",
        "The main features of NumPy's multi-dimensional arrays (numpy.ndarray) are as follows:\n",
        "\n",
        "Require installation and importing of NumPy\n",
        "Can store only elements of the same type\n",
        "However, it is possible to store pointers to different types by using the object type\n",
        "NumPy: astype() to change dtype of an array\n",
        "Can represent multi-dimensional arrays\n",
        "Provide various methods and functions for numerical computation\n",
        "Useful in various scenarios such as matrix operations and image processing\n",
        "Matrix operations with NumPy in Python\n",
        "Image processing with Python, NumPy"
      ],
      "metadata": {
        "id": "2_Kp6iBk2epb"
      }
    },
    {
      "cell_type": "markdown",
      "source": [
        "6.Analyze the performance benefits of NumPy arrays over Python lists for large-scale numerical operations.\n",
        "\n",
        "\n",
        "\n",
        "NumPy is the fundamental package for scientific computing in Python. Numpy arrays facilitate advanced mathematical and other types of operations on large numbers of data. Typically, such operations are executed more efficiently and with less code than is possible using Python’s built-in sequences. Numpy is not another programming language but a Python extension module. It provides fast and efficient operations on arrays of homogeneous data.\n",
        "\n",
        "Some important points about Numpy arrays:\n",
        "\n",
        "We can create an N-dimensional array in Python using Numpy.array().\n",
        "The array is by default Homogeneous, which means data inside an array must be of the same Datatype. (Note You can also create a structured array in Python).\n",
        "Element-wise operation is possible.\n",
        "Numpy array has various functions, methods, and variables, to ease our task of matrix computation.\n",
        "Elements of an array are stored contiguously in memory. For example, all rows of a two-dimensioned array must have the same number of columns. A three-dimensional array must have the same number of rows and columns on each card.\n",
        "\n",
        "   **Representation of Numpy array**\n",
        "Single Dimensional Numpy Array\n",
        "Multi-dimensional Numpy Array\n",
        "\n",
        "\n",
        "Homogeneous Data: NumPy arrays store elements of the same data type, making them more compact and memory-efficient than lists.\n",
        "Fixed Data Type: NumPy arrays have a fixed data type, reducing memory overhead by eliminating the need to store type information for each element.\n",
        "Contiguous Memory: NumPy arrays store elements in adjacent memory locations, reducing fragmentation and allowing for efficient access.\n",
        "Array Metadata: NumPy arrays have extra metadata like shape, strides, and data type. However, this overhead is usually smaller than the per-element overhead in lists.\n",
        "Performance: NumPy arrays are optimized for numerical computations, with efficient element-wise operations and mathematical functions. These operations are implemented in C, resulting in faster performance than equivalent operations on lists.\n"
      ],
      "metadata": {
        "id": "s_mn_vHN3l_w"
      }
    },
    {
      "cell_type": "markdown",
      "source": [
        "7.Compare vstack() and hstack() functions in NumPy. Provide examples demonstrating their usage and\n",
        "output.\n",
        "\n",
        "\n",
        "   vstack() function is used to stack arrays vertically (row-wise) to make a single array. It takes a sequence of arrays and joins them vertically. This is equivalent to concatenation along the first axis after 1-D arrays of shape (N,) have been reshaped to (1,N).\n",
        "This function is useful when you have two or more arrays with the same number of columns, and you want to concatenate them vertically (row-wise). It is also useful to append a single array as a new row to an existing 2D array.\n",
        "\n",
        "\n",
        "The  numpy.hstack() function is used to stack arrays in sequence horizontally (column wise). This is equivalent to concatenation along the second axis, except for 1-D arrays where it concatenates along the first axis. Rebuilds arrays divided by hsplit.\n",
        "This function is useful in the scenarios when we have to concatenate two arrays of different shapes along the second axis (column-wise). For example, to combine two arrays of shape (n, m) and (n, l) to form an array of shape (n, m+l).\n"
      ],
      "metadata": {
        "id": "-MsZgSX55AoY"
      }
    },
    {
      "cell_type": "code",
      "source": [
        "\n",
        "# hstack() function\n",
        "\n",
        "import numpy as rasmita\n",
        "\n",
        "# input array\n",
        "in_arr1 = rasmita.array([ 1, 2, 3] )\n",
        "print (\"1st Input array : \\n\", in_arr1)\n",
        "\n",
        "in_arr2 = rasmita.array([ 4, 5, 6] )\n",
        "print (\"2nd Input array : \\n\", in_arr2)\n",
        "\n",
        "# Stacking the two arrays horizontally\n",
        "out_arr = rasmita.hstack((in_arr1, in_arr2))\n",
        "print (\"Output horizontally stacked array:\\n \", out_arr)\n",
        "\n",
        "\n",
        "\n",
        "# vstack() function\n",
        "\n",
        "import numpy as rasmita\n",
        "\n",
        "# input array\n",
        "in_arr1 = rasmita.array([ 1, 2, 3] )\n",
        "print (\"1st Input array : \\n\", in_arr1)\n",
        "\n",
        "in_arr2 = rasmita.array([ 4, 5, 6] )\n",
        "print (\"2nd Input array : \\n\", in_arr2)\n",
        "\n",
        "# Stacking the two arrays vertically\n",
        "out_arr = rasmita.vstack((in_arr1, in_arr2))\n",
        "print (\"Output vertically stacked array:\\n \", out_arr)\n"
      ],
      "metadata": {
        "colab": {
          "base_uri": "https://localhost:8080/"
        },
        "id": "G6skiKdz8HRp",
        "outputId": "fd4b4244-cace-4001-bfb6-317f91449b39"
      },
      "execution_count": 6,
      "outputs": [
        {
          "output_type": "stream",
          "name": "stdout",
          "text": [
            "1st Input array : \n",
            " [1 2 3]\n",
            "2nd Input array : \n",
            " [4 5 6]\n",
            "Output horizontally stacked array:\n",
            "  [1 2 3 4 5 6]\n",
            "1st Input array : \n",
            " [1 2 3]\n",
            "2nd Input array : \n",
            " [4 5 6]\n",
            "Output vertically stacked array:\n",
            "  [[1 2 3]\n",
            " [4 5 6]]\n"
          ]
        }
      ]
    },
    {
      "cell_type": "markdown",
      "source": [
        "8.Explain the differences between fliplr() and flipud() methods in NumPy, including their effects on various\n",
        "array dimensions.\n",
        "\n",
        "\n",
        "   numpy.fliplr(array) : Flip array(entries in each column) in left-right direction, shape preserved\n",
        "\n",
        "\n",
        "   numpy.fliplr(array) : Flip array(entries in each column) in left-right direction, shape preserved"
      ],
      "metadata": {
        "id": "p1VlPxYM9ctb"
      }
    },
    {
      "cell_type": "code",
      "source": [
        "\n",
        "# numpy.flipud() method\n",
        "\n",
        "import numpy as patra\n",
        "\n",
        "array = patra.arange(8).reshape((2,2,2))\n",
        "print(\"Original array : \\n\", array)\n",
        "\n",
        "# flipud : means flip up-down\n",
        "print(\"\\nFlipped array : \\n\", geek.flipud(array))\n",
        "\n",
        "\n",
        "\n",
        "\n",
        "# numpy.fliplr() method\n",
        "\n",
        "import numpy as patra\n",
        "\n",
        "array = patra.arange(8).reshape((2,2,2))\n",
        "print(\"Original array : \\n\", array)\n",
        "\n",
        "# fliplr : means flip left-right\n",
        "print(\"\\nFlipped array left-right : \\n\", patra.fliplr(array))\n",
        "\n"
      ],
      "metadata": {
        "colab": {
          "base_uri": "https://localhost:8080/"
        },
        "id": "UbEyBZQU-rTg",
        "outputId": "c230d53b-1fd7-4648-8554-9fa394748336"
      },
      "execution_count": 9,
      "outputs": [
        {
          "output_type": "stream",
          "name": "stdout",
          "text": [
            "Original array : \n",
            " [[[0 1]\n",
            "  [2 3]]\n",
            "\n",
            " [[4 5]\n",
            "  [6 7]]]\n",
            "\n",
            "Flipped array : \n",
            " [[[4 5]\n",
            "  [6 7]]\n",
            "\n",
            " [[0 1]\n",
            "  [2 3]]]\n",
            "Original array : \n",
            " [[[0 1]\n",
            "  [2 3]]\n",
            "\n",
            " [[4 5]\n",
            "  [6 7]]]\n",
            "\n",
            "Flipped array left-right : \n",
            " [[[2 3]\n",
            "  [0 1]]\n",
            "\n",
            " [[6 7]\n",
            "  [4 5]]]\n"
          ]
        }
      ]
    },
    {
      "cell_type": "markdown",
      "source": [
        "9.Discuss the functionality of the array_split() method in NumPy. How does it handle uneven splits?\n",
        "\n",
        "\n",
        "   Array splitting in NumPy is like a slice of cake. Think of each element in a NumPy array as a slice of cake. Splitting divides this “cake” into smaller “slices” (sub-arrays), often along specific dimensions or based on certain criteria. We can split horizontally, vertically, or even diagonally depending on our needs.\n",
        "\n",
        "The split(), hsplit(), vsplit(), and dsplit() functions are important tools for dividing arrays along various axes and dimensions. These functions are particularly useful when working with one-dimensional arrays, matrices, or high-dimensional datasets. NumPy’s array-splitting capabilities are crucial for enhancing the efficiency and flexibility of data processing workflows.\n",
        "\n",
        "Key concepts and terminology\n",
        "Here are some important terms to understand when splitting arrays:\n",
        "\n",
        "Axis: The dimension along which the array is split (e.g., rows, columns, depth).\n",
        "Sub-arrays: The smaller arrays resulting from the split.\n",
        "Splitting methods: Different functions in NumPy for splitting arrays (e.g., np.split(), np.vsplit(), np.hsplit(), etc.).\n",
        "Equal vs. Unequal splits: Whether the sub-arrays have the same size or not.\n",
        "\n"
      ],
      "metadata": {
        "id": "EdmTojJc_SsA"
      }
    },
    {
      "cell_type": "code",
      "source": [
        "import numpy as np\n",
        "Arr = np.array([1, 2, 3, 4, 5, 6])\n",
        "array = np.array_split(arr, 3)\n",
        "print(array)\n"
      ],
      "metadata": {
        "colab": {
          "base_uri": "https://localhost:8080/"
        },
        "id": "F05hZBFn_pcj",
        "outputId": "7d1f35e3-16a6-43cc-9a5c-6fd338084e5a"
      },
      "execution_count": 10,
      "outputs": [
        {
          "output_type": "stream",
          "name": "stdout",
          "text": [
            "[array([['1', '2', '3']], dtype='<U21'), array([['Hi', 'Hello', 'Hey']], dtype='<U21'), array([], shape=(0, 3), dtype='<U21')]\n"
          ]
        }
      ]
    },
    {
      "cell_type": "markdown",
      "source": [
        "10.Explain the concepts of vectorization and broadcasting in NumPy. How do they contribute to efficient array\n",
        "operations?\n",
        "\n",
        "  Broadcasting provides a means of vectorizing array operations, therefore eliminating the need for Python loops. This is because NumPy is implemented in C Programming, which is a very efficient language.\n",
        "\n",
        "It does this without making needless copies of data which leads to efficient algorithm implementations. But broadcasting over multiple arrays in NumPy extension can raise cases where broadcasting is a bad idea because it leads to inefficient use of memory that slows down the computation.\n",
        "\n",
        "The resulting array returned after broadcasting will have the same number of dimensions as the array with the greatest number of dimensions.\n",
        "\n",
        "\n",
        "NumPy Broadcasting Arrays in Python\n",
        "Let’s assume that we have a large data set, each data is a list of parameters. In Numpy, we have a 2-D array, where each row is data and the number of rows is the size of the data set. Suppose we want to apply some sort of scaling to all these data every parameter gets its scaling factor or say every parameter is multiplied by some factor.\n",
        "\n",
        "Just to have a clear understanding, let’s count calories in foods using a macro-nutrient breakdown. Roughly put, the caloric parts of food are made of fats (9 calories per gram), protein (4 CPG), and carbs (4 CPG).\n",
        "\n",
        "So if we list some foods (our data), and for each food list its macro-nutrient breakdown (parameters), we can then multiply each nutrient by its caloric value (apply scaling) to compute the caloric breakdown of every food item.With this transformation, we can now compute all kinds of useful information. For example, what is the total number of calories present in some food, or given a breakdown of my dinner know how many calories did I get from protein and so on?"
      ],
      "metadata": {
        "id": "_Uad-B_Z_xIq"
      }
    }
  ],
  "metadata": {
    "colab": {
      "toc_visible": true,
      "provenance": []
    },
    "kernelspec": {
      "display_name": "Python 3",
      "name": "python3"
    }
  },
  "nbformat": 4,
  "nbformat_minor": 0
}