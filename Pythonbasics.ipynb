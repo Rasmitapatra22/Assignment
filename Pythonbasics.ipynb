{
  "nbformat": 4,
  "nbformat_minor": 0,
  "metadata": {
    "colab": {
      "provenance": []
    },
    "kernelspec": {
      "name": "python3",
      "display_name": "Python 3"
    },
    "language_info": {
      "name": "python"
    }
  },
  "cells": [
    {
      "cell_type": "code",
      "execution_count": null,
      "metadata": {
        "id": "qcuB1Hjq2w7T"
      },
      "outputs": [],
      "source": []
    },
    {
      "cell_type": "markdown",
      "source": [
        "1.Explane the key features of Python that make it a popular choice for programming.\n",
        "\n",
        "Ans- Python is a dynamic, high-level, free open source, and interpreted programming language.\n",
        " It supports object-oriented programming as well as procedural-oriented programming.\n",
        " In Python, we don’t need to declare the type of variable because it is a dynamically typed language.\n",
        "\n",
        " Features in Python:\n",
        "\n",
        "     1. Free and Open Source:\n",
        "Python language is freely available at the official website and you can download it . Download Python Since it is open-source, this means that source code is also available to the public. So you can download it, use it as well as share it.\n",
        "\n",
        "    2. Easy to code:\n",
        "Python is a high-level programming language. Python is very easy to learn the language as compared to other languages like C, C#, Javascript, Java, etc. It is very easy to code in the Python language and anybody can learn Python basics in a few hours or days. It is also a developer-friendly language.\n",
        "\n",
        "    3. Easy to Read:\n",
        "As you will see, learning Python is quite simple. As was already established, Python’s syntax is really straightforward. The code block is defined by the indentations rather than by semicolons or brackets.\n",
        "\n",
        "\n",
        "  4. Object-Oriented Language:\n",
        "\n",
        "One of the key features of Python is Object-Oriented programming. Python supports object-oriented language and concepts of classes, object encapsulation, etc.\n",
        "\n",
        "\n",
        " 5. High-Level Language:\n",
        "\n",
        "Python is a high-level language. When we write programs in Python, we do not need to remember the system architecture, nor do we need to manage the memory."
      ],
      "metadata": {
        "id": "JL_XCRvt6ujs"
      }
    },
    {
      "cell_type": "markdown",
      "source": [
        "2. Describe the role of predefined keywords in Python and provide examples of how they are used in a program.\n",
        "\n",
        "Ans- Keywords are reserved words in Python that have special meanings and cannot be used as identifiers (variable names, function names, etc.).\n",
        "Python Keywords comprise alphabetical characters.Keywords are generally in lower case.All the keywords except ‘True’, ‘False’, and ‘None’ start in lowercase letters.There is no use of special characters. You can’t use a keyword anywhere else.Examples of keywords include if, else, while, for, def, class, import, try, except, return, True, False, None, etc.\n",
        "Keywords are case-sensitive and cannot be redefined or overridden within a Python program.\n",
        "\n",
        "Exam: and-This is a logical operator which returns true if both the operands are true else returns false.\n",
        "or-This is also a logical operator which returns true if anyone operand is true else returns false.\n",
        "not-This is again a logical operator it returns True if the operand is false else returns false.\n",
        "if-\tThis is used to make a conditional statement.\n",
        "elif-\tElif is a condition statement used with an if statement. The elif statement is executed if the previous conditions were not true.\n",
        "else-\tElse is used with if and elif conditional statements. The else block is executed if the given condition is not true.\n",
        "for\tThis is used to create a loop.Etc"
      ],
      "metadata": {
        "id": "0_sOFMdkesgN"
      }
    },
    {
      "cell_type": "markdown",
      "source": [
        "3. Compare and contrast mutable and immutable objects in Python with examples.\n",
        "\n",
        "Ans- Mutable objects:\n",
        "\n",
        "Data type whose values can be changed after creation.\n",
        "Retains the same memory location even after the content is modified.\n",
        "It is memory-efficient, as no new objects are created for frequent changes.\n",
        "Not inherently thread-safe. Concurrent modification can lead to unpredictable results.\n",
        "When you need to modify, add, or remove existing data frequently.\n",
        "Exam-List, Dictionaries, Set\n",
        "\n",
        "Immutable objects:\n",
        "\n",
        "Data types whose values can’t be changed or altered.\n",
        "Any modification results in a new object and new memory location.\n",
        "It might be faster in some scenarios as there’s no need to track changes.\n",
        "They are inherently thread-safe due to their unchangeable nature.\n",
        "When you want to ensure data remains consistent and unaltered.\n",
        "Exam- Strings, Types, Integer\n"
      ],
      "metadata": {
        "id": "YiVg0Rp6eNc1"
      }
    },
    {
      "cell_type": "markdown",
      "source": [
        "4. Discuss the different types of operators in Python and provide examples of how they are used .\n",
        "\n",
        "ANS-  i. Arithmetic Operators\n",
        "     ii. Assignment Operators\n",
        "     iii. Comparison Operators\n",
        "     iv. Logical Operators\n",
        "     v. Bitwise Operators\n",
        "     vi. Special Operators  \n",
        "\n",
        "    ** Arithmetic Operators **\n",
        "\n",
        "      + Addition\n",
        "      -\tSubtraction\n",
        "      *\tMultiplication\n",
        "     /\tDivision\n",
        "     //\tFloor Division\n",
        "      %\tModulo\n",
        "      **\tPower\n",
        "\n",
        "    **Assignment Operators**\n",
        "\n",
        "     =\tAssignment Operator\n",
        "     +=\tAddition Assignment\n",
        "     -=\tSubtraction Assignment\t   \n",
        "    *=\tMultiplication Assignment\n",
        "     /=\tDivision Assignment        \n",
        "    %=\tRemainder Assignment\n",
        "    **=\tExponent Assignment\n",
        "\n",
        "    **Comparison Operators**\n",
        "      \n",
        "      ==\tIs Equal To\t3 == 5 gives us False\n",
        "      !=\tNot Equal To\t3 != 5 gives us True\n",
        "      >\tGreater Than\t3 > 5 gives us False\n",
        "     <\tLess Than\t3 < 5 gives us True\n",
        "    >=\tGreater Than or Equal To\t3 >= 5 give us False\n",
        "    <=\tLess Than or Equal To  "
      ],
      "metadata": {
        "id": "UhsndAOZZtwW"
      }
    },
    {
      "cell_type": "code",
      "source": [
        "#Addition Assignment  assign 67 to a\n",
        "a = 67\n",
        "# assign 50 to b\n",
        "b = 50\n",
        "\n",
        "# assign the sum of a and b to a\n",
        "a += b      # a = a + b\n",
        "\n",
        "print(a)\n",
        "\n",
        "# assign the Subtraction of a and b to a\n",
        "a = 67\n",
        "b = 50\n",
        "\n",
        "a -= b      # a = a - b\n",
        "\n",
        "print(a)\n",
        "\n",
        "\n",
        "a = 67\n",
        "b = 50\n",
        "\n",
        "a *= b\n",
        "\n",
        "print(a)"
      ],
      "metadata": {
        "colab": {
          "base_uri": "https://localhost:8080/"
        },
        "id": "eZdEquFlebET",
        "outputId": "16a9d3c8-c257-4968-b1c1-cfa0b813bfae"
      },
      "execution_count": null,
      "outputs": [
        {
          "output_type": "stream",
          "name": "stdout",
          "text": [
            "117\n",
            "17\n",
            "3350\n"
          ]
        }
      ]
    },
    {
      "cell_type": "code",
      "source": [
        "# Arithmetic Operators Example\n",
        "\n",
        "a=9\n",
        "b=6\n",
        "# addition\n",
        "print ('Sum: ', a + b)\n",
        "\n",
        "# subtraction\n",
        "print ('Subtraction: ', a - b)\n",
        "\n",
        "# multiplication\n",
        "print ('Multiplication: ', a * b)\n",
        "\n",
        "# division\n",
        "print ('Division: ', a / b)\n",
        "\n",
        "# floor division\n",
        "print ('Floor Division: ', a // b)\n",
        "\n",
        "# modulo\n",
        "print ('Modulo: ', a % b)\n",
        "\n",
        "# a to the power b\n",
        "print ('Power: ', a ** b)\n"
      ],
      "metadata": {
        "colab": {
          "base_uri": "https://localhost:8080/"
        },
        "id": "eKj0DEQFbuwD",
        "outputId": "cf5f552a-8bf0-4410-eec8-d97aae941ca1"
      },
      "execution_count": null,
      "outputs": [
        {
          "output_type": "stream",
          "name": "stdout",
          "text": [
            "Sum:  15\n",
            "Subtraction:  3\n",
            "Multiplication:  54\n",
            "Division:  1.5\n",
            "Floor Division:  1\n",
            "Modulo:  3\n",
            "Power:  531441\n"
          ]
        }
      ]
    },
    {
      "cell_type": "code",
      "source": [
        "#Comparison Operators\n",
        "\n",
        "a = 88\n",
        "b = 45\n",
        "\n",
        "# equal to operator\n",
        "print('a == b =', a == b)\n",
        "\n",
        "# not equal to operator\n",
        "print('a != b =', a != b)\n",
        "\n",
        "# greater than operator\n",
        "print('a > b =', a > b)\n",
        "\n",
        "# less than operator\n",
        "print('a < b =', a < b)\n",
        "\n",
        "# greater than or equal to operator\n",
        "print('a >= b =', a >= b)\n",
        "\n",
        "# less than or equal to operator\n",
        "print('a <= b =', a <= b)"
      ],
      "metadata": {
        "colab": {
          "base_uri": "https://localhost:8080/"
        },
        "id": "a9Dy3e2phjFK",
        "outputId": "039fe59b-c24c-4d60-9a8e-be901449d9ea"
      },
      "execution_count": null,
      "outputs": [
        {
          "output_type": "stream",
          "name": "stdout",
          "text": [
            "a == b = False\n",
            "a != b = True\n",
            "a > b = True\n",
            "a < b = False\n",
            "a >= b = True\n",
            "a <= b = False\n"
          ]
        }
      ]
    },
    {
      "cell_type": "markdown",
      "source": [
        "5.Explain the concept of type casting in Python with examples.\n",
        "\n",
        "Ans. There are two types of type conversion in Python.\n",
        "\n",
        "     Implicit Conversion - automatic type conversion\n",
        "     Explicit Conversion - manual type conversion\n",
        "\n",
        "\n",
        "     **Implicit Type Conversion in Python**\n",
        "\n",
        "In this, method, Python converts the datatype into another datatype automatically. Users don’t have to involve in this process.\n",
        "\n",
        "    **Explicit Conversion - manual type conversion**\n",
        "    \n",
        "In this method, Python needs user involvement to convert the variable data type into the required data type.\n"
      ],
      "metadata": {
        "id": "igsIV2aWjgA_"
      }
    },
    {
      "cell_type": "code",
      "source": [
        "#implicit type Casting\n",
        " # a to int\n",
        "a = 7\n",
        "print(type(a))\n",
        "\n",
        "\n",
        "# b to float\n",
        "b = 3.0\n",
        "print(type(b))\n",
        "\n",
        "\n",
        "# c to float as it is a float addition\n",
        "c = a + b\n",
        "print(c)\n",
        "print(type(c))\n",
        "\n",
        "\n",
        "# d to float as it is a float multiplication\n",
        "d = a * b\n",
        "print(d)\n",
        "print(type(d))\n",
        "\n"
      ],
      "metadata": {
        "colab": {
          "base_uri": "https://localhost:8080/"
        },
        "collapsed": true,
        "id": "6pw_BdF_mNgz",
        "outputId": "88f55f50-9aba-48b6-d98f-a216b27d503c"
      },
      "execution_count": null,
      "outputs": [
        {
          "output_type": "stream",
          "name": "stdout",
          "text": [
            "<class 'int'>\n",
            "<class 'float'>\n",
            "10.0\n",
            "<class 'float'>\n",
            "21.0\n",
            "<class 'float'>\n",
            "5.0\n",
            "<class 'float'>\n"
          ]
        }
      ]
    },
    {
      "cell_type": "code",
      "source": [
        "#Explicit Type Conversion in Python\n",
        "\n",
        "# int variable\n",
        "a = 6\n",
        "\n",
        "# typecast to float\n",
        "x = float(a)\n",
        "\n",
        "print(x)\n",
        "print(type(x))"
      ],
      "metadata": {
        "colab": {
          "base_uri": "https://localhost:8080/"
        },
        "id": "Mw13NYK6oHVq",
        "outputId": "0036d661-b6cd-4c4d-ab86-3a3a0f7ec954"
      },
      "execution_count": null,
      "outputs": [
        {
          "output_type": "stream",
          "name": "stdout",
          "text": [
            "6.0\n",
            "<class 'float'>\n"
          ]
        }
      ]
    },
    {
      "cell_type": "markdown",
      "source": [
        "6.How do conditional statements work in Python? Illustrate with examples.\n",
        "\n",
        "Ans- Conditional Statements are statements in Python that provide a choice for the control flow based on a condition. It means that the control flow of the Python program will be decided based on the outcome of the condition. Now let us see how Conditional Statements are implemented in Python.\n",
        "  \n",
        "\n",
        "  **Types of Conditional Statements in Python**\n",
        "\n",
        "  1. If Conditional Statement in Python\n",
        "If the simple code of block is to be performed if the condition holds then the if statement is used. Here the condition mentioned holds then the code of the block runs otherwise not.\n",
        "\n",
        "2. If else Conditional Statements in Python\n",
        "In a conditional if Statement the additional block of code is merged as an else statement which is performed when if condition is false.\n",
        "\n",
        "3. Nested if..else Conditional Statements in Python\n",
        "Nested if..else means an if-else statement inside another if statement. Or in simple words first, there is an outer if statement, and inside it another if – else statement is present and such type of statement is known as nested if statement. We can use one if or else if statement inside another if or else if statements.\n",
        "\n",
        "4. If-elif-else Conditional Statements in Python\n",
        "The if statements are executed from the top down. As soon as one of the conditions controlling the if is true, the statement associated with that if is executed, and the rest of the ladder is bypassed. If none of the conditions is true, then the final “else” statement will be executed.\n",
        "\n",
        "5. Ternary Expression Conditional Statements in Python\n",
        "The Python ternary Expression determines if a condition is true or false and then returns the appropriate value in accordance with the result. The ternary Expression is useful in cases where we need to assign a value to a variable based on a simple condition, and we want to keep our code more concise — all in just one line of code."
      ],
      "metadata": {
        "id": "pNtiAH05onKL"
      }
    },
    {
      "cell_type": "code",
      "source": [
        "# if..else statement example\n",
        "x = 4\n",
        "if x == 4:\n",
        "    print(\"Yes\")\n",
        "else:\n",
        "    print(\"No\")\n",
        "\n",
        "# if..else chain statement\n",
        "letter = \"A\"\n",
        "\n",
        "if letter == \"B\":\n",
        "    print(\"letter is B\")\n",
        "\n",
        "else:\n",
        "\n",
        "    if letter == \"C\":\n",
        "        print(\"letter is C\")\n",
        "\n",
        "    else:\n",
        "\n",
        "        if letter == \"A\":\n",
        "            print(\"letter is A\")\n",
        "\n",
        "        else:\n",
        "            print(\"letter isn't A, B and C\")\n",
        "\n",
        "\n",
        "            # if-elif statement example\n",
        "letter = \"A\"\n",
        "\n",
        "if letter == \"B\":\n",
        "    print(\"letter is B\")\n",
        "\n",
        "elif letter == \"C\":\n",
        "    print(\"letter is C\")\n",
        "\n",
        "elif letter == \"A\":\n",
        "    print(\"letter is A\")\n",
        "\n",
        "else:\n",
        "    print(\"letter isn't A, B or C\")\n",
        "\n",
        "\n",
        "    # Python program to demonstrate nested ternary operator\n",
        "a, b = 100, 200\n",
        "\n",
        "print(\"Both a and b are equal\" if a == b else \"a is greater than b\"\n",
        "        if a > b else \"b is greater than a\")"
      ],
      "metadata": {
        "colab": {
          "base_uri": "https://localhost:8080/"
        },
        "id": "FP-sy6vUtik-",
        "outputId": "8648cb84-a778-4553-b0a6-e96580c6f372"
      },
      "execution_count": null,
      "outputs": [
        {
          "output_type": "stream",
          "name": "stdout",
          "text": [
            "Yes\n",
            "letter is A\n",
            "letter is A\n",
            "b is greater than a\n"
          ]
        }
      ]
    },
    {
      "cell_type": "markdown",
      "source": [
        "7. Describe the different types of loops in Python and their use cases with examples.\n",
        "\n",
        "Ans- Python offers 3 choices for running the loops. The basic functionality of all the techniques is the same, although the syntax and the amount of time required for checking the condition differ.We can run a single statement or set of statements repeatedly using a loop command.\n",
        "   \n",
        "   1 While loop\n",
        "Repeats a statement or group of statements while a given condition is TRUE. It tests the condition before executing the loop body.\n",
        "\n",
        "2 For loop\n",
        "This type of loop executes a code block multiple times and abbreviates the code that manages the loop variable.\n",
        "\n",
        "3 Nested loops\n",
        "We can iterate a loop inside another loop."
      ],
      "metadata": {
        "id": "KFH7N3mLuZuC"
      }
    },
    {
      "cell_type": "code",
      "source": [
        "#While Loop\n",
        "count = 0\n",
        "while (count < 3):\n",
        "    count = count + 1\n",
        "    print(\"I am a Bharatiya\")\n",
        "\n",
        "#For Loop\n",
        "    n = 10\n",
        "for i in range(0, n):\n",
        "    print(i)\n",
        "\n"
      ],
      "metadata": {
        "colab": {
          "base_uri": "https://localhost:8080/"
        },
        "id": "U59x6gxUvtb_",
        "outputId": "064ed5e9-5e6e-44f6-f1a0-f0fc1a412e94"
      },
      "execution_count": null,
      "outputs": [
        {
          "output_type": "stream",
          "name": "stdout",
          "text": [
            "I am a Bharatiya\n",
            "I am a Bharatiya\n",
            "I am a Bharatiya\n",
            "0\n",
            "1\n",
            "2\n",
            "3\n",
            "4\n",
            "5\n",
            "6\n",
            "7\n",
            "8\n",
            "9\n"
          ]
        }
      ]
    }
  ]
}