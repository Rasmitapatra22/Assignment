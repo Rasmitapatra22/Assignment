{
  "cells": [
    {
      "cell_type": "markdown",
      "source": [
        "1.Write a code to reverse a string."
      ],
      "metadata": {
        "id": "dTKeMDqYrA81"
      }
    },
    {
      "cell_type": "code",
      "source": [
        "[ ]\n",
        "s = \"i love india\"\n",
        "rev = s[::-1]\n",
        "print(rev)"
      ],
      "metadata": {
        "id": "LobBntFgrOGT",
        "outputId": "327c9678-01de-4098-e414-8dbcd7a04d9a",
        "colab": {
          "base_uri": "https://localhost:8080/"
        }
      },
      "execution_count": null,
      "outputs": [
        {
          "output_type": "stream",
          "name": "stdout",
          "text": [
            "aidni evol i\n"
          ]
        }
      ]
    },
    {
      "cell_type": "markdown",
      "source": [
        "2.Write a code to count the number of vowels in a string."
      ],
      "metadata": {
        "id": "-ZhAdSAkraum"
      }
    },
    {
      "cell_type": "code",
      "source": [
        "[ ]\n",
        "string = \"Bharat is a great country \"\n",
        "vowels = \"aeiouAEIOU\"\n",
        "\n",
        "count = sum(string.count(vowel) for vowel in vowels)\n",
        "print(count)"
      ],
      "metadata": {
        "id": "9spB1P4DsjrG",
        "outputId": "df875911-c8f8-49a0-dff4-3e22c264617d",
        "colab": {
          "base_uri": "https://localhost:8080/"
        }
      },
      "execution_count": null,
      "outputs": [
        {
          "output_type": "stream",
          "name": "stdout",
          "text": [
            "8\n"
          ]
        }
      ]
    },
    {
      "cell_type": "markdown",
      "source": [
        "3.Write a code to check if a given string is a palindrome or not."
      ],
      "metadata": {
        "id": "QG5Pj9FIrca8"
      }
    },
    {
      "cell_type": "code",
      "source": [
        "[ ]\n",
        "string=input((\"Enter a letter:\"))\n",
        "if(string==string[::-1]):\n",
        "      print(\"The letter is a palindrome\")\n",
        "else:\n",
        "      print(\"The letter is not a palindrome\")"
      ],
      "metadata": {
        "id": "0PMTsALLs2MG",
        "outputId": "c9baa1b9-c108-4284-8127-810d26533565",
        "colab": {
          "base_uri": "https://localhost:8080/"
        }
      },
      "execution_count": null,
      "outputs": [
        {
          "output_type": "stream",
          "name": "stdout",
          "text": [
            "Enter a letter:bharat\n",
            "The letter is not a palindrome\n"
          ]
        }
      ]
    },
    {
      "cell_type": "markdown",
      "source": [
        "4.Write a code to check if two given strings are anagrams of each other.\n"
      ],
      "metadata": {
        "id": "RwXyph3CrnDe"
      }
    },
    {
      "cell_type": "code",
      "source": [
        "[ ]\n",
        "def check(s1, s2):\n",
        "\n",
        "    if(sorted(s1)== sorted(s2)):\n",
        "        print(\"The strings are anagrams.\")\n",
        "    else:\n",
        "        print(\"The strings aren't anagrams.\")\n",
        "\n",
        "\n",
        "s1 =\"listen\"\n",
        "s2 =\"eat\"\n",
        "check(s1, s2)"
      ],
      "metadata": {
        "id": "D9BzFoSYtGDX",
        "outputId": "7817d02a-639c-4937-f0e8-db9b7aa88fac",
        "colab": {
          "base_uri": "https://localhost:8080/"
        }
      },
      "execution_count": null,
      "outputs": [
        {
          "output_type": "stream",
          "name": "stdout",
          "text": [
            "The strings aren't anagrams.\n"
          ]
        }
      ]
    },
    {
      "cell_type": "markdown",
      "source": [
        "5.Write a code to find all occurrences of a given substring within another string."
      ],
      "metadata": {
        "id": "4R0t8UvMry60"
      }
    },
    {
      "cell_type": "code",
      "source": [
        "[ ]\n",
        "test_str = \"Bharat is a great country \"\n",
        "\n",
        "# initializing substring\n",
        "test_sub = \"great\"\n",
        "\n",
        "# printing original string\n",
        "print(\"The original string is : \" + test_str)\n",
        "\n",
        "# printing substring\n",
        "print(\"The substring to find : \" + test_sub)\n",
        "\n",
        "# using list comprehension + startswith()\n",
        "# All occurrences of substring in string\n",
        "res = [i for i in range(len(test_str)) if test_str.startswith(test_sub, i)]\n",
        "\n",
        "# printing result\n",
        "print(\"The start indices of the substrings are : \" + str(res))"
      ],
      "metadata": {
        "id": "seovN00itaPQ",
        "outputId": "d1eb2e85-e61c-4461-c0ee-e9feea486394",
        "colab": {
          "base_uri": "https://localhost:8080/"
        }
      },
      "execution_count": null,
      "outputs": [
        {
          "output_type": "stream",
          "name": "stdout",
          "text": [
            "The original string is : Bharat is a great country \n",
            "The substring to find : great\n",
            "The start indices of the substrings are : [12]\n"
          ]
        }
      ]
    },
    {
      "cell_type": "markdown",
      "source": [
        "6.Write a code to perform basic string compression using the counts of repeated characters."
      ],
      "metadata": {
        "id": "NKwqIlAPr05c"
      }
    },
    {
      "cell_type": "code",
      "source": [
        "def solve(s):\n",
        "   res = \"\"\n",
        "   cnt = 1\n",
        "   for i in range(1, len(s)):\n",
        "      if s[i - 1] == s[i]:\n",
        "         cnt += 1\n",
        "      else:\n",
        "         res = res + s[i - 1]\n",
        "         if cnt > 1:\n",
        "            res += str(cnt)\n",
        "         cnt = 1\n",
        "   res = res + s[-1]\n",
        "   if cnt > 1:\n",
        "      res += str(cnt)\n",
        "   return res\n",
        "\n",
        "s = \"abbbaaaaaaccdaaab\"\n",
        "print(solve(s))"
      ],
      "metadata": {
        "id": "v5A2juKYtmuz",
        "outputId": "118a927b-14f4-423c-daf3-12d26dd9a7d9",
        "colab": {
          "base_uri": "https://localhost:8080/"
        }
      },
      "execution_count": null,
      "outputs": [
        {
          "output_type": "stream",
          "name": "stdout",
          "text": [
            "ab3a6c2da3b\n"
          ]
        }
      ]
    },
    {
      "cell_type": "markdown",
      "source": [
        "7.Write a code to determine if a string has all unique characters.\n"
      ],
      "metadata": {
        "id": "JZYZjmtEr7mm"
      }
    },
    {
      "cell_type": "code",
      "source": [
        "def isUniqueChars(st):\n",
        "\n",
        "    # String length cannot be more than\n",
        "    # 256.\n",
        "    if len(st) > 256:\n",
        "        return False\n",
        "\n",
        "    # Initialize occurrences of all characters\n",
        "    char_set = [False] * 128\n",
        "\n",
        "    # For every character, check if it exists\n",
        "    # in char_set\n",
        "    for i in range(0, len(st)):\n",
        "\n",
        "        # Find ASCII value and check if it\n",
        "        # exists in set.\n",
        "        val = ord(st[i])\n",
        "        if char_set[val]:\n",
        "            return False\n",
        "\n",
        "        char_set[val] = True\n",
        "\n",
        "    return True\n",
        "\n",
        "# driver code\n",
        "st = \"abcd\"\n",
        "print(isUniqueChars(st))"
      ],
      "metadata": {
        "id": "wZ-mvl1useJi",
        "outputId": "9ede7ea7-4b54-4135-87f0-7e910187ed4a",
        "colab": {
          "base_uri": "https://localhost:8080/"
        }
      },
      "execution_count": null,
      "outputs": [
        {
          "output_type": "stream",
          "name": "stdout",
          "text": [
            "True\n"
          ]
        }
      ]
    },
    {
      "cell_type": "markdown",
      "source": [
        "8.Write a code to convert a given string to uppercase or lowercase."
      ],
      "metadata": {
        "id": "-jtoVbXjsTag"
      }
    },
    {
      "cell_type": "code",
      "source": [
        "original_text = \"india is great\"\n",
        "upper_text = original_text.upper()\n",
        "print(upper_text)\n",
        "\n",
        "\n",
        "#lower\n",
        "string = \"ConvErT ALL tO LoWErCASe\"\n",
        "print(string.lower())"
      ],
      "metadata": {
        "colab": {
          "base_uri": "https://localhost:8080/"
        },
        "id": "DoCwE_DmsUFw",
        "outputId": "f5d1c292-1e36-4a2f-8d2a-e5fc602f73b8"
      },
      "execution_count": null,
      "outputs": [
        {
          "output_type": "stream",
          "name": "stdout",
          "text": [
            "INDIA IS GREAT\n",
            "convert all to lowercase\n"
          ]
        }
      ]
    },
    {
      "cell_type": "markdown",
      "source": [
        " 9.Write a code to count the number of words in a string"
      ],
      "metadata": {
        "id": "-jrI6E1dtqLA"
      }
    },
    {
      "cell_type": "code",
      "source": [
        "countOfWords = len(\"Bharat is a great country\".split())\n",
        "print(\"Count of Words in the given Sentence:\", countOfWords)\n",
        "\n",
        "\n",
        "print(len(\"Bharat is a great country\".split()))\n",
        "\n",
        "print(len(input(\"Enter Input:\").split()))\n",
        "\n",
        "print(len(input(\"Enter Input:\").split()))"
      ],
      "metadata": {
        "colab": {
          "base_uri": "https://localhost:8080/"
        },
        "id": "5dKKt7bAtqzP",
        "outputId": "bf2c998a-2b2c-4ea1-df2d-90bdf95d6324"
      },
      "execution_count": null,
      "outputs": [
        {
          "output_type": "stream",
          "name": "stdout",
          "text": [
            "Count of Words in the given Sentence: 5\n",
            "5\n",
            "Enter Input:bharat is a\n",
            "3\n",
            "Enter Input:india\n",
            "1\n"
          ]
        }
      ]
    },
    {
      "cell_type": "markdown",
      "source": [
        "10.Write a code to concatenate two strings without using the + operator."
      ],
      "metadata": {
        "id": "as1W7I8aucnD"
      }
    },
    {
      "cell_type": "code",
      "source": [
        "var1 = \"Hello \"\n",
        "var2 = \"Worid\"\n",
        "\n",
        "# + Operator is used to combine strings\n",
        "var3 = var1 + var2\n",
        "print(var3)"
      ],
      "metadata": {
        "colab": {
          "base_uri": "https://localhost:8080/"
        },
        "id": "THzPWq_1udIE",
        "outputId": "f20e4e97-9bba-4b78-e483-6de1aa292b09"
      },
      "execution_count": null,
      "outputs": [
        {
          "output_type": "stream",
          "name": "stdout",
          "text": [
            "Hello Worid\n"
          ]
        }
      ]
    },
    {
      "cell_type": "markdown",
      "source": [
        "11.Write a code to remove all occurrences of a specific element from a list."
      ],
      "metadata": {
        "id": "hVy-BmQcvGRB"
      }
    },
    {
      "cell_type": "code",
      "source": [
        "def remove_items(test_list, item):\n",
        "\n",
        "\n",
        "    res = [i for i in test_list if i != item]\n",
        "    return res\n",
        "\n",
        "\n",
        "if __name__ == \"__main__\":\n",
        "    test_list = [1, 3, 4, 6, 5, 1]\n",
        "\n",
        "    item = 1\n",
        "    print(\"The original list is : \" + str(test_list))\n",
        "\n",
        "\n",
        "    res = remove_items(test_list, item)\n",
        "\n",
        "\n",
        "    print(\"The list after performing the remove operation is : \" + str(res))"
      ],
      "metadata": {
        "colab": {
          "base_uri": "https://localhost:8080/"
        },
        "id": "02endfSOvGr6",
        "outputId": "e0791a9e-f713-404f-e179-70c6be442339"
      },
      "execution_count": null,
      "outputs": [
        {
          "output_type": "stream",
          "name": "stdout",
          "text": [
            "The original list is : [1, 3, 4, 6, 5, 1]\n",
            "The list after performing the remove operation is : [3, 4, 6, 5]\n"
          ]
        }
      ]
    },
    {
      "cell_type": "markdown",
      "source": [
        " 12.Implement a code to find the second largest number in a given list of integers"
      ],
      "metadata": {
        "id": "WAU1XIvkv0SM"
      }
    },
    {
      "cell_type": "code",
      "source": [
        "def find_second_largest(numbers):\n",
        "    return sorted(set(numbers))[-2]\n",
        "\n",
        "\n",
        "numbers = [10, 67, 48, 75, 99]\n",
        "print(\"The second largest number is:\", find_second_largest(numbers))"
      ],
      "metadata": {
        "colab": {
          "base_uri": "https://localhost:8080/"
        },
        "id": "RHmRBG7Mv0vD",
        "outputId": "0292cd7e-eed0-4135-c928-bdc7ea039a48"
      },
      "execution_count": null,
      "outputs": [
        {
          "output_type": "stream",
          "name": "stdout",
          "text": [
            "The second largest number is: 75\n"
          ]
        }
      ]
    },
    {
      "cell_type": "markdown",
      "source": [
        "13.Create a code to count the occurrences of each element in a list and return a dictionary with elements as\n",
        "keys and their counts as values."
      ],
      "metadata": {
        "id": "GZNhn_sXcbK1"
      }
    },
    {
      "cell_type": "code",
      "source": [
        "def countX(lst, x):\n",
        "    count = 0\n",
        "    for ele in lst:\n",
        "        if (ele == x):\n",
        "            count = count + 1\n",
        "    return count\n",
        "\n",
        "\n",
        "lst = [8, 6, 8, 10, 8, 20, 10, 8, 8]\n",
        "x = 8\n",
        "print('{} has occurred {} times'.format(x, countX(lst, x)))"
      ],
      "metadata": {
        "colab": {
          "base_uri": "https://localhost:8080/"
        },
        "id": "233THVuOcbcB",
        "outputId": "d53669d0-0118-42c3-f143-b7c857d347a1"
      },
      "execution_count": null,
      "outputs": [
        {
          "output_type": "stream",
          "name": "stdout",
          "text": [
            "8 has occurred 5 times\n"
          ]
        }
      ]
    },
    {
      "cell_type": "markdown",
      "source": [
        "14.Write a code to reverse a list in-place without using any built-in reverse functions."
      ],
      "metadata": {
        "id": "731T62wWdS5p"
      }
    },
    {
      "cell_type": "code",
      "source": [
        "numbers = [0, 1, 2, 3, 4, 5, 6, 7, 8, 9]\n",
        "\n",
        "L = len(numbers)\n",
        "\n",
        "for i in range(int(L/2)):\n",
        "\n",
        "    n = numbers[i]\n",
        "    numbers[i] = numbers[L-i-1]\n",
        "    numbers[L-i-1] = n\n",
        "\n",
        "print(numbers)"
      ],
      "metadata": {
        "colab": {
          "base_uri": "https://localhost:8080/"
        },
        "id": "zIkH32HUdTRD",
        "outputId": "45f70bf1-5d4a-4f7f-ec8b-2006e30f8dad"
      },
      "execution_count": null,
      "outputs": [
        {
          "output_type": "stream",
          "name": "stdout",
          "text": [
            "[9, 8, 7, 6, 5, 4, 3, 2, 1, 0]\n"
          ]
        }
      ]
    },
    {
      "cell_type": "markdown",
      "source": [
        " 15.Implement a code to find and remove duplicates from a list while preserving the original order of\n",
        "elements."
      ],
      "metadata": {
        "id": "Wa3gQilDd_hU"
      }
    },
    {
      "cell_type": "code",
      "source": [
        "test_list = [1, 5, 3, 6, 3, 5, 6, 1]\n",
        "print (\"The original list is : \" + str(test_list))\n",
        "\n",
        "test_list = list(set(test_list))\n",
        "\n",
        "print (\"The list after removing duplicates : \" + str(test_list))"
      ],
      "metadata": {
        "colab": {
          "base_uri": "https://localhost:8080/"
        },
        "id": "8xgU3AXod_7H",
        "outputId": "67dadc47-20d2-453b-f096-dc2b96899b8a"
      },
      "execution_count": null,
      "outputs": [
        {
          "output_type": "stream",
          "name": "stdout",
          "text": [
            "The original list is : [1, 5, 3, 6, 3, 5, 6, 1]\n",
            "The list after removing duplicates : [1, 3, 5, 6]\n"
          ]
        }
      ]
    },
    {
      "cell_type": "markdown",
      "source": [
        "16.Create a code to check if a given list is sorted (either in ascending or descending order) or not."
      ],
      "metadata": {
        "id": "8vqJs4Zye_RU"
      }
    },
    {
      "cell_type": "code",
      "source": [
        "a = [1, 2, 3, 4, 5]\n",
        "\n",
        "\n",
        "print(all(a[i] <= a[i + 1] for i in range(len(a) - 1)))\n",
        "\n",
        "b = [5, 4, 3, 2, 1]\n",
        "\n",
        "print(all(b[i] >= b[i + 1] for i in range(len(b) - 1)))"
      ],
      "metadata": {
        "colab": {
          "base_uri": "https://localhost:8080/"
        },
        "id": "LrjjH4R_fpGl",
        "outputId": "38f5da83-539b-4528-b3d9-7cec8dfb5fec"
      },
      "execution_count": null,
      "outputs": [
        {
          "output_type": "stream",
          "name": "stdout",
          "text": [
            "True\n",
            "True\n"
          ]
        }
      ]
    },
    {
      "cell_type": "markdown",
      "source": [
        "17.Write a code to merge two sorted lists into a single sorted list."
      ],
      "metadata": {
        "id": "6fOuNrzsfcJo"
      }
    },
    {
      "cell_type": "code",
      "source": [
        "test_list1 = [1, 5, 6, 9, 11]\n",
        "test_list2 = [3, 4, 7, 8, 10]\n",
        "\n",
        "\n",
        "print(\"The original list 1 is : \" + str(test_list1))\n",
        "print(\"The original list 2 is : \" + str(test_list2))\n",
        "size_1 = len(test_list1)\n",
        "size_2 = len(test_list2)\n",
        "\n",
        "res = []\n",
        "i, j = 0, 0\n",
        "\n",
        "while i < size_1 and j < size_2:\n",
        "    if test_list1[i] < test_list2[j]:\n",
        "        res.append(test_list1[i])\n",
        "        i += 1\n",
        "\n",
        "    else:\n",
        "        res.append(test_list2[j])\n",
        "        j += 1\n",
        "\n",
        "res = res + test_list1[i:] + test_list2[j:]\n",
        "\n",
        "\n",
        "print(\"The combined sorted list is : \" + str(res))"
      ],
      "metadata": {
        "colab": {
          "base_uri": "https://localhost:8080/"
        },
        "id": "U-x1_dN_getU",
        "outputId": "9295e704-a976-46d2-a142-0b702ec8c22d"
      },
      "execution_count": null,
      "outputs": [
        {
          "output_type": "stream",
          "name": "stdout",
          "text": [
            "The original list 1 is : [1, 5, 6, 9, 11]\n",
            "The original list 2 is : [3, 4, 7, 8, 10]\n",
            "The combined sorted list is : [1, 3, 4, 5, 6, 7, 8, 9, 10, 11]\n"
          ]
        }
      ]
    },
    {
      "cell_type": "markdown",
      "source": [
        "18.Implement a code to find the intersection of two given lists."
      ],
      "metadata": {
        "id": "AQ1BrpH3h-P7"
      }
    },
    {
      "cell_type": "code",
      "source": [
        "def intersection(lst1, lst2):\n",
        "    lst3 = [value for value in lst1 if value in lst2]\n",
        "    return lst3\n",
        "\n",
        "\n",
        "lst1 = [4, 9, 1, 17, 11, 26, 28, 54, 69]\n",
        "lst2 = [9, 9, 74, 21, 45, 11, 63, 28, 26]\n",
        "print(intersection(lst1, lst2))"
      ],
      "metadata": {
        "colab": {
          "base_uri": "https://localhost:8080/"
        },
        "id": "IRdDOs4ch-lj",
        "outputId": "b7300100-bc30-489a-e713-69fd8e3e853d"
      },
      "execution_count": null,
      "outputs": [
        {
          "output_type": "stream",
          "name": "stdout",
          "text": [
            "[9, 11, 26, 28]\n"
          ]
        }
      ]
    },
    {
      "cell_type": "markdown",
      "source": [
        "19. Create a code to find the union of two lists without duplicates."
      ],
      "metadata": {
        "id": "0vXvk4MNh_B7"
      }
    },
    {
      "cell_type": "code",
      "source": [
        "first_list = [1, 2, 2, 5]\n",
        "second_list = [2, 5, 7, 9]\n",
        "\n",
        "in_first = set(first_list)\n",
        "in_second = set(second_list)\n",
        "\n",
        "in_second_but_not_in_first = in_second - in_first\n",
        "\n",
        "result = first_list + list(in_second_but_not_in_first)\n",
        "print(result)"
      ],
      "metadata": {
        "colab": {
          "base_uri": "https://localhost:8080/"
        },
        "id": "SL6RT9QAh_Wv",
        "outputId": "d8369eff-de79-43c6-b55b-4bc2083ee0ed"
      },
      "execution_count": null,
      "outputs": [
        {
          "output_type": "stream",
          "name": "stdout",
          "text": [
            "[1, 2, 2, 5, 9, 7]\n"
          ]
        }
      ]
    },
    {
      "cell_type": "markdown",
      "source": [
        "20.Write a code to shuffle a given list randomly without using any built-in shuffle functions."
      ],
      "metadata": {
        "id": "Yawm5ZKyjyC3"
      }
    },
    {
      "cell_type": "code",
      "source": [
        "def shuf(List):\n",
        "    import random\n",
        "    newList=[]\n",
        "    for i in List:\n",
        "        i=random.randrange(len(List))\n",
        "        newList+=i\n",
        "    return newList"
      ],
      "metadata": {
        "id": "a_mp2xt0jyXL"
      },
      "execution_count": null,
      "outputs": []
    },
    {
      "cell_type": "markdown",
      "source": [
        "21.Write a code that takes two tuples as input and returns a new tuple containing elements that are\n",
        "common to both input tuples."
      ],
      "metadata": {
        "id": "hAMox60mkbIw"
      }
    },
    {
      "cell_type": "code",
      "source": [
        "tuple1 = (4, 5)\n",
        "tuple2 = (7, 8)\n",
        "\n",
        "filtered_tuples = []\n",
        "\n",
        "for element1 in tuple1:\n",
        "\n",
        "    for element2 in tuple2:\n",
        "        filtered_tuples.append((element1, element2))\n",
        "        filtered_tuples.append((element2, element1))\n",
        "\n",
        "\n",
        "print(filtered_tuples)"
      ],
      "metadata": {
        "colab": {
          "base_uri": "https://localhost:8080/"
        },
        "id": "HdOtUgKMkbeI",
        "outputId": "3e513cb9-8cb7-4c33-ad17-7c8fb2cc4a7d"
      },
      "execution_count": null,
      "outputs": [
        {
          "output_type": "stream",
          "name": "stdout",
          "text": [
            "[(4, 7), (7, 4), (4, 8), (8, 4), (5, 7), (7, 5), (5, 8), (8, 5)]\n"
          ]
        }
      ]
    },
    {
      "cell_type": "markdown",
      "source": [
        "22.Create a code that prompts the user to enter two sets of integers separated by commas. Then, print the\n",
        "intersection of these two sets."
      ],
      "metadata": {
        "id": "2q-GmD-2kb5w"
      }
    },
    {
      "cell_type": "code",
      "source": [
        "set1 = {2, 4, 5, 6}\n",
        "set2 = {4, 6, 7, 8}\n",
        "set3 = {4, 6, 8}\n",
        "\n",
        "print(\"set1 intersection set2 : \",\n",
        "      set1.intersection(set2))\n",
        "\n",
        "print(\"set1 intersection set2 intersection set3 :\",\n",
        "      set1.intersection(set2, set3))"
      ],
      "metadata": {
        "colab": {
          "base_uri": "https://localhost:8080/"
        },
        "id": "CvSquF4VkcQ8",
        "outputId": "61d68372-241a-4215-f673-0dee5afdccaa"
      },
      "execution_count": null,
      "outputs": [
        {
          "output_type": "stream",
          "name": "stdout",
          "text": [
            "set1 intersection set2 :  {4, 6}\n",
            "set1 intersection set2 intersection set3 : {4, 6}\n"
          ]
        }
      ]
    },
    {
      "cell_type": "markdown",
      "source": [
        "23.Write a code to concatenate two tuples. The function should take two tuples as input and return a new\n",
        "tuple containing elements from both input tuples."
      ],
      "metadata": {
        "id": "ApPAxqSvl8gm"
      }
    },
    {
      "cell_type": "code",
      "source": [
        "test_tup1 = (3, 4),\n",
        "test_tup2 = (5, 6),\n",
        "\n",
        "print(\"The original tuple 1 : \" + str(test_tup1))\n",
        "print(\"The original tuple 2 : \" + str(test_tup2))\n",
        "res = test_tup1 + test_tup2\n",
        "\n",
        "\n",
        "print(\"Tuples after Concatenating : \" + str(res))"
      ],
      "metadata": {
        "colab": {
          "base_uri": "https://localhost:8080/"
        },
        "id": "KP9hnp6ql84z",
        "outputId": "66608a37-5d5e-4ad4-a536-c4e39be9ba8b"
      },
      "execution_count": null,
      "outputs": [
        {
          "output_type": "stream",
          "name": "stdout",
          "text": [
            "The original tuple 1 : ((3, 4),)\n",
            "The original tuple 2 : ((5, 6),)\n",
            "Tuples after Concatenating : ((3, 4), (5, 6))\n"
          ]
        }
      ]
    },
    {
      "cell_type": "markdown",
      "source": [
        "24.Develop a code that prompts the user to input two sets of strings. Then, print the elements that are\n",
        "present in the first set but not in the second set."
      ],
      "metadata": {
        "id": "_KpNoy26l9TY"
      }
    },
    {
      "cell_type": "code",
      "source": [
        "a = \"software\"\n",
        "\n",
        "b = \"soft\"\n",
        "\n",
        "setA = set(a)\n",
        "\n",
        "\n",
        "setB = set(b)\n",
        "\n",
        "result = setA-setB\n",
        "\n",
        "print(result)"
      ],
      "metadata": {
        "colab": {
          "base_uri": "https://localhost:8080/"
        },
        "id": "MV5VPz-Bl9pi",
        "outputId": "578e2d28-42cd-4db2-f4aa-7fa7a0d88070"
      },
      "execution_count": null,
      "outputs": [
        {
          "output_type": "stream",
          "name": "stdout",
          "text": [
            "{'a', 'r', 'e', 'w'}\n"
          ]
        }
      ]
    },
    {
      "cell_type": "markdown",
      "source": [
        "25.Create a code that takes a tuple and two integers as input. The function should return a new tuple\n",
        "containing elements from the original tuple within the specified range of indices."
      ],
      "metadata": {
        "id": "6zLljZm1ndDh"
      }
    },
    {
      "cell_type": "code",
      "source": [
        "list1 = [1, 2, 5, 6]\n",
        "\n",
        "res = [(val, pow(val, 3)) for val in list1]\n",
        "\n",
        "print(res)"
      ],
      "metadata": {
        "colab": {
          "base_uri": "https://localhost:8080/"
        },
        "id": "QkAJDBoVndY3",
        "outputId": "c585df7b-45fd-4f9e-e3db-41ca7dded268"
      },
      "execution_count": null,
      "outputs": [
        {
          "output_type": "stream",
          "name": "stdout",
          "text": [
            "[(1, 1), (2, 8), (5, 125), (6, 216)]\n"
          ]
        }
      ]
    },
    {
      "cell_type": "markdown",
      "source": [
        "26.Write a code that prompts the user to input two sets of characters. Then, print the union of these two sets."
      ],
      "metadata": {
        "id": "BcugAqaundux"
      }
    },
    {
      "cell_type": "code",
      "source": [
        "set1 = {2, 4, 5, 6}\n",
        "set2 = {4, 6, 7, 8}\n",
        "\n",
        "print(\"set1 U set2 : \", set1 | set2)\n",
        "\n",
        "\n",
        "print(\"set1 U set2  :\", set1 |set2 )"
      ],
      "metadata": {
        "colab": {
          "base_uri": "https://localhost:8080/"
        },
        "id": "F_4WZPFyneD2",
        "outputId": "5b5709c6-4d4d-461c-b895-cc21c9e5ca52"
      },
      "execution_count": null,
      "outputs": [
        {
          "output_type": "stream",
          "name": "stdout",
          "text": [
            "set1 U set2 :  {2, 4, 5, 6, 7, 8}\n",
            "set1 U set2  : {2, 4, 5, 6, 7, 8}\n"
          ]
        }
      ]
    },
    {
      "cell_type": "markdown",
      "source": [
        "27. Develop a code that takes a tuple of integers as input. The function should return the maximum and\n",
        "minimum values from the tuple using tuple unpacking."
      ],
      "metadata": {
        "id": "BQB49JGCoyVQ"
      }
    },
    {
      "cell_type": "code",
      "source": [
        "a = (\"MNNIT Allahabad\", 5000, \"Engineering\")\n",
        "\n",
        "# of variable a\n",
        "(college, student, type_ofcollege) = a\n",
        "\n",
        "print(college)\n",
        "\n",
        "\n",
        "print(student)\n",
        "\n",
        "\n",
        "print(type_ofcollege)"
      ],
      "metadata": {
        "colab": {
          "base_uri": "https://localhost:8080/"
        },
        "id": "fS8MpynloyuD",
        "outputId": "966d96e4-cc1a-4f95-e1c4-2101fdf06371"
      },
      "execution_count": null,
      "outputs": [
        {
          "output_type": "stream",
          "name": "stdout",
          "text": [
            "MNNIT Allahabad\n",
            "5000\n",
            "Engineering\n"
          ]
        }
      ]
    },
    {
      "cell_type": "markdown",
      "source": [
        "28.Create a code that defines two sets of integers. Then, print the union, intersection, and difference of these\n",
        "two sets"
      ],
      "metadata": {
        "id": "b89M91KDozLh"
      }
    },
    {
      "cell_type": "code",
      "source": [
        "A = {0, 2, 4, 6, 8};\n",
        "B = {1, 2, 3, 4, 5};\n",
        "print(\"Union :\", A | B)\n",
        "\n",
        "\n",
        "print(\"Intersection :\", A & B)\n",
        "\n",
        "\n",
        "print(\"Difference :\", A - B)\n",
        "\n",
        "\n",
        "print(\"Symmetric difference :\", A ^ B)"
      ],
      "metadata": {
        "colab": {
          "base_uri": "https://localhost:8080/"
        },
        "id": "dP-2BIf7ozg5",
        "outputId": "69bf77c9-9657-479b-903b-b9fc12cabd78"
      },
      "execution_count": null,
      "outputs": [
        {
          "output_type": "stream",
          "name": "stdout",
          "text": [
            "Union : {0, 1, 2, 3, 4, 5, 6, 8}\n",
            "Intersection : {2, 4}\n",
            "Difference : {0, 8, 6}\n",
            "Symmetric difference : {0, 1, 3, 5, 6, 8}\n"
          ]
        }
      ]
    },
    {
      "cell_type": "markdown",
      "source": [
        "29.Write a code that takes a tuple and an element as input. The function should return the count of\n",
        "occurrences of the given element in the tuple."
      ],
      "metadata": {
        "id": "ETG2Vf4Npitm"
      }
    },
    {
      "cell_type": "code",
      "source": [
        "def countX(tup, x):\n",
        "    count = 0\n",
        "    for ele in tup:\n",
        "        if (ele == x):\n",
        "            count = count + 1\n",
        "    return count\n",
        "\n",
        "\n",
        "\n",
        "tup = (10, 8, 5, 2, 10, 15, 10, 8, 5, 8, 8, 2)\n",
        "enq = 4\n",
        "enq1 = 10\n",
        "enq2 = 8\n",
        "\n",
        "print(countX(tup, enq))\n",
        "print(countX(tup, enq1))\n",
        "print(countX(tup, enq2))"
      ],
      "metadata": {
        "colab": {
          "base_uri": "https://localhost:8080/"
        },
        "id": "abT0_WwJpjFz",
        "outputId": "2b765157-d02e-470e-fead-bcb4f8c94d4b"
      },
      "execution_count": null,
      "outputs": [
        {
          "output_type": "stream",
          "name": "stdout",
          "text": [
            "0\n",
            "3\n",
            "4\n"
          ]
        }
      ]
    },
    {
      "cell_type": "markdown",
      "source": [
        "30.Develop a code that prompts the user to input two sets of strings. Then, print the symmetric difference of\n",
        "these two sets."
      ],
      "metadata": {
        "id": "KW5nc5PoGG0u"
      }
    },
    {
      "cell_type": "code",
      "source": [
        "set_A = {1, 2, 3, 4, 5}\n",
        "set_B = {6, 7, 3, 9, 4}\n",
        "print(set_A.symmetric_difference(set_B))"
      ],
      "metadata": {
        "colab": {
          "base_uri": "https://localhost:8080/"
        },
        "id": "q01Rt4XeGHHh",
        "outputId": "2c1012b7-bbaf-451d-b925-6648ab0a8dd9"
      },
      "execution_count": 1,
      "outputs": [
        {
          "output_type": "stream",
          "name": "stdout",
          "text": [
            "{1, 2, 5, 6, 7, 9}\n"
          ]
        }
      ]
    },
    {
      "cell_type": "markdown",
      "source": [
        "31.Write a code that takes a list of words as input and returns a dictionary where the keys are unique words\n",
        "and the values are the frequencies of those words in the input list."
      ],
      "metadata": {
        "id": "kR3MLccyGHgu"
      }
    },
    {
      "cell_type": "code",
      "source": [
        "\n",
        "from collections import defaultdict\n",
        "\n",
        "test_dict = {'ide' : 3, 'Gfg' : 3, 'code' : 2}\n",
        "\n",
        "print(\"The original dictionary : \" + str(test_dict))\n",
        "\n",
        "\n",
        "res = defaultdict(int)\n",
        "for key, val in test_dict.items():\n",
        "    res[val] += 1\n",
        "\n",
        "print(\"The frequency dictionary : \" + str(dict(res)))"
      ],
      "metadata": {
        "colab": {
          "base_uri": "https://localhost:8080/"
        },
        "id": "WfqEPlXwGHzv",
        "outputId": "a3a3b761-f9b4-4a17-9322-14babf904026"
      },
      "execution_count": 3,
      "outputs": [
        {
          "output_type": "stream",
          "name": "stdout",
          "text": [
            "The original dictionary : {'ide': 3, 'Gfg': 3, 'code': 2}\n",
            "The frequency dictionary : {3: 2, 2: 1}\n"
          ]
        }
      ]
    },
    {
      "cell_type": "markdown",
      "source": [
        "32.Write a code that takes two dictionaries as input and merges them into a single dictionary. If there are\n",
        "common keys, the values should be added together."
      ],
      "metadata": {
        "id": "URW_3FSyIUJR"
      }
    },
    {
      "cell_type": "code",
      "source": [
        "dict1 = {'a': 12, 'for': 25, 'c': 9}\n",
        "dict2 = {'Geeks': 100, 'geek': 200, 'for': 300}\n",
        "\n",
        "for key in dict2:\n",
        "    if key in dict1:\n",
        "        dict2[key] = dict2[key] + dict1[key]\n",
        "    else:\n",
        "        pass\n",
        "\n",
        "print(dict2)"
      ],
      "metadata": {
        "colab": {
          "base_uri": "https://localhost:8080/"
        },
        "id": "gMFTTerlIUbd",
        "outputId": "602fae4f-f38a-4cc8-dfef-47e82876b0f0"
      },
      "execution_count": 4,
      "outputs": [
        {
          "output_type": "stream",
          "name": "stdout",
          "text": [
            "{'Geeks': 100, 'geek': 200, 'for': 325}\n"
          ]
        }
      ]
    },
    {
      "cell_type": "markdown",
      "source": [
        "33.Write a code to access a value in a nested dictionary. The function should take the dictionary and a list of\n",
        "keys as input, and return the corresponding value. If any of the keys do not exist in the dictionary, the\n",
        "function should return None."
      ],
      "metadata": {
        "id": "iLwJAJ-XJX2-"
      }
    },
    {
      "cell_type": "code",
      "source": [
        "test_dict = {'Gfg': {'is': 'best'}}\n",
        "\n",
        "print(\"The original dictionary is : \", test_dict)\n",
        "\n",
        "keys = ['Gfg', 'is']\n",
        "val = test_dict\n",
        "for key in keys:\n",
        "    if key in val:\n",
        "        val = val[key]\n",
        "    else:\n",
        "        val = None\n",
        "        break\n",
        "\n",
        "\n",
        "print(\"The nested safely accessed value is : \", val)"
      ],
      "metadata": {
        "colab": {
          "base_uri": "https://localhost:8080/"
        },
        "id": "TYx3wz_0JYKe",
        "outputId": "8815dc1d-23f4-4a3b-ec3a-9d3c5313db43"
      },
      "execution_count": 5,
      "outputs": [
        {
          "output_type": "stream",
          "name": "stdout",
          "text": [
            "The original dictionary is :  {'Gfg': {'is': 'best'}}\n",
            "The nested safely accessed value is :  best\n"
          ]
        }
      ]
    },
    {
      "cell_type": "markdown",
      "source": [
        "34.Write a code that takes a dictionary as input and returns a sorted version of it based on the values. You\n",
        "can choose whether to sort in ascending or descending order."
      ],
      "metadata": {
        "id": "yMJ6QOeMJYnN"
      }
    },
    {
      "cell_type": "code",
      "source": [
        "my_dict = {'b': 2, 'a': 1, 'c': 3}\n",
        "sorted_list = sorted(my_dict.items())\n",
        "\n",
        "sorted_dict = {}\n",
        "for key, value in sorted_list:\n",
        "    sorted_dict[key] = value\n",
        "\n",
        "print(sorted_dict)"
      ],
      "metadata": {
        "colab": {
          "base_uri": "https://localhost:8080/"
        },
        "id": "7wVsaGnSJY7-",
        "outputId": "be1ab87d-f9b3-4405-b8c8-dfe9350780cf"
      },
      "execution_count": 12,
      "outputs": [
        {
          "output_type": "stream",
          "name": "stdout",
          "text": [
            "{'a': 1, 'b': 2, 'c': 3}\n"
          ]
        }
      ]
    },
    {
      "cell_type": "markdown",
      "source": [
        "35.Write a code that inverts a dictionary, swapping keys and values. Ensure that the inverted dictionary\n",
        "correctly handles cases where multiple keys have the same value by storing the keys as a list in the\n",
        "inverted dictionary."
      ],
      "metadata": {
        "id": "w2aBhIDxMXuM"
      }
    },
    {
      "cell_type": "code",
      "source": [
        "old_dict = {'A': 67, 'B': 23, 'C': 45, 'D': 56, 'E': 12, 'F': 69, 'G': 67, 'H': 23}\n",
        "\n",
        "new_dict = dict([(value, key) for key, value in old_dict.items()])\n",
        "\n",
        "print (\"Original dictionary is : \")\n",
        "print(old_dict)\n",
        "\n",
        "print()\n",
        "\n",
        "print (\"Dictionary after swapping is :  \")\n",
        "print(\"keys: values\")\n",
        "for i in new_dict:\n",
        "    print(i, \" :  \", new_dict[i])"
      ],
      "metadata": {
        "colab": {
          "base_uri": "https://localhost:8080/"
        },
        "id": "81QsRPbJMYDy",
        "outputId": "0d5d6849-842f-4c0a-d87a-e85cfd473513"
      },
      "execution_count": 13,
      "outputs": [
        {
          "output_type": "stream",
          "name": "stdout",
          "text": [
            "Original dictionary is : \n",
            "{'A': 67, 'B': 23, 'C': 45, 'D': 56, 'E': 12, 'F': 69, 'G': 67, 'H': 23}\n",
            "\n",
            "Dictionary after swapping is :  \n",
            "keys: values\n",
            "67  :   G\n",
            "23  :   H\n",
            "45  :   C\n",
            "56  :   D\n",
            "12  :   E\n",
            "69  :   F\n"
          ]
        }
      ]
    }
  ],
  "metadata": {
    "colab": {
      "toc_visible": true,
      "provenance": []
    },
    "kernelspec": {
      "display_name": "Python 3",
      "name": "python3"
    }
  },
  "nbformat": 4,
  "nbformat_minor": 0
}