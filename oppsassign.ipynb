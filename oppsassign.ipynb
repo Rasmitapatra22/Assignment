{
  "cells": [
    {
      "cell_type": "markdown",
      "source": [
        "1. What are the five key concepts of Object-Oriented Programming (OOP)?\n",
        "\n",
        "\n",
        "  ** OOPs Concepts in Python**\n",
        "       Class in Python\n",
        "       Objects in Python\n",
        "       Polymorphism in Python\n",
        "      Encapsulation in Python\n",
        "      Inheritance in Python\n"
      ],
      "metadata": {
        "id": "QxTjAoxLLVE1"
      }
    },
    {
      "cell_type": "markdown",
      "source": [
        "2.Write a Python class for a `Car` with attributes for `make`, `model`, and `year`. Include a method to display\n",
        "the car's information."
      ],
      "metadata": {
        "id": "MCWzznZtMQBt"
      }
    },
    {
      "cell_type": "code",
      "source": [
        "class Car:\n",
        "    def __init__(self, make, model, year, color):\n",
        "        \"\"\"Initialize the attributes of the car.\"\"\"\n",
        "        self.make = make\n",
        "        self.model = model\n",
        "        self.year = year\n",
        "        self.color = color\n",
        "        self.is_running = False\n",
        "\n",
        "    def start(self):\n",
        "        \"\"\"Start the car.\"\"\"\n",
        "        if not self.is_running:\n",
        "            self.is_running = True\n",
        "            print(f\"The {self.color} {self.make} {self.model} has started.\")\n",
        "        else:\n",
        "            print(f\"The {self.color} {self.make} {self.model} is already running.\")\n",
        "\n",
        "    def stop(self):\n",
        "        \"\"\"Stop the car.\"\"\"\n",
        "        if self.is_running:\n",
        "            self.is_running = False\n",
        "            print(f\"The {self.color} {self.make} {self.model} has stopped.\")\n",
        "        else:\n",
        "            print(f\"The {self.color} {self.make} {self.model} is already stopped.\")\n",
        "\n",
        "    def display_info(self):\n",
        "        \"\"\"Display information about the car.\"\"\"\n",
        "        print(f\"Car Information: {self.year} {self.color} {self.make} {self.model}\")\n",
        "\n",
        "# Example usage:\n",
        "my_car = Car(\"bmw\", \"Camry\", 2024, \"blue\")\n",
        "my_car.display_info()  # Display car info\n",
        "my_car.start()         # Start the car\n",
        "my_car.stop()          # Stop the car"
      ],
      "metadata": {
        "id": "NFzJQFJkMQWh",
        "outputId": "608e95dd-38d5-45cf-8164-b9b7b398fc4e",
        "colab": {
          "base_uri": "https://localhost:8080/"
        }
      },
      "execution_count": null,
      "outputs": [
        {
          "output_type": "stream",
          "name": "stdout",
          "text": [
            "Car Information: 2024 blue bmw Camry\n",
            "The blue bmw Camry has started.\n",
            "The blue bmw Camry has stopped.\n"
          ]
        }
      ]
    },
    {
      "cell_type": "markdown",
      "source": [
        "3.Explain the difference between instance methods and class methods. Provide an example of each.\n",
        "\n",
        "\n",
        "  **Instance Methods**\n",
        "Now let’s look at instance methods. Instance methods can access and modify both class attributes and instance attributes. Similar to a class method, an instance method is just a function in a class. It also starts with the keyword “def”. Its first parameter is the keyword “self”. The self parameter binds the method to the instance object. In the code below, we have added an instance method called insta_method. Notice that this insta_method has access to the attributes of the object (name and age) and the class attributes (home). Notice that we have changed the class attribute (home) value from “zoo” to “jungle”. When we call the instance method using the animal1 (animal1.insta_method) object, you can see that the output for location says “jungle” instead of “zoo”. Instance methods are used more often than class methods because they can access both class and instance attributes.\n",
        "\n",
        "  **Class Methods**\n",
        "Class methods are methods that are not bound to an instance of a class (object) but to the class itself. Remember, there are two types of attributes in a class; class attributes and instance attributes. Class attributes are bound to the class, while instance attributes are bound to an object. Class methods can only access and modify class attributes and not instance attributes. There are two ways to create a class method. The first method is to use the classmethod() function. The second method is to use the @classmethod decorator. In this article, we are going to use the decorator to create a class method. The first parameter of this class method is “cls”. The “cls” keyword simply means “referring to the class.”\n",
        "\n",
        "In our class below, there is a class attribute called “home.” We create a class method that can access and modify this class attribute. We create a function called “animals_home.” Right at the top of the function, we add the decorator @classmethod. This decorator converts the function into a class method. We use this method to change the class attribute. We change the home variable, from “Zoo” to “Jungle”. This proves that class methods can access and change class attributes.\n",
        "\n",
        "\n",
        "\n"
      ],
      "metadata": {
        "id": "EGkcFL6UOOcX"
      }
    },
    {
      "cell_type": "code",
      "source": [
        "class Person:\n",
        "    def __init__(self, name, age):\n",
        "        self.name = name\n",
        "        self.age = age\n",
        "\n",
        "    def introduce(self):\n",
        "        return f\"Hi, I'm {self.name} and I'm {self.age} years old.\"\n",
        "\n",
        "\n",
        "# Creating an instance of the class\n",
        "person1 = Person(\"Kishan\", 20)\n",
        "\n",
        "# Calling the instance method\n",
        "print(person1.introduce())\n",
        "\n",
        "\n",
        "\n"
      ],
      "metadata": {
        "id": "94kWKRR0PAAX",
        "outputId": "23036c93-4ebe-4e7e-9d97-61d664faa81c",
        "colab": {
          "base_uri": "https://localhost:8080/"
        }
      },
      "execution_count": null,
      "outputs": [
        {
          "output_type": "stream",
          "name": "stdout",
          "text": [
            "Hi, I'm Kishan and I'm 20 years old.\n"
          ]
        }
      ]
    },
    {
      "cell_type": "code",
      "source": [
        "#class method\n",
        "\n",
        "class Cls:\n",
        "\n",
        "    @classmethod\n",
        "    def introduce(cls):\n",
        "        print(\"Hello, I am %s!\" %cls)"
      ],
      "metadata": {
        "id": "b8sA4183QEhK"
      },
      "execution_count": null,
      "outputs": []
    },
    {
      "cell_type": "markdown",
      "source": [
        "4.How does Python implement method overloading? Give an example\n",
        "\n",
        "\n",
        "\n",
        "     Two or more methods have the same name but different numbers of parameters or different types of parameters, or both. These methods are called overloaded methods and this is called method overloading.\n",
        "\n",
        "     Method 1 (Not The Most Efficient Method):\n",
        "\n",
        "We can use the arguments to make the same function work differently i.e. as per the arguments.\n",
        "\n",
        "Method 2 (Not the efficient one):\n",
        "\n",
        "We can achieve method overloading in python by user defined function using “None” keyword as default parameter.\n",
        "\n",
        "Code explanation:\n",
        "\n",
        "The first parameter of  “add” method is set to None. This will give us the option to call it with or without a parameter.\n",
        "\n",
        "When we pass arguments to the add method (Working):\n",
        "\n",
        "The method checks if both the parameters are available or not.\n",
        "As we have already given default parameter values as “None”, if any of the value is not passed it will remain “None”.\n",
        "Using If-Else statements, we can achieve method overloading by checking each parameter as single statement."
      ],
      "metadata": {
        "id": "LJRzOlqBRBL4"
      }
    },
    {
      "cell_type": "code",
      "source": [
        "from multipledispatch import dispatch\n",
        "\n",
        "@dispatch(int, int)\n",
        "def product(first, second):\n",
        "    result = first*second\n",
        "    print(result)\n",
        "\n",
        "\n",
        "\n",
        "@dispatch(int, int, int)\n",
        "def product(first, second, third):\n",
        "    result = first * second * third\n",
        "    print(result)\n",
        "\n",
        "\n",
        "\n",
        "\n",
        "@dispatch(float, float, float)\n",
        "def product(first, second, third):\n",
        "    result = first * second * third\n",
        "    print(result)\n",
        "\n",
        "product(2, 3)\n",
        "\n",
        "\n",
        "product(2, 3, 2)\n",
        "product(2.2, 3.4, 2.3)"
      ],
      "metadata": {
        "id": "T-JwK4uBRBnA",
        "outputId": "4b980c14-9841-4d7c-a58c-946b087deefb",
        "colab": {
          "base_uri": "https://localhost:8080/"
        }
      },
      "execution_count": null,
      "outputs": [
        {
          "output_type": "stream",
          "name": "stdout",
          "text": [
            "6\n",
            "12\n",
            "17.204\n"
          ]
        }
      ]
    },
    {
      "cell_type": "markdown",
      "source": [
        "5.What are the three types of access modifiers in Python? How are they denoted?\n",
        "    \n",
        "\n",
        "   Python supports three types of access modifiers which are public,private and protected. These access modifiers provide restrictions on the access of member variables and methods of the class from any object outside the class.\n",
        "\n",
        "  **Public Access Modifier**\n",
        "\n",
        "By default the member variables and methods are public which means they can be accessed from anywhere outside or inside the class. No public keyword is required to make the class or methods and properties public.Here is an example of Public access modifier.\n",
        "\n",
        "\n",
        "   **Private Access Modifier**\n",
        "Class properties and methods with private access modifier can only be accessed within the class where they are defined and cannot be accessed outside the class. In Python private properties and methods are declared by adding a prefix with two underscores(‘__’) before their declaration.\n",
        "\n",
        " ** Protected Access Modifier**\n",
        "Class properties and methods with protected access modifier can be accessed within the class and from the class that inherits the protected class. In python, protected members and methods are declared using single underscore(‘_’) as prefix before their names."
      ],
      "metadata": {
        "id": "cWBsWMqkSr3-"
      }
    },
    {
      "cell_type": "markdown",
      "source": [
        "6.Describe the five types of inheritance in Python. Provide a simple example of multiple inheritance.\n",
        "\n",
        "   **Types of Inheritance in Python**\n",
        "\n",
        "Types of Inheritance depend upon the number of child and parent classes involved. There are four types of inheritance in Python:\n",
        "\n",
        "     **Single Inheritance: **\n",
        "Single inheritance enables a derived class to inherit properties from a single parent class, thus enabling code reusability and the addition of new features to existing code.\n",
        "\n",
        "   **Multiple Inheritance: **\n",
        "\n",
        "When a class can be derived from more than one base class this type of inheritance is called multiple inheritances. In multiple inheritances, all the features of the base classes are inherited into the derived class.\n",
        "   \n",
        "     **Multilevel Inheritance :**\n",
        "\n",
        "In multilevel inheritance, features of the base class and the derived class are further inherited into the new derived class. This is similar to a relationship representing a child and a grandfather.\n",
        "\n",
        "\n",
        "     **Hierarchical Inheritance: **\n",
        "\n",
        "When more than one derived class are created from a single base this type of inheritance is called hierarchical inheritance. In this program, we have a parent (base) class and two child (derived) classes.\n",
        "   \n",
        "\n",
        "     ** Hybrid Inheritance: **\n",
        "\n",
        "Inheritance consisting of multiple types of inheritance is called hybrid inheritance.\n",
        "\n"
      ],
      "metadata": {
        "id": "_gxBNQvvUGMg"
      }
    },
    {
      "cell_type": "code",
      "source": [
        "# single inheritance\n",
        "\n",
        "# Base class\n",
        "class Parent:\n",
        "    def func1(self):\n",
        "        print(\"This function is in parent class.\")\n",
        "\n",
        "# Derived class\n",
        "\n",
        "\n",
        "class Child(Parent):\n",
        "    def func2(self):\n",
        "        print(\"This function is in child class.\")\n",
        "\n",
        "\n",
        "# Driver's code\n",
        "object = Child()\n",
        "object.func1()\n",
        "object.func2()\n",
        "\n",
        "\n",
        "\n",
        "# multiple inheritance\n",
        "\n",
        "# Base class1\n",
        "class Mother:\n",
        "    mothername = \"\"\n",
        "\n",
        "    def mother(self):\n",
        "        print(self.mothername)\n",
        "\n",
        "# Base class2\n",
        "\n",
        "\n",
        "class Father:\n",
        "    fathername = \"\"\n",
        "\n",
        "    def father(self):\n",
        "        print(self.fathername)\n",
        "\n",
        "# Derived class\n",
        "\n",
        "\n",
        "class Son(Mother, Father):\n",
        "    def parents(self):\n",
        "        print(\"Father :\", self.fathername)\n",
        "        print(\"Mother :\", self.mothername)\n",
        "\n",
        "\n",
        "# Driver's code\n",
        "s1 = Son()\n",
        "s1.fathername = \"RAM\"\n",
        "s1.mothername = \"SITA\"\n",
        "s1.parents()\n",
        "\n",
        "\n",
        "\n",
        "\n",
        "\n",
        "# multilevel inheritance\n",
        "\n",
        "# Base class\n",
        "\n",
        "\n",
        "class Grandfather:\n",
        "\n",
        "\tdef __init__(self, grandfathername):\n",
        "\t\tself.grandfathername = grandfathername\n",
        "\n",
        "# Intermediate class\n",
        "\n",
        "\n",
        "class Father(Grandfather):\n",
        "\tdef __init__(self, fathername, grandfathername):\n",
        "\t\tself.fathername = fathername\n",
        "\n",
        "\t\t# invoking constructor of Grandfather class\n",
        "\t\tGrandfather.__init__(self, grandfathername)\n",
        "\n",
        "# Derived class\n",
        "\n",
        "\n",
        "class Son(Father):\n",
        "\tdef __init__(self, sonname, fathername, grandfathername):\n",
        "\t\tself.sonname = sonname\n",
        "\n",
        "\t\t# invoking constructor of Father class\n",
        "\t\tFather.__init__(self, fathername, grandfathername)\n",
        "\n",
        "\tdef print_name(self):\n",
        "\t\tprint('Grandfather name :', self.grandfathername)\n",
        "\t\tprint(\"Father name :\", self.fathername)\n",
        "\t\tprint(\"Son name :\", self.sonname)\n",
        "\n",
        "\n",
        "# Driver code\n",
        "s1 = Son('Prince', 'Rampal', 'Lal mani')\n",
        "print(s1.grandfathername)\n",
        "s1.print_name()\n",
        "\n",
        "\n",
        "\n",
        "\n",
        "\n",
        "# Hierarchical inheritance\n",
        "\n",
        "\n",
        "# Base class\n",
        "class Parent:\n",
        "\tdef func1(self):\n",
        "\t\tprint(\"This function is in parent class.\")\n",
        "\n",
        "# Derived class1\n",
        "\n",
        "\n",
        "class Child1(Parent):\n",
        "\tdef func2(self):\n",
        "\t\tprint(\"This function is in child 1.\")\n",
        "\n",
        "# Derivied class2\n",
        "\n",
        "\n",
        "class Child2(Parent):\n",
        "\tdef func3(self):\n",
        "\t\tprint(\"This function is in child 2.\")\n",
        "\n",
        "\n",
        "# Driver's code\n",
        "object1 = Child1()\n",
        "object2 = Child2()\n",
        "object1.func1()\n",
        "object1.func2()\n",
        "object2.func1()\n",
        "object2.func3()\n",
        "\n",
        "\n",
        "# hybrid inheritance\n",
        "\n",
        "\n",
        "class School:\n",
        "\tdef func1(self):\n",
        "\t\tprint(\"This function is in school.\")\n",
        "\n",
        "\n",
        "class Student1(School):\n",
        "\tdef func2(self):\n",
        "\t\tprint(\"This function is in student 1. \")\n",
        "\n",
        "\n",
        "class Student2(School):\n",
        "\tdef func3(self):\n",
        "\t\tprint(\"This function is in student 2.\")\n",
        "\n",
        "\n",
        "class Student3(Student1, School):\n",
        "\tdef func4(self):\n",
        "\t\tprint(\"This function is in student 3.\")\n",
        "\n",
        "\n",
        "# Driver's code\n",
        "object = Student3()\n",
        "object.func1()\n",
        "object.func2()\n"
      ],
      "metadata": {
        "id": "8s2yVeb0VOG0",
        "outputId": "a0ea3825-cce9-4d2d-9860-bb71907631fb",
        "colab": {
          "base_uri": "https://localhost:8080/"
        }
      },
      "execution_count": null,
      "outputs": [
        {
          "output_type": "stream",
          "name": "stdout",
          "text": [
            "This function is in parent class.\n",
            "This function is in child class.\n",
            "Father : RAM\n",
            "Mother : SITA\n",
            "Lal mani\n",
            "Grandfather name : Lal mani\n",
            "Father name : Rampal\n",
            "Son name : Prince\n",
            "This function is in parent class.\n",
            "This function is in child 1.\n",
            "This function is in parent class.\n",
            "This function is in child 2.\n",
            "This function is in school.\n",
            "This function is in student 1. \n"
          ]
        }
      ]
    },
    {
      "cell_type": "markdown",
      "source": [
        "7.What is the Method Resolution Order (MRO) in Python? How can you retrieve it programmatically?\n",
        "\n",
        "\n",
        "\n",
        "Method Resolution Order :\n",
        "Method Resolution Order(MRO) it denotes the way a programming language resolves a method or attribute. Python supports classes inheriting from other classes. The class being inherited is called the Parent or Superclass, while the class that inherits is called the Child or Subclass. In python, method resolution order defines the order in which the base classes are searched when executing a method. First, the method or attribute is searched within a class and then it follows the order we specified while inheriting. This order is also called Linearization of a class and set of rules are called MRO(Method Resolution Order). While inheriting from another class, the interpreter needs a way to resolve the methods that are being called via an instance. Thus we need the method resolution order."
      ],
      "metadata": {
        "id": "bpS9k8cFWRGn"
      }
    },
    {
      "cell_type": "code",
      "source": [
        "class A:\n",
        "    def myname(self):\n",
        "        print(\"I am a class A\")\n",
        "\n",
        "class B(A):\n",
        "    def myname(self):\n",
        "        print(\"I am a class B\")\n",
        "\n",
        "class C(A):\n",
        "    def myname(self):\n",
        "        print(\"I am a class C\")\n",
        "c = C()\n",
        "print(c.myname())"
      ],
      "metadata": {
        "id": "ghIirOz3W1LQ",
        "outputId": "ab6aa34f-294f-4cb4-9bdb-c4464f21356b",
        "colab": {
          "base_uri": "https://localhost:8080/"
        }
      },
      "execution_count": null,
      "outputs": [
        {
          "output_type": "stream",
          "name": "stdout",
          "text": [
            "I am a class C\n",
            "None\n"
          ]
        }
      ]
    },
    {
      "cell_type": "markdown",
      "source": [
        "8. Create an abstract base class `Shape` with an abstract method `area()`. Then create two subclasses\n",
        "`Circle` and `Rectangle` that implement the `area()` method.\n",
        "\n",
        "\n",
        "\n"
      ],
      "metadata": {
        "id": "U9XL-Im2aHJy"
      }
    },
    {
      "cell_type": "code",
      "source": [
        "# Import the math module to access mathematical functions like pi\n",
        "import math\n",
        "\n",
        "# Define a base class called Shape to represent a generic shape with methods for calculating area and perimeter\n",
        "class Shape:\n",
        "    # Placeholder method for calculating area (to be implemented in derived classes)\n",
        "    def calculate_area(self):\n",
        "        pass\n",
        "\n",
        "    # Placeholder method for calculating perimeter (to be implemented in derived classes)\n",
        "    def calculate_perimeter(self):\n",
        "        pass\n",
        "\n",
        "# Define a derived class called Circle, which inherits from the Shape class\n",
        "class Circle(Shape):\n",
        "    # Initialize the Circle object with a given radius\n",
        "    def __init__(self, radius):\n",
        "        self.radius = radius\n",
        "\n",
        "    # Calculate and return the area of the circle using the formula: π * r^2\n",
        "    def calculate_area(self):\n",
        "        return math.pi * self.radius**2\n",
        "\n",
        "    # Calculate and return the perimeter of the circle using the formula: 2π * r\n",
        "    def calculate_perimeter(self):\n",
        "        return 2 * math.pi * self.radius\n",
        "\n",
        "# Define a derived class called Rectangle, which inherits from the Shape class\n",
        "class Rectangle(Shape):\n",
        "    # Initialize the Rectangle object with given length and width\n",
        "    def __init__(self, length, width):\n",
        "        self.length = length\n",
        "        self.width = width\n",
        "\n",
        "    # Calculate and return the area of the rectangle using the formula: length * width\n",
        "    def calculate_area(self):\n",
        "        return self.length * self.width\n",
        "\n",
        "    # Calculate and return the perimeter of the rectangle using the formula: 2 * (length + width)\n",
        "    def calculate_perimeter(self):\n",
        "        return 2 * (self.length + self.width)\n",
        "\n",
        "# Define a derived class called Triangle, which inherits from the Shape class\n",
        "class Triangle(Shape):\n",
        "    # Initialize the Triangle object with a base, height, and three side lengths\n",
        "    def __init__(self, base, height, side1, side2, side3):\n",
        "        self.base = base\n",
        "        self.height = height\n",
        "        self.side1 = side1\n",
        "        self.side2 = side2\n",
        "        self.side3 = side3\n",
        "\n",
        "    # Calculate and return the area of the triangle using the formula: 0.5 * base * height\n",
        "    def calculate_area(self):\n",
        "        return 0.5 * self.base * self.height\n",
        "\n",
        "    # Calculate and return the perimeter of the triangle by adding the lengths of its three sides\n",
        "    def calculate_perimeter(self):\n",
        "        return self.side1 + self.side2 + self.side3\n",
        "\n",
        "# Example usage\n",
        "# Create a Circle object with a given radius and calculate its area and perimeter\n",
        "r = 7\n",
        "circle = Circle(r)\n",
        "circle_area = circle.calculate_area()\n",
        "circle_perimeter = circle.calculate_perimeter()\n",
        "\n",
        "# Print the results for the Circle\n",
        "print(\"Radius of the circle:\", r)\n",
        "print(\"Circle Area:\", circle_area)\n",
        "print(\"Circle Perimeter:\", circle_perimeter)\n",
        "\n",
        "# Create a Rectangle object with given length and width and calculate its area and perimeter\n",
        "l = 5\n",
        "w = 7\n",
        "rectangle = Rectangle(l, w)\n",
        "rectangle_area = rectangle.calculate_area()\n",
        "rectangle_perimeter = rectangle.calculate_perimeter()\n",
        "\n",
        "# Print the results for the Rectangle\n",
        "print(\"\\nRectangle: Length =\", l, \" Width =\", w)\n",
        "print(\"Rectangle Area:\", rectangle_area)\n",
        "print(\"Rectangle Perimeter:\", rectangle_perimeter)\n",
        "\n",
        "# Create a Triangle object with a base, height, and three side lengths, and calculate its area and perimeter\n",
        "base = 5\n",
        "height = 4\n",
        "s1 = 4\n",
        "s2 = 3\n",
        "s3 = 5\n",
        "\n",
        "# Print the results for the Triangle\n",
        "print(\"\\nTriangle: Base =\", base, \" Height =\", height, \" side1 =\", s1, \" side2 =\", s2, \" side3 =\", s3)\n",
        "triangle = Triangle(base, height, s1, s2, s3)\n",
        "triangle_area = triangle.calculate_area()\n",
        "triangle_perimeter = triangle.calculate_perimeter()\n",
        "print(\"Triangle Area:\", triangle_area)\n",
        "print(\"Triangle Perimeter:\", triangle_perimeter)\n"
      ],
      "metadata": {
        "colab": {
          "base_uri": "https://localhost:8080/"
        },
        "id": "b8c617QsaHrY",
        "outputId": "be17ec66-e36f-44cc-a5e6-c9c7b8aa7394"
      },
      "execution_count": 1,
      "outputs": [
        {
          "output_type": "stream",
          "name": "stdout",
          "text": [
            "Radius of the circle: 7\n",
            "Circle Area: 153.93804002589985\n",
            "Circle Perimeter: 43.982297150257104\n",
            "\n",
            "Rectangle: Length = 5  Width = 7\n",
            "Rectangle Area: 35\n",
            "Rectangle Perimeter: 24\n",
            "\n",
            "Triangle: Base = 5  Height = 4  side1 = 4  side2 = 3  side3 = 5\n",
            "Triangle Area: 10.0\n",
            "Triangle Perimeter: 12\n"
          ]
        }
      ]
    },
    {
      "cell_type": "markdown",
      "source": [
        "9. Demonstrate polymorphism by creating a function that can work with different shape objects to calculate\n",
        "and print their areas."
      ],
      "metadata": {
        "id": "MJPLsIZhbLGG"
      }
    },
    {
      "cell_type": "code",
      "source": [
        "class Shape:\n",
        "  def __init__(self, name):\n",
        "    self.name = name\n",
        "\n",
        "class Circle(Shape):\n",
        "  def __init__(self, name, radius):\n",
        "    super().__init__(name)\n",
        "    self.radius = radius\n",
        "\n",
        "class Rectangle(Shape):\n",
        "  def __init__(self, name, width, height):\n",
        "    super().__init__(name)\n",
        "    self.width = width\n",
        "    self.height = height\n",
        "\n",
        "def calculate_area(shape):\n",
        "  if isinstance(shape, Circle):\n",
        "    return shape.radius ** 2 * 3.14\n",
        "  elif isinstance(shape, Rectangle):\n",
        "    return shape.width * shape.height\n",
        "\n",
        "circle = Circle(\"Circle\", 10)\n",
        "rectangle = Rectangle(\"Rectangle\", 20, 30)\n",
        "\n",
        "print(calculate_area(circle))\n",
        "print(calculate_area(rectangle))"
      ],
      "metadata": {
        "colab": {
          "base_uri": "https://localhost:8080/"
        },
        "id": "GxZhHHXBbLqN",
        "outputId": "da2e0dda-4b6e-4823-c583-2bedcaae0190"
      },
      "execution_count": 3,
      "outputs": [
        {
          "output_type": "stream",
          "name": "stdout",
          "text": [
            "314.0\n",
            "600\n"
          ]
        }
      ]
    },
    {
      "cell_type": "markdown",
      "source": [
        "10. Implement encapsulation in a `BankAccount` class with private attributes for `balance` and\n",
        "`account_number`. Include methods for deposit, withdrawal, and balance inquiry."
      ],
      "metadata": {
        "id": "yCxVggg5cXHP"
      }
    },
    {
      "cell_type": "code",
      "source": [
        "\n",
        "class Bank_Account:\n",
        "\tdef __init__(self):\n",
        "\t\tself.balance=0\n",
        "\t\tprint(\"Hello!!! Welcome to the Deposit & Withdrawal Machine\")\n",
        "\n",
        "\tdef deposit(self):\n",
        "\t\tamount=float(input(\"Enter amount to be Deposited: \"))\n",
        "\t\tself.balance += amount\n",
        "\t\tprint(\"\\n Amount Deposited:\",amount)\n",
        "\n",
        "\tdef withdraw(self):\n",
        "\t\tamount = float(input(\"Enter amount to be Withdrawn: \"))\n",
        "\t\tif self.balance>=amount:\n",
        "\t\t\tself.balance-=amount\n",
        "\t\t\tprint(\"\\n You Withdrew:\", amount)\n",
        "\t\telse:\n",
        "\t\t\tprint(\"\\n Insufficient balance \")\n",
        "\n",
        "\tdef display(self):\n",
        "\t\tprint(\"\\n Net Available Balance=\",self.balance)\n",
        "\n",
        "# Driver code\n",
        "\n",
        "# creating an object of class\n",
        "s = Bank_Account()\n",
        "\n",
        "# Calling functions with that class object\n",
        "s.deposit()\n",
        "s.withdraw()\n",
        "s.display()\n"
      ],
      "metadata": {
        "colab": {
          "base_uri": "https://localhost:8080/"
        },
        "id": "AqT_vWC4cXiV",
        "outputId": "7fd440e7-a580-46fa-e9fb-12081c89c85d"
      },
      "execution_count": 4,
      "outputs": [
        {
          "output_type": "stream",
          "name": "stdout",
          "text": [
            "Hello!!! Welcome to the Deposit & Withdrawal Machine\n",
            "Enter amount to be Deposited: 789\n",
            "\n",
            " Amount Deposited: 789.0\n",
            "Enter amount to be Withdrawn: 67\n",
            "\n",
            " You Withdrew: 67.0\n",
            "\n",
            " Net Available Balance= 722.0\n"
          ]
        }
      ]
    },
    {
      "cell_type": "markdown",
      "source": [
        "11. Write a class that overrides the `__str__` and `__add__` magic methods. What will these methods allow\n",
        "you to do?"
      ],
      "metadata": {
        "id": "omOsyXZbdD0v"
      }
    },
    {
      "cell_type": "code",
      "source": [
        "# declare our own string class\n",
        "class String:\n",
        "\n",
        "    # magic method to initiate object\n",
        "    def __init__(self, string):\n",
        "        self.string = string\n",
        "\n",
        "    # print our string object\n",
        "    def __repr__(self):\n",
        "        return 'Object: {}'.format(self.string)\n",
        "\n",
        "# Driver Code\n",
        "if __name__ == '__main__':\n",
        "\n",
        "    # object creation\n",
        "    string1 = String('Hello')\n",
        "\n",
        "    # print object location\n",
        "    print(string1)\n",
        "\n",
        "\n",
        "\n",
        "\n",
        "    # declare our own string class\n",
        "class String:\n",
        "\n",
        "    # magic method to initiate object\n",
        "    def __init__(self, string):\n",
        "        self.string = string\n",
        "\n",
        "    # print our string object\n",
        "    def __repr__(self):\n",
        "        return 'Object: {}'.format(self.string)\n",
        "\n",
        "    def __add__(self, other):\n",
        "        return self.string + other\n",
        "\n",
        "# Driver Code\n",
        "if __name__ == '__main__':\n",
        "\n",
        "    # object creation\n",
        "    string1 = String('Hello')\n",
        "\n",
        "    # concatenate String object and a string\n",
        "    print(string1 +' india')\n",
        "\n"
      ],
      "metadata": {
        "colab": {
          "base_uri": "https://localhost:8080/"
        },
        "id": "JyghXah7dEPm",
        "outputId": "1365c2ae-cd5a-4991-830d-51bc897dc78a"
      },
      "execution_count": 8,
      "outputs": [
        {
          "output_type": "stream",
          "name": "stdout",
          "text": [
            "Object: Hello\n",
            "Hello india\n"
          ]
        }
      ]
    },
    {
      "cell_type": "markdown",
      "source": [
        "12. Create a decorator that measures and prints the execution time of a function."
      ],
      "metadata": {
        "id": "E3tVXkiHd4-1"
      }
    },
    {
      "cell_type": "code",
      "source": [
        "import time\n",
        "\n",
        "def measure_execution_time(func):\n",
        "    def wrapper(*args, **kwargs):\n",
        "        start_time = time.time()\n",
        "        result = func(*args, **kwargs)\n",
        "        end_time = time.time()\n",
        "        execution_time = end_time - start_time\n",
        "        print(f\"Function {func.__name__} took {execution_time:.4f} seconds to execute\")\n",
        "        return result\n",
        "    return wrapper\n",
        "\n",
        "# Example usage\n",
        "@measure_execution_time\n",
        "def calculate_multiply(numbers):\n",
        "    tot = 1\n",
        "    for x in numbers:\n",
        "        tot *= x\n",
        "    return tot\n",
        "\n",
        "# Call the decorated function\n",
        "result = calculate_multiply([1, 2, 3, 4, 5])\n",
        "print(\"Result:\", result)\n"
      ],
      "metadata": {
        "colab": {
          "base_uri": "https://localhost:8080/"
        },
        "id": "CzYirsPkd5U7",
        "outputId": "f22d3efb-ccd5-405f-f738-44a67873682a"
      },
      "execution_count": 9,
      "outputs": [
        {
          "output_type": "stream",
          "name": "stdout",
          "text": [
            "Function calculate_multiply took 0.0000 seconds to execute\n",
            "Result: 120\n"
          ]
        }
      ]
    },
    {
      "cell_type": "markdown",
      "source": [
        "13. Explain the concept of the Diamond Problem in multiple inheritance. How does Python resolve it?\n",
        "\n",
        "\n",
        "\n",
        "  The \"diamond problem\" (also sometimes referred to as the \"deadly diamond of death\") is an ambiguity that arises when a class inherits from two or more classes that have one common superclass."
      ],
      "metadata": {
        "id": "tq0GiQiTeYk9"
      }
    },
    {
      "cell_type": "code",
      "source": [
        "class A:\n",
        "    def display(self):\n",
        "        print(\"Display method from class A\")\n",
        "\n",
        "class B(A):\n",
        "    def display(self):\n",
        "        print(\"Display method from class B\")\n",
        "\n",
        "class C(A):\n",
        "    def display(self):\n",
        "        print(\"Display method from class C\")\n",
        "\n",
        "class D(B, C):\n",
        "    pass\n",
        "\n",
        "d = D()\n",
        "d.display()"
      ],
      "metadata": {
        "colab": {
          "base_uri": "https://localhost:8080/"
        },
        "id": "FYwluXDve4uN",
        "outputId": "75bbd906-cac8-4bda-b8ee-8d807ae94c89"
      },
      "execution_count": 11,
      "outputs": [
        {
          "output_type": "stream",
          "name": "stdout",
          "text": [
            "Display method from class B\n"
          ]
        }
      ]
    },
    {
      "cell_type": "markdown",
      "source": [
        "14.Write a class method that keeps track of the number of instances created from a class."
      ],
      "metadata": {
        "id": "qAklOsIjfXH_"
      }
    },
    {
      "cell_type": "code",
      "source": [
        "\n",
        "class bharat:\n",
        "\n",
        "\tcounter = 0\n",
        "\n",
        "\tdef __init__(self):\n",
        "\n",
        "\t\tbharat.counter += 1\n",
        "\n",
        "b1 = bharat()\n",
        "b2 = bharat()\n",
        "b3 = bharat()\n",
        "print(bharat.counter)\n"
      ],
      "metadata": {
        "colab": {
          "base_uri": "https://localhost:8080/"
        },
        "id": "FCaPQh6vfX_x",
        "outputId": "5e75187a-709a-4b30-e06b-b0e245c22304"
      },
      "execution_count": 17,
      "outputs": [
        {
          "output_type": "stream",
          "name": "stdout",
          "text": [
            "3\n"
          ]
        }
      ]
    },
    {
      "cell_type": "markdown",
      "source": [
        "15. Implement a static method in a class that checks if a given year is a leap year."
      ],
      "metadata": {
        "id": "_wqSj0_lgaLT"
      }
    },
    {
      "cell_type": "code",
      "source": [
        "def is_leap_year_modulo(year):\n",
        "    return (year % 4 == 0 and year % 100 != 0) or (year % 400 == 0)\n",
        "\n",
        "# Example\n",
        "year_to_check = 2024\n",
        "result_modulo = is_leap_year_modulo(year_to_check)\n",
        "print(f\"{year_to_check} is a leap year: {result_modulo}\")\n"
      ],
      "metadata": {
        "colab": {
          "base_uri": "https://localhost:8080/"
        },
        "id": "QWZQdQY1gajx",
        "outputId": "3dae0468-6fff-4e6f-8ae9-d190c8ee96d3"
      },
      "execution_count": 18,
      "outputs": [
        {
          "output_type": "stream",
          "name": "stdout",
          "text": [
            "2024 is a leap year: True\n"
          ]
        }
      ]
    }
  ],
  "metadata": {
    "colab": {
      "toc_visible": true,
      "provenance": []
    },
    "kernelspec": {
      "display_name": "Python 3",
      "name": "python3"
    }
  },
  "nbformat": 4,
  "nbformat_minor": 0
}